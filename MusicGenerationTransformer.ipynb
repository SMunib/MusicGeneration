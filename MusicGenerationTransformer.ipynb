{
  "nbformat": 4,
  "nbformat_minor": 0,
  "metadata": {
    "colab": {
      "provenance": [],
      "gpuType": "T4"
    },
    "kernelspec": {
      "name": "python3",
      "display_name": "Python 3"
    },
    "language_info": {
      "name": "python"
    },
    "accelerator": "GPU"
  },
  "cells": [
    {
      "cell_type": "code",
      "execution_count": 2,
      "metadata": {
        "colab": {
          "base_uri": "https://localhost:8080/"
        },
        "id": "nQ5sDzoCl4uD",
        "outputId": "3d6bb500-da1c-4448-c6a0-b541bdcb5553"
      },
      "outputs": [
        {
          "output_type": "stream",
          "name": "stdout",
          "text": [
            "\n",
            "📁 Directory: maestro-v3.0.0/2004\n",
            "  └─ maestro-v3.0.0/2004/MIDI-Unprocessed_XP_08_R1_2004_01-02_ORIG_MID--AUDIO_08_R1_2004_01_Track01_wav.midi\n",
            "  └─ maestro-v3.0.0/2004/MIDI-Unprocessed_XP_09_R1_2004_05_ORIG_MID--AUDIO_09_R1_2004_06_Track06_wav.midi\n",
            "  └─ maestro-v3.0.0/2004/MIDI-Unprocessed_XP_14_R1_2004_01-03_ORIG_MID--AUDIO_14_R1_2004_01_Track01_wav.midi\n",
            "  └─ maestro-v3.0.0/2004/MIDI-Unprocessed_XP_01_R1_2004_01-02_ORIG_MID--AUDIO_01_R1_2004_03_Track03_wav.midi\n",
            "  └─ maestro-v3.0.0/2004/MIDI-Unprocessed_SMF_13_01_2004_01-05_ORIG_MID--AUDIO_13_R1_2004_09_Track09_wav.midi\n",
            "\n",
            "📁 Directory: maestro-v3.0.0/2011\n",
            "  └─ maestro-v3.0.0/2011/MIDI-Unprocessed_22_R2_2011_MID--AUDIO_R2-D5_11_Track11_wav.midi\n",
            "  └─ maestro-v3.0.0/2011/MIDI-Unprocessed_02_R1_2011_MID--AUDIO_R1-D1_09_Track09_wav.midi\n",
            "  └─ maestro-v3.0.0/2011/MIDI-Unprocessed_17_R1_2011_MID--AUDIO_R1-D7_03_Track03_wav.midi\n",
            "  └─ maestro-v3.0.0/2011/MIDI-Unprocessed_21_R1_2011_MID--AUDIO_R1-D8_09_Track09_wav.midi\n",
            "  └─ maestro-v3.0.0/2011/MIDI-Unprocessed_04_R3_2011_MID--AUDIO_R3-D2_03_Track03_wav.midi\n",
            "\n",
            "📁 Directory: maestro-v3.0.0/2006\n",
            "  └─ maestro-v3.0.0/2006/MIDI-Unprocessed_07_R1_2006_01-04_ORIG_MID--AUDIO_07_R1_2006_01_Track01_wav.midi\n",
            "  └─ maestro-v3.0.0/2006/MIDI-Unprocessed_16_R1_2006_01-04_ORIG_MID--AUDIO_16_R1_2006_02_Track02_wav.midi\n",
            "  └─ maestro-v3.0.0/2006/MIDI-Unprocessed_01_R1_2006_01-09_ORIG_MID--AUDIO_01_R1_2006_04_Track04_wav.midi\n",
            "  └─ maestro-v3.0.0/2006/MIDI-Unprocessed_18_R1_2006_01-05_ORIG_MID--AUDIO_18_R1_2006_01_Track01_wav.midi\n",
            "  └─ maestro-v3.0.0/2006/MIDI-Unprocessed_09_R2_2006_01_ORIG_MID--AUDIO_09_R2_2006_02_Track02_wav.midi\n",
            "\n",
            "📁 Directory: maestro-v3.0.0/2015\n",
            "  └─ maestro-v3.0.0/2015/MIDI-Unprocessed_R1_D1-1-8_mid--AUDIO-from_mp3_03_R1_2015_wav--1.midi\n",
            "  └─ maestro-v3.0.0/2015/MIDI-Unprocessed_R2_D2-12-13-15_mid--AUDIO-from_mp3_15_R2_2015_wav--2.midi\n",
            "  └─ maestro-v3.0.0/2015/MIDI-Unprocessed_R2_D2-19-21-22_mid--AUDIO-from_mp3_19_R2_2015_wav--2.midi\n",
            "  └─ maestro-v3.0.0/2015/MIDI-Unprocessed_R1_D1-9-12_mid--AUDIO-from_mp3_11_R1_2015_wav--2.midi\n",
            "  └─ maestro-v3.0.0/2015/MIDI-Unprocessed_R1_D2-13-20_mid--AUDIO-from_mp3_20_R1_2015_wav--4.midi\n",
            "\n",
            "📁 Directory: maestro-v3.0.0/2008\n",
            "  └─ maestro-v3.0.0/2008/MIDI-Unprocessed_03_R2_2008_01-03_ORIG_MID--AUDIO_03_R2_2008_wav--2.midi\n",
            "  └─ maestro-v3.0.0/2008/MIDI-Unprocessed_04_R3_2008_01-07_ORIG_MID--AUDIO_04_R3_2008_wav--5.midi\n",
            "  └─ maestro-v3.0.0/2008/MIDI-Unprocessed_07_R1_2008_01-04_ORIG_MID--AUDIO_07_R1_2008_wav--3.midi\n",
            "  └─ maestro-v3.0.0/2008/MIDI-Unprocessed_06_R1_2008_01-04_ORIG_MID--AUDIO_06_R1_2008_wav--2.midi\n",
            "  └─ maestro-v3.0.0/2008/MIDI-Unprocessed_06_R1_2008_01-04_ORIG_MID--AUDIO_06_R1_2008_wav--4.midi\n",
            "\n",
            "📁 Directory: maestro-v3.0.0/2017\n",
            "  └─ maestro-v3.0.0/2017/MIDI-Unprocessed_047_PIANO047_MID--AUDIO-split_07-06-17_Piano-e_2-04_wav--2.midi\n",
            "  └─ maestro-v3.0.0/2017/MIDI-Unprocessed_071_PIANO071_MID--AUDIO-split_07-08-17_Piano-e_1-04_wav--1.midi\n",
            "  └─ maestro-v3.0.0/2017/MIDI-Unprocessed_062_PIANO062_MID--AUDIO-split_07-07-17_Piano-e_2-07_wav--4.midi\n",
            "  └─ maestro-v3.0.0/2017/MIDI-Unprocessed_054_PIANO054_MID--AUDIO-split_07-07-17_Piano-e_1-02_wav--2.midi\n",
            "  └─ maestro-v3.0.0/2017/MIDI-Unprocessed_045_PIANO045_MID--AUDIO-split_07-06-17_Piano-e_2-01_wav--2.midi\n",
            "\n",
            "📁 Directory: maestro-v3.0.0/2018\n",
            "  └─ maestro-v3.0.0/2018/MIDI-Unprocessed_Recital9-11_MID--AUDIO_10_R1_2018_wav--1.midi\n",
            "  └─ maestro-v3.0.0/2018/MIDI-Unprocessed_Recital5-7_MID--AUDIO_05_R1_2018_wav--2.midi\n",
            "  └─ maestro-v3.0.0/2018/MIDI-Unprocessed_Chamber5_MID--AUDIO_18_R3_2018_wav--1.midi\n",
            "  └─ maestro-v3.0.0/2018/MIDI-Unprocessed_Schubert4-6_MID--AUDIO_08_R2_2018_wav.midi\n",
            "  └─ maestro-v3.0.0/2018/MIDI-Unprocessed_Recital17-19_MID--AUDIO_19_R1_2018_wav--1.midi\n",
            "\n",
            "📁 Directory: maestro-v3.0.0/2013\n",
            "  └─ maestro-v3.0.0/2013/ORIG-MIDI_02_7_8_13_Group__MID--AUDIO_12_R2_2013_wav--2.midi\n",
            "  └─ maestro-v3.0.0/2013/ORIG-MIDI_01_7_6_13_Group__MID--AUDIO_01_R1_2013_wav--3.midi\n",
            "  └─ maestro-v3.0.0/2013/ORIG-MIDI_03_7_8_13_Group__MID--AUDIO_18_R2_2013_wav--4.midi\n",
            "  └─ maestro-v3.0.0/2013/ORIG-MIDI_01_7_10_13_Group_MID--AUDIO_02_R3_2013_wav--1.midi\n",
            "  └─ maestro-v3.0.0/2013/ORIG-MIDI_02_7_6_13_Group__MID--AUDIO_05_R1_2013_wav--3.midi\n",
            "\n",
            "📁 Directory: maestro-v3.0.0/2014\n",
            "  └─ maestro-v3.0.0/2014/MIDI-UNPROCESSED_06-08_R1_2014_MID--AUDIO_07_R1_2014_wav--7.midi\n",
            "  └─ maestro-v3.0.0/2014/MIDI-UNPROCESSED_21-22_R1_2014_MID--AUDIO_22_R1_2014_wav--5.midi\n",
            "  └─ maestro-v3.0.0/2014/MIDI-UNPROCESSED_04-05_R1_2014_MID--AUDIO_05_R1_2014_wav--1.midi\n",
            "  └─ maestro-v3.0.0/2014/MIDI-UNPROCESSED_04-05_R1_2014_MID--AUDIO_05_R1_2014_wav--2.midi\n",
            "  └─ maestro-v3.0.0/2014/MIDI-UNPROCESSED_06-08_R1_2014_MID--AUDIO_07_R1_2014_wav--6.midi\n",
            "\n",
            "📁 Directory: maestro-v3.0.0\n",
            "  └─ maestro-v3.0.0/maestro-v3.0.0.json\n",
            "  └─ maestro-v3.0.0/LICENSE\n",
            "  └─ maestro-v3.0.0/maestro-v3.0.0.csv\n",
            "  └─ maestro-v3.0.0/README\n",
            "\n",
            "📁 Directory: maestro-v3.0.0/2009\n",
            "  └─ maestro-v3.0.0/2009/MIDI-Unprocessed_06_R1_2009_03-07_ORIG_MID--AUDIO_06_R1_2009_06_R1_2009_04_WAV.midi\n",
            "  └─ maestro-v3.0.0/2009/MIDI-Unprocessed_04_R1_2009_01-03_ORIG_MID--AUDIO_04_R1_2009_04_R1_2009_02_WAV.midi\n",
            "  └─ maestro-v3.0.0/2009/MIDI-Unprocessed_16_R1_2009_01-02_ORIG_MID--AUDIO_16_R1_2009_16_R1_2009_02_WAV.midi\n",
            "  └─ maestro-v3.0.0/2009/MIDI-Unprocessed_10_R2_2009_01_ORIG_MID--AUDIO_10_R2_2009_10_R2_2009_04_WAV.midi\n",
            "  └─ maestro-v3.0.0/2009/MIDI-Unprocessed_01_R1_2009_01-04_ORIG_MID--AUDIO_01_R1_2009_01_R1_2009_01_WAV.midi\n"
          ]
        }
      ],
      "source": [
        "import zipfile\n",
        "from collections import defaultdict\n",
        "\n",
        "def list_sampled_zip_contents(zip_path, max_files_per_dir=5):\n",
        "    with zipfile.ZipFile(zip_path, 'r') as zip_ref:\n",
        "        file_list = zip_ref.namelist()\n",
        "\n",
        "        # Group files by directory\n",
        "        files_by_dir = defaultdict(list)\n",
        "        for file in file_list:\n",
        "            if file.endswith('/'):\n",
        "                continue  # Skip folder entries\n",
        "            dir_path = '/'.join(file.split('/')[:-1])\n",
        "            files_by_dir[dir_path].append(file)\n",
        "\n",
        "        # Print up to `max_files_per_dir` per folder\n",
        "        for dir_path, files in files_by_dir.items():\n",
        "            print(f\"\\n📁 Directory: {dir_path or '[root]'}\")\n",
        "            for f in files[:max_files_per_dir]:\n",
        "                print(f\"  └─ {f}\")\n",
        "\n",
        "# Example usage\n",
        "list_sampled_zip_contents(\"maestro-v3.0.0-midi.zip\")\n"
      ]
    },
    {
      "cell_type": "code",
      "source": [
        "import zipfile\n",
        "import os\n",
        "\n",
        "# Define the path to the zip file and the extraction directory\n",
        "zip_file_path = \"maestro-v3.0.0-midi.zip\"\n",
        "extract_dir = \"maestro-v3.0.0\"\n",
        "\n",
        "# Unzip the file\n",
        "with zipfile.ZipFile(zip_file_path, 'r') as zip_ref:\n",
        "    zip_ref.extractall(extract_dir)\n",
        "\n",
        "print(f\"Extracted {zip_file_path} to {extract_dir}\")\n"
      ],
      "metadata": {
        "colab": {
          "base_uri": "https://localhost:8080/"
        },
        "id": "rCQC2iJHuYnI",
        "outputId": "e3e7208f-838d-4074-c883-d468e8baaec1"
      },
      "execution_count": 3,
      "outputs": [
        {
          "output_type": "stream",
          "name": "stdout",
          "text": [
            "Extracted maestro-v3.0.0-midi.zip to maestro-v3.0.0\n"
          ]
        }
      ]
    },
    {
      "cell_type": "code",
      "source": [
        "import pandas as pd\n",
        "\n",
        "# Load metadata CSV\n",
        "metadata_path = 'maestro-v3.0.0/maestro-v3.0.0/maestro-v3.0.0.csv'\n",
        "df = pd.read_csv(metadata_path)\n",
        "\n",
        "# Check structure\n",
        "df.head()\n"
      ],
      "metadata": {
        "colab": {
          "base_uri": "https://localhost:8080/",
          "height": 206
        },
        "id": "Hdu25IhVuc5t",
        "outputId": "bd6cc4bb-f3de-4d81-b28a-2c019b456ad0"
      },
      "execution_count": 4,
      "outputs": [
        {
          "output_type": "execute_result",
          "data": {
            "text/plain": [
              "   canonical_composer                canonical_title       split  year  \\\n",
              "0          Alban Berg                   Sonata Op. 1       train  2018   \n",
              "1          Alban Berg                   Sonata Op. 1       train  2008   \n",
              "2          Alban Berg                   Sonata Op. 1       train  2017   \n",
              "3  Alexander Scriabin  24 Preludes Op. 11, No. 13-24       train  2004   \n",
              "4  Alexander Scriabin               3 Etudes, Op. 65  validation  2006   \n",
              "\n",
              "                                       midi_filename  \\\n",
              "0  2018/MIDI-Unprocessed_Chamber3_MID--AUDIO_10_R...   \n",
              "1  2008/MIDI-Unprocessed_03_R2_2008_01-03_ORIG_MI...   \n",
              "2  2017/MIDI-Unprocessed_066_PIANO066_MID--AUDIO-...   \n",
              "3  2004/MIDI-Unprocessed_XP_21_R1_2004_01_ORIG_MI...   \n",
              "4  2006/MIDI-Unprocessed_17_R1_2006_01-06_ORIG_MI...   \n",
              "\n",
              "                                      audio_filename    duration  \n",
              "0  2018/MIDI-Unprocessed_Chamber3_MID--AUDIO_10_R...  698.661160  \n",
              "1  2008/MIDI-Unprocessed_03_R2_2008_01-03_ORIG_MI...  759.518471  \n",
              "2  2017/MIDI-Unprocessed_066_PIANO066_MID--AUDIO-...  464.649433  \n",
              "3  2004/MIDI-Unprocessed_XP_21_R1_2004_01_ORIG_MI...  872.640588  \n",
              "4  2006/MIDI-Unprocessed_17_R1_2006_01-06_ORIG_MI...  397.857508  "
            ],
            "text/html": [
              "\n",
              "  <div id=\"df-51ca78d3-8018-4b9c-a342-6a7d77a57fb4\" class=\"colab-df-container\">\n",
              "    <div>\n",
              "<style scoped>\n",
              "    .dataframe tbody tr th:only-of-type {\n",
              "        vertical-align: middle;\n",
              "    }\n",
              "\n",
              "    .dataframe tbody tr th {\n",
              "        vertical-align: top;\n",
              "    }\n",
              "\n",
              "    .dataframe thead th {\n",
              "        text-align: right;\n",
              "    }\n",
              "</style>\n",
              "<table border=\"1\" class=\"dataframe\">\n",
              "  <thead>\n",
              "    <tr style=\"text-align: right;\">\n",
              "      <th></th>\n",
              "      <th>canonical_composer</th>\n",
              "      <th>canonical_title</th>\n",
              "      <th>split</th>\n",
              "      <th>year</th>\n",
              "      <th>midi_filename</th>\n",
              "      <th>audio_filename</th>\n",
              "      <th>duration</th>\n",
              "    </tr>\n",
              "  </thead>\n",
              "  <tbody>\n",
              "    <tr>\n",
              "      <th>0</th>\n",
              "      <td>Alban Berg</td>\n",
              "      <td>Sonata Op. 1</td>\n",
              "      <td>train</td>\n",
              "      <td>2018</td>\n",
              "      <td>2018/MIDI-Unprocessed_Chamber3_MID--AUDIO_10_R...</td>\n",
              "      <td>2018/MIDI-Unprocessed_Chamber3_MID--AUDIO_10_R...</td>\n",
              "      <td>698.661160</td>\n",
              "    </tr>\n",
              "    <tr>\n",
              "      <th>1</th>\n",
              "      <td>Alban Berg</td>\n",
              "      <td>Sonata Op. 1</td>\n",
              "      <td>train</td>\n",
              "      <td>2008</td>\n",
              "      <td>2008/MIDI-Unprocessed_03_R2_2008_01-03_ORIG_MI...</td>\n",
              "      <td>2008/MIDI-Unprocessed_03_R2_2008_01-03_ORIG_MI...</td>\n",
              "      <td>759.518471</td>\n",
              "    </tr>\n",
              "    <tr>\n",
              "      <th>2</th>\n",
              "      <td>Alban Berg</td>\n",
              "      <td>Sonata Op. 1</td>\n",
              "      <td>train</td>\n",
              "      <td>2017</td>\n",
              "      <td>2017/MIDI-Unprocessed_066_PIANO066_MID--AUDIO-...</td>\n",
              "      <td>2017/MIDI-Unprocessed_066_PIANO066_MID--AUDIO-...</td>\n",
              "      <td>464.649433</td>\n",
              "    </tr>\n",
              "    <tr>\n",
              "      <th>3</th>\n",
              "      <td>Alexander Scriabin</td>\n",
              "      <td>24 Preludes Op. 11, No. 13-24</td>\n",
              "      <td>train</td>\n",
              "      <td>2004</td>\n",
              "      <td>2004/MIDI-Unprocessed_XP_21_R1_2004_01_ORIG_MI...</td>\n",
              "      <td>2004/MIDI-Unprocessed_XP_21_R1_2004_01_ORIG_MI...</td>\n",
              "      <td>872.640588</td>\n",
              "    </tr>\n",
              "    <tr>\n",
              "      <th>4</th>\n",
              "      <td>Alexander Scriabin</td>\n",
              "      <td>3 Etudes, Op. 65</td>\n",
              "      <td>validation</td>\n",
              "      <td>2006</td>\n",
              "      <td>2006/MIDI-Unprocessed_17_R1_2006_01-06_ORIG_MI...</td>\n",
              "      <td>2006/MIDI-Unprocessed_17_R1_2006_01-06_ORIG_MI...</td>\n",
              "      <td>397.857508</td>\n",
              "    </tr>\n",
              "  </tbody>\n",
              "</table>\n",
              "</div>\n",
              "    <div class=\"colab-df-buttons\">\n",
              "\n",
              "  <div class=\"colab-df-container\">\n",
              "    <button class=\"colab-df-convert\" onclick=\"convertToInteractive('df-51ca78d3-8018-4b9c-a342-6a7d77a57fb4')\"\n",
              "            title=\"Convert this dataframe to an interactive table.\"\n",
              "            style=\"display:none;\">\n",
              "\n",
              "  <svg xmlns=\"http://www.w3.org/2000/svg\" height=\"24px\" viewBox=\"0 -960 960 960\">\n",
              "    <path d=\"M120-120v-720h720v720H120Zm60-500h600v-160H180v160Zm220 220h160v-160H400v160Zm0 220h160v-160H400v160ZM180-400h160v-160H180v160Zm440 0h160v-160H620v160ZM180-180h160v-160H180v160Zm440 0h160v-160H620v160Z\"/>\n",
              "  </svg>\n",
              "    </button>\n",
              "\n",
              "  <style>\n",
              "    .colab-df-container {\n",
              "      display:flex;\n",
              "      gap: 12px;\n",
              "    }\n",
              "\n",
              "    .colab-df-convert {\n",
              "      background-color: #E8F0FE;\n",
              "      border: none;\n",
              "      border-radius: 50%;\n",
              "      cursor: pointer;\n",
              "      display: none;\n",
              "      fill: #1967D2;\n",
              "      height: 32px;\n",
              "      padding: 0 0 0 0;\n",
              "      width: 32px;\n",
              "    }\n",
              "\n",
              "    .colab-df-convert:hover {\n",
              "      background-color: #E2EBFA;\n",
              "      box-shadow: 0px 1px 2px rgba(60, 64, 67, 0.3), 0px 1px 3px 1px rgba(60, 64, 67, 0.15);\n",
              "      fill: #174EA6;\n",
              "    }\n",
              "\n",
              "    .colab-df-buttons div {\n",
              "      margin-bottom: 4px;\n",
              "    }\n",
              "\n",
              "    [theme=dark] .colab-df-convert {\n",
              "      background-color: #3B4455;\n",
              "      fill: #D2E3FC;\n",
              "    }\n",
              "\n",
              "    [theme=dark] .colab-df-convert:hover {\n",
              "      background-color: #434B5C;\n",
              "      box-shadow: 0px 1px 3px 1px rgba(0, 0, 0, 0.15);\n",
              "      filter: drop-shadow(0px 1px 2px rgba(0, 0, 0, 0.3));\n",
              "      fill: #FFFFFF;\n",
              "    }\n",
              "  </style>\n",
              "\n",
              "    <script>\n",
              "      const buttonEl =\n",
              "        document.querySelector('#df-51ca78d3-8018-4b9c-a342-6a7d77a57fb4 button.colab-df-convert');\n",
              "      buttonEl.style.display =\n",
              "        google.colab.kernel.accessAllowed ? 'block' : 'none';\n",
              "\n",
              "      async function convertToInteractive(key) {\n",
              "        const element = document.querySelector('#df-51ca78d3-8018-4b9c-a342-6a7d77a57fb4');\n",
              "        const dataTable =\n",
              "          await google.colab.kernel.invokeFunction('convertToInteractive',\n",
              "                                                    [key], {});\n",
              "        if (!dataTable) return;\n",
              "\n",
              "        const docLinkHtml = 'Like what you see? Visit the ' +\n",
              "          '<a target=\"_blank\" href=https://colab.research.google.com/notebooks/data_table.ipynb>data table notebook</a>'\n",
              "          + ' to learn more about interactive tables.';\n",
              "        element.innerHTML = '';\n",
              "        dataTable['output_type'] = 'display_data';\n",
              "        await google.colab.output.renderOutput(dataTable, element);\n",
              "        const docLink = document.createElement('div');\n",
              "        docLink.innerHTML = docLinkHtml;\n",
              "        element.appendChild(docLink);\n",
              "      }\n",
              "    </script>\n",
              "  </div>\n",
              "\n",
              "\n",
              "    <div id=\"df-e0ee3422-a931-45a4-9683-262b052a9527\">\n",
              "      <button class=\"colab-df-quickchart\" onclick=\"quickchart('df-e0ee3422-a931-45a4-9683-262b052a9527')\"\n",
              "                title=\"Suggest charts\"\n",
              "                style=\"display:none;\">\n",
              "\n",
              "<svg xmlns=\"http://www.w3.org/2000/svg\" height=\"24px\"viewBox=\"0 0 24 24\"\n",
              "     width=\"24px\">\n",
              "    <g>\n",
              "        <path d=\"M19 3H5c-1.1 0-2 .9-2 2v14c0 1.1.9 2 2 2h14c1.1 0 2-.9 2-2V5c0-1.1-.9-2-2-2zM9 17H7v-7h2v7zm4 0h-2V7h2v10zm4 0h-2v-4h2v4z\"/>\n",
              "    </g>\n",
              "</svg>\n",
              "      </button>\n",
              "\n",
              "<style>\n",
              "  .colab-df-quickchart {\n",
              "      --bg-color: #E8F0FE;\n",
              "      --fill-color: #1967D2;\n",
              "      --hover-bg-color: #E2EBFA;\n",
              "      --hover-fill-color: #174EA6;\n",
              "      --disabled-fill-color: #AAA;\n",
              "      --disabled-bg-color: #DDD;\n",
              "  }\n",
              "\n",
              "  [theme=dark] .colab-df-quickchart {\n",
              "      --bg-color: #3B4455;\n",
              "      --fill-color: #D2E3FC;\n",
              "      --hover-bg-color: #434B5C;\n",
              "      --hover-fill-color: #FFFFFF;\n",
              "      --disabled-bg-color: #3B4455;\n",
              "      --disabled-fill-color: #666;\n",
              "  }\n",
              "\n",
              "  .colab-df-quickchart {\n",
              "    background-color: var(--bg-color);\n",
              "    border: none;\n",
              "    border-radius: 50%;\n",
              "    cursor: pointer;\n",
              "    display: none;\n",
              "    fill: var(--fill-color);\n",
              "    height: 32px;\n",
              "    padding: 0;\n",
              "    width: 32px;\n",
              "  }\n",
              "\n",
              "  .colab-df-quickchart:hover {\n",
              "    background-color: var(--hover-bg-color);\n",
              "    box-shadow: 0 1px 2px rgba(60, 64, 67, 0.3), 0 1px 3px 1px rgba(60, 64, 67, 0.15);\n",
              "    fill: var(--button-hover-fill-color);\n",
              "  }\n",
              "\n",
              "  .colab-df-quickchart-complete:disabled,\n",
              "  .colab-df-quickchart-complete:disabled:hover {\n",
              "    background-color: var(--disabled-bg-color);\n",
              "    fill: var(--disabled-fill-color);\n",
              "    box-shadow: none;\n",
              "  }\n",
              "\n",
              "  .colab-df-spinner {\n",
              "    border: 2px solid var(--fill-color);\n",
              "    border-color: transparent;\n",
              "    border-bottom-color: var(--fill-color);\n",
              "    animation:\n",
              "      spin 1s steps(1) infinite;\n",
              "  }\n",
              "\n",
              "  @keyframes spin {\n",
              "    0% {\n",
              "      border-color: transparent;\n",
              "      border-bottom-color: var(--fill-color);\n",
              "      border-left-color: var(--fill-color);\n",
              "    }\n",
              "    20% {\n",
              "      border-color: transparent;\n",
              "      border-left-color: var(--fill-color);\n",
              "      border-top-color: var(--fill-color);\n",
              "    }\n",
              "    30% {\n",
              "      border-color: transparent;\n",
              "      border-left-color: var(--fill-color);\n",
              "      border-top-color: var(--fill-color);\n",
              "      border-right-color: var(--fill-color);\n",
              "    }\n",
              "    40% {\n",
              "      border-color: transparent;\n",
              "      border-right-color: var(--fill-color);\n",
              "      border-top-color: var(--fill-color);\n",
              "    }\n",
              "    60% {\n",
              "      border-color: transparent;\n",
              "      border-right-color: var(--fill-color);\n",
              "    }\n",
              "    80% {\n",
              "      border-color: transparent;\n",
              "      border-right-color: var(--fill-color);\n",
              "      border-bottom-color: var(--fill-color);\n",
              "    }\n",
              "    90% {\n",
              "      border-color: transparent;\n",
              "      border-bottom-color: var(--fill-color);\n",
              "    }\n",
              "  }\n",
              "</style>\n",
              "\n",
              "      <script>\n",
              "        async function quickchart(key) {\n",
              "          const quickchartButtonEl =\n",
              "            document.querySelector('#' + key + ' button');\n",
              "          quickchartButtonEl.disabled = true;  // To prevent multiple clicks.\n",
              "          quickchartButtonEl.classList.add('colab-df-spinner');\n",
              "          try {\n",
              "            const charts = await google.colab.kernel.invokeFunction(\n",
              "                'suggestCharts', [key], {});\n",
              "          } catch (error) {\n",
              "            console.error('Error during call to suggestCharts:', error);\n",
              "          }\n",
              "          quickchartButtonEl.classList.remove('colab-df-spinner');\n",
              "          quickchartButtonEl.classList.add('colab-df-quickchart-complete');\n",
              "        }\n",
              "        (() => {\n",
              "          let quickchartButtonEl =\n",
              "            document.querySelector('#df-e0ee3422-a931-45a4-9683-262b052a9527 button');\n",
              "          quickchartButtonEl.style.display =\n",
              "            google.colab.kernel.accessAllowed ? 'block' : 'none';\n",
              "        })();\n",
              "      </script>\n",
              "    </div>\n",
              "\n",
              "    </div>\n",
              "  </div>\n"
            ],
            "application/vnd.google.colaboratory.intrinsic+json": {
              "type": "dataframe",
              "variable_name": "df",
              "summary": "{\n  \"name\": \"df\",\n  \"rows\": 1276,\n  \"fields\": [\n    {\n      \"column\": \"canonical_composer\",\n      \"properties\": {\n        \"dtype\": \"category\",\n        \"num_unique_values\": 60,\n        \"samples\": [\n          \"Alban Berg\",\n          \"Claude Debussy\",\n          \"Johann Strauss / Alfred Gr\\u00fcnfeld\"\n        ],\n        \"semantic_type\": \"\",\n        \"description\": \"\"\n      }\n    },\n    {\n      \"column\": \"canonical_title\",\n      \"properties\": {\n        \"dtype\": \"string\",\n        \"num_unique_values\": 854,\n        \"samples\": [\n          \"Preludes, Book II, L 123, IV. \\u00abLes f\\u00e9es sont d'exquises danseuses\\u00bb\",\n          \"Evocacion from \\\"Iberia\\\"\",\n          \"Tristan and Isolde - Liebestod, S.447\"\n        ],\n        \"semantic_type\": \"\",\n        \"description\": \"\"\n      }\n    },\n    {\n      \"column\": \"split\",\n      \"properties\": {\n        \"dtype\": \"category\",\n        \"num_unique_values\": 3,\n        \"samples\": [\n          \"train\",\n          \"validation\",\n          \"test\"\n        ],\n        \"semantic_type\": \"\",\n        \"description\": \"\"\n      }\n    },\n    {\n      \"column\": \"year\",\n      \"properties\": {\n        \"dtype\": \"number\",\n        \"std\": 4,\n        \"min\": 2004,\n        \"max\": 2018,\n        \"num_unique_values\": 10,\n        \"samples\": [\n          2014,\n          2008,\n          2009\n        ],\n        \"semantic_type\": \"\",\n        \"description\": \"\"\n      }\n    },\n    {\n      \"column\": \"midi_filename\",\n      \"properties\": {\n        \"dtype\": \"string\",\n        \"num_unique_values\": 1276,\n        \"samples\": [\n          \"2009/MIDI-Unprocessed_14_R1_2009_01-05_ORIG_MID--AUDIO_14_R1_2009_14_R1_2009_03_WAV.midi\",\n          \"2009/MIDI-Unprocessed_11_R1_2009_01-05_ORIG_MID--AUDIO_11_R1_2009_11_R1_2009_03_WAV.midi\",\n          \"2014/MIDI-UNPROCESSED_06-08_R1_2014_MID--AUDIO_07_R1_2014_wav--5.midi\"\n        ],\n        \"semantic_type\": \"\",\n        \"description\": \"\"\n      }\n    },\n    {\n      \"column\": \"audio_filename\",\n      \"properties\": {\n        \"dtype\": \"string\",\n        \"num_unique_values\": 1276,\n        \"samples\": [\n          \"2009/MIDI-Unprocessed_14_R1_2009_01-05_ORIG_MID--AUDIO_14_R1_2009_14_R1_2009_03_WAV.wav\",\n          \"2009/MIDI-Unprocessed_11_R1_2009_01-05_ORIG_MID--AUDIO_11_R1_2009_11_R1_2009_03_WAV.wav\",\n          \"2014/MIDI-UNPROCESSED_06-08_R1_2014_MID--AUDIO_07_R1_2014_wav--5.wav\"\n        ],\n        \"semantic_type\": \"\",\n        \"description\": \"\"\n      }\n    },\n    {\n      \"column\": \"duration\",\n      \"properties\": {\n        \"dtype\": \"number\",\n        \"std\": 443.05743085954214,\n        \"min\": 45.1552083333,\n        \"max\": 2624.66350781,\n        \"num_unique_values\": 1275,\n        \"samples\": [\n          321.438154319,\n          112.872916667,\n          581.174502658\n        ],\n        \"semantic_type\": \"\",\n        \"description\": \"\"\n      }\n    }\n  ]\n}"
            }
          },
          "metadata": {},
          "execution_count": 4
        }
      ]
    },
    {
      "cell_type": "code",
      "source": [
        "# Split the dataset\n",
        "train_df = df[df['split'] == 'train']\n",
        "val_df = df[df['split'] == 'validation']\n",
        "test_df = df[df['split'] == 'test']\n"
      ],
      "metadata": {
        "id": "88N5t3ZEwqot"
      },
      "execution_count": 5,
      "outputs": []
    },
    {
      "cell_type": "code",
      "source": [
        "pip install miditok\n"
      ],
      "metadata": {
        "colab": {
          "base_uri": "https://localhost:8080/"
        },
        "id": "2TwXaxEfw9Ye",
        "outputId": "a81ebc39-0f65-4a9a-a671-447a3260dd59"
      },
      "execution_count": 6,
      "outputs": [
        {
          "output_type": "stream",
          "name": "stdout",
          "text": [
            "Collecting miditok\n",
            "  Downloading miditok-3.0.5.post1-py3-none-any.whl.metadata (10 kB)\n",
            "Requirement already satisfied: huggingface-hub>=0.16.4 in /usr/local/lib/python3.11/dist-packages (from miditok) (0.30.2)\n",
            "Requirement already satisfied: numpy>=1.19 in /usr/local/lib/python3.11/dist-packages (from miditok) (2.0.2)\n",
            "Collecting symusic>=0.5.0 (from miditok)\n",
            "  Downloading symusic-0.5.7-cp311-cp311-manylinux_2_27_x86_64.manylinux_2_28_x86_64.whl.metadata (8.7 kB)\n",
            "Requirement already satisfied: tokenizers>=0.13.0 in /usr/local/lib/python3.11/dist-packages (from miditok) (0.21.1)\n",
            "Requirement already satisfied: tqdm in /usr/local/lib/python3.11/dist-packages (from miditok) (4.67.1)\n",
            "Requirement already satisfied: filelock in /usr/local/lib/python3.11/dist-packages (from huggingface-hub>=0.16.4->miditok) (3.18.0)\n",
            "Requirement already satisfied: fsspec>=2023.5.0 in /usr/local/lib/python3.11/dist-packages (from huggingface-hub>=0.16.4->miditok) (2025.3.2)\n",
            "Requirement already satisfied: packaging>=20.9 in /usr/local/lib/python3.11/dist-packages (from huggingface-hub>=0.16.4->miditok) (24.2)\n",
            "Requirement already satisfied: pyyaml>=5.1 in /usr/local/lib/python3.11/dist-packages (from huggingface-hub>=0.16.4->miditok) (6.0.2)\n",
            "Requirement already satisfied: requests in /usr/local/lib/python3.11/dist-packages (from huggingface-hub>=0.16.4->miditok) (2.32.3)\n",
            "Requirement already satisfied: typing-extensions>=3.7.4.3 in /usr/local/lib/python3.11/dist-packages (from huggingface-hub>=0.16.4->miditok) (4.13.2)\n",
            "Collecting pySmartDL (from symusic>=0.5.0->miditok)\n",
            "  Downloading pySmartDL-1.3.4-py3-none-any.whl.metadata (2.8 kB)\n",
            "Requirement already satisfied: platformdirs in /usr/local/lib/python3.11/dist-packages (from symusic>=0.5.0->miditok) (4.3.7)\n",
            "Requirement already satisfied: charset-normalizer<4,>=2 in /usr/local/lib/python3.11/dist-packages (from requests->huggingface-hub>=0.16.4->miditok) (3.4.1)\n",
            "Requirement already satisfied: idna<4,>=2.5 in /usr/local/lib/python3.11/dist-packages (from requests->huggingface-hub>=0.16.4->miditok) (3.10)\n",
            "Requirement already satisfied: urllib3<3,>=1.21.1 in /usr/local/lib/python3.11/dist-packages (from requests->huggingface-hub>=0.16.4->miditok) (2.4.0)\n",
            "Requirement already satisfied: certifi>=2017.4.17 in /usr/local/lib/python3.11/dist-packages (from requests->huggingface-hub>=0.16.4->miditok) (2025.4.26)\n",
            "Downloading miditok-3.0.5.post1-py3-none-any.whl (158 kB)\n",
            "\u001b[2K   \u001b[90m━━━━━━━━━━━━━━━━━━━━━━━━━━━━━━━━━━━━━━━━\u001b[0m \u001b[32m158.3/158.3 kB\u001b[0m \u001b[31m15.0 MB/s\u001b[0m eta \u001b[36m0:00:00\u001b[0m\n",
            "\u001b[?25hDownloading symusic-0.5.7-cp311-cp311-manylinux_2_27_x86_64.manylinux_2_28_x86_64.whl (2.5 MB)\n",
            "\u001b[2K   \u001b[90m━━━━━━━━━━━━━━━━━━━━━━━━━━━━━━━━━━━━━━━━\u001b[0m \u001b[32m2.5/2.5 MB\u001b[0m \u001b[31m92.5 MB/s\u001b[0m eta \u001b[36m0:00:00\u001b[0m\n",
            "\u001b[?25hDownloading pySmartDL-1.3.4-py3-none-any.whl (20 kB)\n",
            "Installing collected packages: pySmartDL, symusic, miditok\n",
            "Successfully installed miditok-3.0.5.post1 pySmartDL-1.3.4 symusic-0.5.7\n"
          ]
        }
      ]
    },
    {
      "cell_type": "code",
      "source": [
        "from miditok import REMI\n",
        "from pathlib import Path\n",
        "\n",
        "tokenizer = REMI()\n",
        "tokenized_out = Path(\"maestro-tokenized/train\")\n",
        "tokenized_out.mkdir(parents=True, exist_ok=True)\n",
        "\n",
        "midi_root = Path(\"maestro-v3.0.0/maestro-v3.0.0\")\n",
        "subdirectories = [folder for folder in midi_root.iterdir() if folder.is_dir()]\n",
        "\n",
        "midi_paths = []\n",
        "\n",
        "for subdir in subdirectories:\n",
        "    for midi_file in subdir.glob(\"*.midi\"):\n",
        "        if midi_file.exists():\n",
        "            midi_paths.append(midi_file)\n",
        "        else:\n",
        "            print(f\"Skipped (file not found): {midi_file}\")\n",
        "\n",
        "for midi_path in midi_paths:\n",
        "    try:\n",
        "        encoded = tokenizer.encode(midi_path)\n",
        "\n",
        "        if isinstance(encoded, list):\n",
        "            for i, tokens in enumerate(encoded):\n",
        "                out_path = tokenized_out / f\"{midi_path.stem}_track{i}.json\"\n",
        "                tokenizer.save_tokens(tokens, out_path)\n",
        "        else:\n",
        "            out_path = tokenized_out / f\"{midi_path.stem}.json\"\n",
        "            tokenizer.save_tokens(encoded, out_path)\n",
        "\n",
        "    except Exception as e:\n",
        "        print(f\"Failed to tokenize {midi_path.name}: {e}\")\n"
      ],
      "metadata": {
        "id": "xrj4GDT_yGWb"
      },
      "execution_count": 7,
      "outputs": []
    },
    {
      "cell_type": "code",
      "source": [
        "from pathlib import Path\n",
        "import json\n",
        "\n",
        "tokenized_dir = Path(\"maestro-tokenized/train\")\n",
        "token_files = list(tokenized_dir.glob(\"*.json\"))\n",
        "\n",
        "print(f\"✅ Total encoded files found: {len(token_files)}\\n\")\n",
        "\n",
        "# Optionally, print a few sample filenames and their token count\n",
        "for tf in token_files[:5]:  # limit to first 5 for preview\n",
        "    try:\n",
        "        with open(tf, 'r') as f:\n",
        "            data = json.load(f)\n",
        "        print(f\"{tf.name}: {len(data.get('ids', [])) if 'ids' in data else 'No ids'} tokens\")\n",
        "    except Exception as e:\n",
        "        print(f\"❌ Error reading {tf.name}: {e}\")\n"
      ],
      "metadata": {
        "colab": {
          "base_uri": "https://localhost:8080/"
        },
        "id": "x8IqMHU3-v3R",
        "outputId": "9c52d09d-2f0a-4a9e-f73c-43d678a5e316"
      },
      "execution_count": 8,
      "outputs": [
        {
          "output_type": "stream",
          "name": "stdout",
          "text": [
            "✅ Total encoded files found: 1276\n",
            "\n",
            "MIDI-Unprocessed_01_R2_2006_01_ORIG_MID--AUDIO_01_R2_2006_03_Track03_wav_track0.json: 32035 tokens\n",
            "MIDI-Unprocessed_XP_03_R1_2004_01-02_ORIG_MID--AUDIO_03_R1_2004_02_Track02_wav_track0.json: 58643 tokens\n",
            "MIDI-Unprocessed_R1_D2-13-20_mid--AUDIO-from_mp3_13_R1_2015_wav--2_track0.json: 14384 tokens\n",
            "MIDI-Unprocessed_02_R1_2011_MID--AUDIO_R1-D1_08_Track08_wav_track0.json: 11589 tokens\n",
            "MIDI-Unprocessed_Schubert4-6_MID--AUDIO_10_R2_2018_wav_track0.json: 78372 tokens\n"
          ]
        }
      ]
    },
    {
      "cell_type": "code",
      "source": [
        "import json\n",
        "import torch\n",
        "from torch.utils.data import Dataset\n",
        "import random\n",
        "\n",
        "class SafeMIDITokenDataset(Dataset):\n",
        "    def __init__(self, json_paths, max_seq_len=1024):\n",
        "        self.json_paths = json_paths\n",
        "        self.max_seq_len = max_seq_len\n",
        "\n",
        "    def __len__(self):\n",
        "        return 10000  # Arbitrary, acts like an infinite stream\n",
        "\n",
        "    def __getitem__(self, idx):\n",
        "        while True:\n",
        "            path = random.choice(self.json_paths)\n",
        "            try:\n",
        "                with open(path) as f:\n",
        "                    tokens = json.load(f).get(\"ids\", [])\n",
        "\n",
        "                if len(tokens) > self.max_seq_len + 1:\n",
        "                    offset = random.randint(0, len(tokens) - self.max_seq_len - 1)\n",
        "                    input_seq = tokens[offset : offset + self.max_seq_len]\n",
        "                    target_seq = tokens[offset + 1 : offset + self.max_seq_len + 1]\n",
        "                    return torch.tensor(input_seq), torch.tensor(target_seq)\n",
        "            except Exception as e:\n",
        "                print(f\"Skipping {path}: {e}\")\n"
      ],
      "metadata": {
        "id": "6roxoWXaHJrl"
      },
      "execution_count": 9,
      "outputs": []
    },
    {
      "cell_type": "code",
      "source": [
        "from torch.utils.data import DataLoader\n",
        "\n",
        "train_dataset = SafeMIDITokenDataset(token_files, max_seq_len=512)\n",
        "train_loader = DataLoader(train_dataset, batch_size=4, shuffle=True, num_workers=0)\n"
      ],
      "metadata": {
        "id": "t3RHP-0MM5ZA"
      },
      "execution_count": 10,
      "outputs": []
    },
    {
      "cell_type": "code",
      "source": [
        "import torch\n",
        "import torch.nn as nn\n",
        "\n",
        "class PositionalEncoding(nn.Module):\n",
        "    def __init__(self, d_model, max_len=2048):\n",
        "        super().__init__()\n",
        "        self.pe = nn.Parameter(torch.zeros(1, max_len, d_model))\n",
        "        nn.init.normal_(self.pe, mean=0, std=0.02)  # Learnable init\n",
        "\n",
        "    def forward(self, x):\n",
        "        return x + self.pe[:, :x.size(1)]\n",
        "\n",
        "class MusicTransformer(nn.Module):\n",
        "    def __init__(self, vocab_size, d_model=512, nhead=8, num_layers=6, dim_feedforward=2048, dropout=0.1):\n",
        "        super().__init__()\n",
        "        self.embedding = nn.Embedding(vocab_size, d_model)\n",
        "        self.pos_encoder = PositionalEncoding(d_model)\n",
        "\n",
        "        encoder_layer = nn.TransformerEncoderLayer(d_model, nhead, dim_feedforward, dropout=dropout)\n",
        "        self.transformer = nn.TransformerEncoder(encoder_layer, num_layers)\n",
        "\n",
        "        self.norm = nn.LayerNorm(d_model)\n",
        "        self.dropout = nn.Dropout(dropout)\n",
        "\n",
        "        self.fc_out = nn.Sequential(\n",
        "            nn.Linear(d_model, d_model),\n",
        "            nn.ReLU(),\n",
        "            nn.Linear(d_model, vocab_size)\n",
        "        )\n",
        "\n",
        "    def forward(self, src):\n",
        "        src = self.embedding(src)\n",
        "        src = self.dropout(src)\n",
        "        src = self.pos_encoder(src)\n",
        "        src = self.norm(src)\n",
        "\n",
        "        out = self.transformer(src)\n",
        "        out = self.norm(out)\n",
        "\n",
        "        return self.fc_out(out)\n"
      ],
      "metadata": {
        "id": "2OZ8QWpmPTUa"
      },
      "execution_count": 11,
      "outputs": []
    },
    {
      "cell_type": "code",
      "source": [
        "vocab_size = tokenizer.vocab_size\n",
        "model = MusicTransformer(vocab_size).cuda()\n"
      ],
      "metadata": {
        "colab": {
          "base_uri": "https://localhost:8080/"
        },
        "id": "xIsBBeaBPVfJ",
        "outputId": "447a345c-d06b-4fbf-ef3a-88f03336a20d"
      },
      "execution_count": 12,
      "outputs": [
        {
          "output_type": "stream",
          "name": "stderr",
          "text": [
            "/usr/local/lib/python3.11/dist-packages/torch/nn/modules/transformer.py:385: UserWarning: enable_nested_tensor is True, but self.use_nested_tensor is False because encoder_layer.self_attn.batch_first was not True(use batch_first for better inference performance)\n",
            "  warnings.warn(\n"
          ]
        }
      ]
    },
    {
      "cell_type": "code",
      "source": [
        "import torch.optim as optim\n",
        "\n",
        "criterion = nn.CrossEntropyLoss()\n",
        "optimizer = optim.Adam(model.parameters(), lr=1e-4)\n",
        "\n",
        "def train_one_epoch():\n",
        "    model.train()\n",
        "    total_loss = 0\n",
        "    for x, y in train_loader:\n",
        "        x, y = x.cuda(), y.cuda()\n",
        "        optimizer.zero_grad()\n",
        "        output = model(x)\n",
        "        loss = criterion(output.view(-1, vocab_size), y.view(-1))\n",
        "        loss.backward()\n",
        "        optimizer.step()\n",
        "        total_loss += loss.item()\n",
        "    print(f\"Train Loss: {total_loss/len(train_loader):.4f}\")\n"
      ],
      "metadata": {
        "id": "PDoCa7FURGvG"
      },
      "execution_count": 13,
      "outputs": []
    },
    {
      "cell_type": "code",
      "source": [
        "for epoch in range(20):\n",
        "    print(f\"Epoch {epoch+1}\")\n",
        "    train_one_epoch()\n"
      ],
      "metadata": {
        "colab": {
          "base_uri": "https://localhost:8080/"
        },
        "id": "ETyXfLAzRWr0",
        "outputId": "34b58d99-7e6e-4a3e-bb7d-4941c3396b5c"
      },
      "execution_count": 14,
      "outputs": [
        {
          "output_type": "stream",
          "name": "stdout",
          "text": [
            "Epoch 1\n",
            "Train Loss: 3.2334\n",
            "Epoch 2\n",
            "Train Loss: 3.1766\n",
            "Epoch 3\n",
            "Train Loss: 3.1752\n",
            "Epoch 4\n",
            "Train Loss: 3.1722\n",
            "Epoch 5\n",
            "Train Loss: 3.1728\n",
            "Epoch 6\n",
            "Train Loss: 3.1734\n",
            "Epoch 7\n",
            "Train Loss: 3.1718\n",
            "Epoch 8\n",
            "Train Loss: 3.1691\n",
            "Epoch 9\n",
            "Train Loss: 3.1658\n",
            "Epoch 10\n",
            "Train Loss: 3.1710\n",
            "Epoch 11\n",
            "Train Loss: 3.1714\n",
            "Epoch 12\n",
            "Train Loss: 3.1711\n",
            "Epoch 13\n",
            "Train Loss: 3.1739\n",
            "Epoch 14\n",
            "Train Loss: 3.1668\n",
            "Epoch 15\n",
            "Train Loss: 3.1711\n",
            "Epoch 16\n",
            "Train Loss: 3.1694\n",
            "Epoch 17\n",
            "Train Loss: 3.1678\n",
            "Epoch 18\n",
            "Train Loss: 3.1696\n",
            "Epoch 19\n",
            "Train Loss: 3.1721\n",
            "Epoch 20\n",
            "Train Loss: 3.1687\n"
          ]
        }
      ]
    },
    {
      "cell_type": "code",
      "source": [
        "import torch\n",
        "\n",
        "def top_k_logits(logits, k):\n",
        "    \"\"\"Apply top-k filtering to logits.\"\"\"\n",
        "    values, indices = torch.topk(logits, k)\n",
        "    mask = logits < values[..., -1, None]\n",
        "    logits[mask] = float('-inf')\n",
        "    return logits\n",
        "\n",
        "def generate_tokens(\n",
        "    model,\n",
        "    tokenizer,\n",
        "    max_length=1024,\n",
        "    temperature=1.0,\n",
        "    top_k=20,\n",
        "    start_token=None,\n",
        "    device='cuda'\n",
        "):\n",
        "    model.eval()\n",
        "    start_token_id = start_token if start_token is not None else tokenizer.vocab.get('Bar_None')\n",
        "    if start_token_id is None:\n",
        "        raise ValueError(\"'Bar_None' not found in tokenizer vocab and no start_token provided.\")\n",
        "\n",
        "    generated = [start_token_id]\n",
        "    input_tensor = torch.tensor([generated], dtype=torch.long).to(device)\n",
        "\n",
        "    for _ in range(max_length):\n",
        "        with torch.no_grad():\n",
        "            output = model(input_tensor)\n",
        "            logits = output[0] if isinstance(output, tuple) else output\n",
        "\n",
        "            if logits.dim() == 3:\n",
        "                logits = logits[:, -1, :]  # shape: [1, vocab]\n",
        "            logits = logits / temperature\n",
        "\n",
        "            # Top-k sampling\n",
        "            if top_k > 0:\n",
        "                logits = top_k_logits(logits, k=top_k)\n",
        "\n",
        "            probs = torch.softmax(logits, dim=-1)\n",
        "            next_token = torch.multinomial(probs, num_samples=1).item()\n",
        "\n",
        "        generated.append(next_token)\n",
        "\n",
        "        # Prepare context window\n",
        "        context = generated[-tokenizer.max_seq_len:] if hasattr(tokenizer, \"max_seq_len\") else generated\n",
        "        input_tensor = torch.tensor([context], dtype=torch.long).to(device)\n",
        "\n",
        "        # Optional early stop\n",
        "        if next_token == tokenizer.vocab.get(\"EndOfTrack\", -1):\n",
        "            break\n",
        "\n",
        "    return generated\n"
      ],
      "metadata": {
        "id": "4M-RQ5zrFw4g"
      },
      "execution_count": 15,
      "outputs": []
    },
    {
      "cell_type": "code",
      "source": [
        "!pip install miditoolkit\n"
      ],
      "metadata": {
        "colab": {
          "base_uri": "https://localhost:8080/"
        },
        "id": "gUwRTfoYNy8j",
        "outputId": "c5cb6444-ed2d-47b4-f0fb-1150bea0d46e"
      },
      "execution_count": 16,
      "outputs": [
        {
          "output_type": "stream",
          "name": "stdout",
          "text": [
            "Collecting miditoolkit\n",
            "  Downloading miditoolkit-1.0.1-py3-none-any.whl.metadata (4.9 kB)\n",
            "Requirement already satisfied: matplotlib in /usr/local/lib/python3.11/dist-packages (from miditoolkit) (3.10.0)\n",
            "Collecting mido>=1.1.16 (from miditoolkit)\n",
            "  Downloading mido-1.3.3-py3-none-any.whl.metadata (6.4 kB)\n",
            "Requirement already satisfied: numpy>=1.19 in /usr/local/lib/python3.11/dist-packages (from miditoolkit) (2.0.2)\n",
            "Requirement already satisfied: packaging in /usr/local/lib/python3.11/dist-packages (from mido>=1.1.16->miditoolkit) (24.2)\n",
            "Requirement already satisfied: contourpy>=1.0.1 in /usr/local/lib/python3.11/dist-packages (from matplotlib->miditoolkit) (1.3.2)\n",
            "Requirement already satisfied: cycler>=0.10 in /usr/local/lib/python3.11/dist-packages (from matplotlib->miditoolkit) (0.12.1)\n",
            "Requirement already satisfied: fonttools>=4.22.0 in /usr/local/lib/python3.11/dist-packages (from matplotlib->miditoolkit) (4.57.0)\n",
            "Requirement already satisfied: kiwisolver>=1.3.1 in /usr/local/lib/python3.11/dist-packages (from matplotlib->miditoolkit) (1.4.8)\n",
            "Requirement already satisfied: pillow>=8 in /usr/local/lib/python3.11/dist-packages (from matplotlib->miditoolkit) (11.2.1)\n",
            "Requirement already satisfied: pyparsing>=2.3.1 in /usr/local/lib/python3.11/dist-packages (from matplotlib->miditoolkit) (3.2.3)\n",
            "Requirement already satisfied: python-dateutil>=2.7 in /usr/local/lib/python3.11/dist-packages (from matplotlib->miditoolkit) (2.9.0.post0)\n",
            "Requirement already satisfied: six>=1.5 in /usr/local/lib/python3.11/dist-packages (from python-dateutil>=2.7->matplotlib->miditoolkit) (1.17.0)\n",
            "Downloading miditoolkit-1.0.1-py3-none-any.whl (24 kB)\n",
            "Downloading mido-1.3.3-py3-none-any.whl (54 kB)\n",
            "\u001b[2K   \u001b[90m━━━━━━━━━━━━━━━━━━━━━━━━━━━━━━━━━━━━━━━━\u001b[0m \u001b[32m54.6/54.6 kB\u001b[0m \u001b[31m5.4 MB/s\u001b[0m eta \u001b[36m0:00:00\u001b[0m\n",
            "\u001b[?25hInstalling collected packages: mido, miditoolkit\n",
            "Successfully installed miditoolkit-1.0.1 mido-1.3.3\n"
          ]
        }
      ]
    },
    {
      "cell_type": "code",
      "source": [
        "def tokens_to_midi(token_ids, tokenizer, output_midi_path):\n",
        "    import mido\n",
        "    from mido import MidiFile, MidiTrack, Message, MetaMessage\n",
        "\n",
        "    id_to_token = {v: k for k, v in tokenizer.vocab.items()}\n",
        "    tokens = [id_to_token[i] for i in token_ids]\n",
        "\n",
        "    midi = MidiFile(ticks_per_beat=480)\n",
        "    track = MidiTrack()\n",
        "    midi.tracks.append(track)\n",
        "    track.append(MetaMessage('set_tempo', tempo=mido.bpm2tempo(120)))\n",
        "\n",
        "    time_per_tick = 1  # this will be scaled later\n",
        "    abs_time = 0\n",
        "    current_position = 0\n",
        "    note_buffer = []\n",
        "\n",
        "    i = 0\n",
        "    while i < len(tokens):\n",
        "        token = tokens[i]\n",
        "\n",
        "        if token.startswith(\"Bar\"):\n",
        "            current_position = 0\n",
        "\n",
        "        elif token.startswith(\"Position_\"):\n",
        "            current_position = int(token.split(\"_\")[1])\n",
        "\n",
        "        elif token.startswith(\"Pitch_\"):\n",
        "            pitch = int(token.split(\"_\")[1])\n",
        "            if (i + 2) < len(tokens) and tokens[i+1].startswith(\"Velocity_\") and tokens[i+2].startswith(\"Duration_\"):\n",
        "                velocity = int(tokens[i+1].split(\"_\")[1])\n",
        "                duration_str = tokens[i+2].split(\"_\")[1]\n",
        "                # convert Duration_0.2.8 to ticks\n",
        "                beats = [int(x) for x in duration_str.split(\".\")]\n",
        "                duration_ticks = (\n",
        "                    beats[0] * 480 +\n",
        "                    beats[1] * (480 // 4) +\n",
        "                    beats[2] * (480 // 16)\n",
        "                )\n",
        "                # Note ON\n",
        "                track.append(Message('note_on', note=pitch, velocity=velocity, time=abs_time))\n",
        "                # Note OFF after duration\n",
        "                track.append(Message('note_off', note=pitch, velocity=velocity, time=duration_ticks))\n",
        "                abs_time = 0  # reset time since we already added it\n",
        "\n",
        "                i += 2  # skip velocity and duration\n",
        "\n",
        "        i += 1\n",
        "\n",
        "    midi.save(output_midi_path)\n"
      ],
      "metadata": {
        "id": "zicW8rDvGIoK"
      },
      "execution_count": 17,
      "outputs": []
    },
    {
      "cell_type": "code",
      "source": [
        "# Generation\n",
        "device = 'cuda' if torch.cuda.is_available() else 'cpu'\n",
        "gen_ids = generate_tokens(model, tokenizer, max_length=2048, temperature=1.0, device=device)\n",
        "\n"
      ],
      "metadata": {
        "id": "3Yl771exGfcv"
      },
      "execution_count": 18,
      "outputs": []
    },
    {
      "cell_type": "code",
      "source": [
        "print(\"Generated Token IDs:\", gen_ids)"
      ],
      "metadata": {
        "colab": {
          "base_uri": "https://localhost:8080/"
        },
        "id": "MSS751aORYzB",
        "outputId": "88e84fb1-189c-4d2f-ba7a-cff0553c1b94"
      },
      "execution_count": 19,
      "outputs": [
        {
          "metadata": {
            "tags": null
          },
          "name": "stdout",
          "output_type": "stream",
          "text": [
            "Generated Token IDs: [4, 190, 43, 107, 130, 201, 56, 107, 125, 218, 49, 106, 125, 203, 49, 108, 125, 218, 46, 109, 127, 4, 190, 50, 108, 125, 215, 51, 110, 125, 206, 39, 104, 125, 211, 55, 109, 125, 216, 48, 113, 130, 212, 49, 107, 127, 4, 189, 43, 106, 125, 216, 44, 103, 127, 206, 53, 114, 125, 208, 43, 103, 125, 4, 189, 55, 115, 128, 200, 53, 104, 125, 215, 49, 102, 125, 208, 50, 108, 126, 201, 55, 106, 128, 214, 59, 111, 125, 209, 48, 105, 125, 215, 52, 108, 125, 198, 50, 108, 130, 206, 52, 112, 125, 4, 191, 41, 102, 125, 212, 51, 110, 125, 203, 44, 102, 132, 199, 46, 114, 125, 219, 41, 107, 125, 203, 39, 107, 127, 215, 52, 110, 126, 202, 53, 112, 125, 216, 48, 100, 130, 211, 45, 111, 126, 201, 53, 109, 129, 219, 48, 107, 126, 201, 60, 109, 125, 4, 189, 55, 110, 126, 212, 47, 105, 132, 215, 53, 106, 125, 214, 60, 110, 126, 219, 60, 108, 125, 196, 47, 117, 125, 215, 43, 104, 130, 201, 52, 108, 126, 204, 49, 110, 126, 197, 57, 103, 125, 208, 50, 104, 129, 211, 51, 110, 125, 204, 46, 106, 125, 4, 192, 44, 109, 125, 211, 53, 108, 125, 211, 54, 103, 129, 4, 195, 39, 105, 127, 206, 59, 112, 125, 201, 44, 113, 125, 219, 50, 105, 127, 209, 41, 103, 129, 208, 50, 114, 125, 216, 46, 112, 127, 4, 190, 50, 102, 130, 199, 53, 105, 129, 202, 43, 110, 125, 209, 52, 108, 127, 208, 57, 115, 131, 219, 55, 108, 125, 218, 54, 113, 126, 209, 59, 106, 143, 214, 39, 102, 142, 48, 110, 125, 201, 47, 107, 127, 203, 49, 102, 131, 199, 53, 104, 125, 211, 45, 105, 125, 216, 47, 107, 125, 207, 50, 105, 127, 206, 45, 103, 129, 209, 53, 106, 125, 206, 45, 103, 128, 4, 4, 189, 57, 111, 126, 205, 39, 111, 125, 198, 54, 103, 128, 210, 44, 107, 125, 196, 52, 103, 127, 201, 46, 114, 125, 203, 57, 116, 125, 194, 57, 107, 125, 194, 50, 107, 125, 201, 46, 108, 130, 210, 57, 101, 129, 201, 52, 107, 129, 212, 45, 104, 125, 211, 53, 112, 125, 194, 56, 107, 128, 211, 51, 106, 129, 206, 43, 108, 133, 209, 50, 108, 126, 212, 43, 111, 125, 207, 48, 114, 128, 203, 41, 107, 127, 210, 41, 115, 125, 209, 57, 109, 127, 211, 56, 107, 125, 219, 58, 113, 125, 206, 56, 114, 126, 207, 57, 111, 125, 207, 50, 111, 136, 4, 189, 53, 111, 126, 4, 191, 60, 111, 129, 217, 43, 109, 125, 4, 203, 39, 107, 126, 202, 49, 103, 131, 212, 46, 105, 125, 207, 43, 104, 125, 216, 51, 105, 125, 194, 58, 106, 125, 196, 59, 106, 126, 202, 45, 107, 125, 4, 189, 51, 110, 126, 203, 52, 110, 125, 199, 58, 111, 126, 207, 41, 102, 125, 196, 44, 110, 125, 209, 48, 104, 125, 201, 52, 105, 129, 207, 47, 111, 125, 216, 39, 112, 125, 204, 53, 107, 125, 207, 50, 111, 125, 204, 54, 111, 125, 204, 50, 115, 125, 198, 56, 102, 125, 216, 43, 103, 127, 204, 47, 113, 126, 211, 49, 102, 125, 215, 50, 109, 126, 212, 51, 107, 125, 194, 51, 104, 133, 203, 54, 100, 125, 216, 53, 103, 125, 208, 57, 107, 125, 4, 189, 60, 113, 125, 207, 46, 106, 125, 207, 41, 111, 126, 204, 46, 104, 135, 4, 189, 47, 111, 130, 217, 44, 111, 125, 218, 49, 102, 126, 219, 48, 105, 125, 201, 48, 113, 125, 198, 39, 98, 127, 207, 57, 107, 129, 215, 43, 104, 126, 206, 41, 103, 137, 4, 189, 49, 115, 128, 207, 45, 112, 126, 208, 51, 107, 125, 206, 58, 112, 125, 214, 39, 111, 126, 204, 57, 106, 126, 199, 59, 110, 126, 196, 58, 106, 131, 219, 44, 104, 125, 204, 48, 111, 126, 211, 53, 104, 125, 206, 50, 110, 126, 204, 46, 100, 127, 208, 49, 107, 125, 199, 59, 109, 130, 204, 50, 108, 125, 218, 55, 105, 140, 209, 46, 100, 126, 216, 58, 110, 125, 201, 45, 108, 126, 209, 56, 111, 125, 199, 50, 109, 126, 204, 43, 103, 125, 209, 50, 105, 138, 219, 48, 112, 129, 204, 41, 109, 126, 199, 45, 116, 137, 4, 189, 54, 115, 125, 215, 55, 110, 127, 209, 47, 106, 128, 207, 41, 116, 126, 213, 48, 111, 126, 205, 43, 109, 129, 4, 192, 41, 112, 125, 206, 52, 106, 125, 196, 48, 106, 125, 208, 48, 103, 126, 201, 56, 103, 128, 214, 58, 106, 125, 207, 57, 106, 125, 212, 56, 108, 143, 209, 60, 114, 125, 204, 54, 111, 144, 4, 189, 45, 110, 125, 4, 189, 54, 109, 129, 214, 45, 102, 125, 216, 53, 106, 125, 196, 41, 100, 125, 4, 189, 56, 114, 130, 213, 57, 108, 127, 4, 189, 53, 105, 125, 204, 57, 107, 125, 194, 50, 115, 125, 211, 57, 111, 125, 203, 47, 108, 125, 196, 46, 111, 125, 216, 52, 108, 125, 212, 49, 107, 125, 208, 43, 102, 126, 219, 55, 106, 127, 216, 43, 100, 130, 214, 54, 108, 127, 215, 57, 110, 125, 209, 58, 109, 126, 202, 44, 111, 127, 215, 53, 117, 125, 204, 44, 112, 125, 208, 44, 106, 125, 4, 189, 47, 105, 128, 199, 44, 108, 127, 206, 43, 99, 128, 201, 43, 114, 125, 201, 48, 117, 125, 209, 56, 114, 126, 4, 189, 45, 111, 127, 197, 51, 108, 125, 206, 54, 107, 126, 213, 43, 111, 126, 4, 191, 47, 112, 127, 199, 59, 102, 131, 197, 48, 114, 125, 194, 60, 112, 125, 196, 53, 112, 126, 208, 44, 108, 125, 206, 57, 115, 125, 209, 54, 116, 125, 207, 59, 115, 125, 196, 56, 99, 128, 4, 189, 44, 105, 125, 208, 56, 107, 125, 209, 44, 109, 126, 196, 51, 113, 126, 207, 59, 116, 130, 207, 47, 108, 126, 208, 46, 110, 125, 198, 53, 113, 126, 199, 52, 117, 126, 214, 54, 112, 129, 200, 51, 109, 127, 202, 58, 112, 126, 219, 48, 114, 125, 212, 57, 114, 125, 199, 50, 109, 135, 213, 49, 107, 127, 208, 51, 109, 125, 215, 46, 105, 127, 213, 55, 112, 125, 201, 60, 112, 126, 197, 46, 110, 133, 206, 52, 104, 131, 214, 59, 109, 125, 198, 44, 101, 136, 4, 189, 54, 110, 126, 211, 48, 109, 125, 4, 189, 48, 108, 125, 211, 44, 105, 126, 216, 59, 108, 125, 207, 47, 110, 131, 4, 190, 50, 104, 126, 213, 60, 115, 127, 4, 189, 48, 111, 125, 196, 49, 108, 125, 215, 46, 108, 128, 217, 49, 104, 125, 194, 52, 105, 125, 199, 53, 108, 125, 207, 50, 105, 125, 212, 53, 108, 125, 201, 52, 102, 132, 206, 54, 107, 129, 214, 56, 107, 125, 218, 53, 103, 130, 219, 60, 110, 125, 215, 51, 103, 126, 4, 190, 52, 113, 125, 216, 58, 111, 126, 204, 51, 110, 125, 219, 45, 111, 129, 212, 49, 101, 125, 201, 53, 111, 125, 212, 58, 107, 125, 207, 53, 104, 137, 4, 191, 49, 114, 125, 201, 47, 109, 125, 201, 51, 107, 125, 209, 59, 108, 125, 198, 46, 110, 126, 208, 41, 114, 126, 203, 56, 115, 125, 214, 55, 109, 125, 196, 48, 110, 125, 209, 50, 113, 128, 210, 59, 103, 125, 207, 59, 115, 126, 214, 45, 102, 126, 202, 48, 106, 125, 209, 52, 117, 125, 199, 51, 106, 129, 203, 44, 110, 126, 199, 55, 110, 127, 209, 44, 103, 125, 215, 48, 106, 126, 202, 43, 103, 139, 213, 45, 106, 141, 213, 45, 109, 125, 216, 56, 114, 125, 196, 57, 111, 125, 212, 47, 109, 125, 204, 55, 114, 136, 202, 50, 107, 125, 199, 52, 114, 125, 194, 57, 109, 125, 205, 52, 111, 125, 199, 46, 105, 129, 202, 52, 110, 125, 201, 56, 114, 125, 211, 46, 109, 125, 204, 44, 112, 129, 206, 46, 113, 125, 216, 57, 114, 125, 194, 52, 116, 125, 208, 54, 112, 125, 212, 56, 115, 125, 198, 45, 107, 130, 208, 51, 110, 126, 213, 52, 109, 136, 208, 58, 108, 125, 204, 52, 107, 131, 207, 47, 108, 135, 4, 190, 49, 109, 125, 218, 45, 112, 127, 201, 51, 113, 125, 206, 54, 106, 125, 194, 54, 109, 133, 4, 190, 57, 108, 125, 207, 60, 109, 126, 205, 44, 107, 129, 215, 45, 106, 127, 209, 52, 104, 126, 212, 60, 117, 128, 206, 60, 107, 125, 218, 44, 103, 138, 214, 57, 114, 125, 207, 47, 111, 132, 4, 189, 50, 113, 125, 4, 192, 56, 102, 125, 198, 52, 115, 126, 213, 55, 105, 128, 4, 190, 58, 110, 125, 196, 58, 112, 128, 213, 47, 106, 126, 195, 52, 108, 128, 4, 192, 58, 112, 128, 201, 58, 108, 126, 4, 189, 47, 112, 126, 201, 45, 111, 125, 194, 54, 112, 127, 202, 55, 103, 125, 219, 57, 101, 126, 214, 57, 105, 127, 210, 41, 106, 125, 196, 58, 114, 125, 194, 59, 102, 139, 210, 41, 106, 125, 198, 46, 114, 125, 204, 46, 112, 125, 196, 43, 113, 125, 216, 51, 105, 128, 208, 46, 108, 129, 4, 190, 46, 102, 127, 218, 56, 112, 126, 202, 43, 104, 125, 212, 39, 110, 125, 201, 46, 112, 127, 203, 50, 109, 125, 4, 189, 43, 116, 125, 4, 189, 52, 109, 125, 205, 51, 116, 129, 219, 43, 106, 131, 4, 192, 51, 111, 126, 208, 54, 102, 130, 208, 41, 107, 125, 219, 58, 110, 125, 219, 44, 107, 125, 208, 48, 108, 125, 205, 60, 114, 125, 203, 57, 108, 129, 209, 48, 108, 125, 216, 41, 107, 127, 204, 55, 110, 125, 4, 189, 55, 116, 127, 208, 59, 111, 125, 215, 47, 109, 125, 204, 46, 109, 125, 203, 50, 109, 126, 195, 44, 100, 125, 196, 47, 99, 126, 209, 50, 104, 126, 197, 46, 110, 131, 197, 47, 105, 137, 4, 192, 43, 105, 125, 209, 60, 107, 126, 216, 48, 106, 127, 218, 52, 108, 125, 198, 41, 110, 125, 201, 49, 112, 130, 204, 54, 110, 125, 218, 51, 109, 125, 209, 57, 108, 128, 216, 45, 114, 126, 203, 44, 106, 125, 216, 46, 101, 125, 4, 194, 55, 109, 125, 208, 55, 116, 125, 211, 47, 110, 125, 4, 189, 45, 105, 136, 212, 57, 102, 128, 199, 44, 107, 125, 204, 46, 110, 134, 214, 47, 105, 132, 219, 60, 107, 125, 206, 56, 110, 126, 203, 44, 106, 125, 196, 55, 110, 125, 208, 58, 118, 125, 198, 49, 113, 125, 194, 52, 109, 127, 206, 59, 106, 127, 215, 60, 106, 140, 208, 59, 118, 127, 219, 52, 107, 125, 4, 189, 56, 107, 140, 206, 51, 100, 132, 4, 189, 49, 109, 125, 211, 47, 110, 128, 212, 45, 110, 129, 217, 51, 102, 129, 214, 50, 107, 126, 203, 53, 108, 126, 202, 56, 110, 126, 196, 43, 111, 125, 212, 51, 108, 125, 198, 48, 101, 129, 216, 39, 109, 125, 209, 41, 102, 125, 196, 51, 107, 126, 196, 57, 104, 134, 4, 191, 53, 105, 126, 213, 58, 105, 132, 200, 56, 112, 127, 202, 56, 110, 126, 211, 54, 108, 125, 212, 52, 114, 125, 204, 58, 112, 126, 197, 57, 111, 125, 218, 56, 104, 125, 212, 51, 106, 125, 194, 51, 113, 126, 207, 55, 108, 126, 213, 47, 108, 126, 202, 52, 104, 125, 214, 56, 107, 135, 210, 53, 105, 125, 194, 53, 113, 126, 202, 44, 99, 125, 203, 59, 115, 133, 4, 189, 44, 110, 126, 207, 51, 101, 126, 211, 43, 111, 126, 4, 189, 50, 102, 127, 202, 48, 111, 125, 207, 50, 107, 126, 4, 189, 49, 106, 125, 214, 56, 107, 125, 201, 48, 107, 127, 215, 49, 113, 126, 203, 51, 108, 125, 218, 54, 109, 125, 214, 44, 109, 126, 207, 52, 113, 125, 206, 45, 111, 126, 219, 39, 107, 125, 199, 47, 115, 126, 211, 59, 107]\n"
          ]
        }
      ]
    },
    {
      "cell_type": "code",
      "source": [
        "id_to_token = {v: k for k, v in tokenizer.vocab.items()}\n",
        "print([id_to_token[t] for t in gen_ids[:100]])\n"
      ],
      "metadata": {
        "colab": {
          "base_uri": "https://localhost:8080/"
        },
        "id": "SW_rrScCZNXy",
        "outputId": "48ea95ab-0b7a-4864-ccec-3a331c6b8cf7"
      },
      "execution_count": 20,
      "outputs": [
        {
          "metadata": {
            "tags": null
          },
          "name": "stdout",
          "output_type": "stream",
          "text": [
            "['Bar_None', 'Position_1', 'Pitch_59', 'Velocity_59', 'Duration_0.6.8', 'Position_12', 'Pitch_72', 'Velocity_59', 'Duration_0.1.8', 'Position_29', 'Pitch_65', 'Velocity_55', 'Duration_0.1.8', 'Position_14', 'Pitch_65', 'Velocity_63', 'Duration_0.1.8', 'Position_29', 'Pitch_62', 'Velocity_67', 'Duration_0.3.8', 'Bar_None', 'Position_1', 'Pitch_66', 'Velocity_63', 'Duration_0.1.8', 'Position_26', 'Pitch_67', 'Velocity_71', 'Duration_0.1.8', 'Position_17', 'Pitch_55', 'Velocity_47', 'Duration_0.1.8', 'Position_22', 'Pitch_71', 'Velocity_67', 'Duration_0.1.8', 'Position_27', 'Pitch_64', 'Velocity_83', 'Duration_0.6.8', 'Position_23', 'Pitch_65', 'Velocity_59', 'Duration_0.3.8', 'Bar_None', 'Position_0', 'Pitch_59', 'Velocity_55', 'Duration_0.1.8', 'Position_27', 'Pitch_60', 'Velocity_43', 'Duration_0.3.8', 'Position_17', 'Pitch_69', 'Velocity_87', 'Duration_0.1.8', 'Position_19', 'Pitch_59', 'Velocity_43', 'Duration_0.1.8', 'Bar_None', 'Position_0', 'Pitch_71', 'Velocity_91', 'Duration_0.4.8', 'Position_11', 'Pitch_69', 'Velocity_47', 'Duration_0.1.8', 'Position_26', 'Pitch_65', 'Velocity_39', 'Duration_0.1.8', 'Position_19', 'Pitch_66', 'Velocity_63', 'Duration_0.2.8', 'Position_12', 'Pitch_71', 'Velocity_55', 'Duration_0.4.8', 'Position_25', 'Pitch_75', 'Velocity_75', 'Duration_0.1.8', 'Position_20', 'Pitch_64', 'Velocity_51', 'Duration_0.1.8', 'Position_26', 'Pitch_68', 'Velocity_63', 'Duration_0.1.8', 'Position_9', 'Pitch_66', 'Velocity_63', 'Duration_0.6.8']\n"
          ]
        }
      ]
    },
    {
      "cell_type": "code",
      "source": [
        "output_midi_path = \"generated_music_sample.mid\"\n",
        "tokens_to_midi(gen_ids, tokenizer, output_midi_path)"
      ],
      "metadata": {
        "id": "w6PZA_xYRSdj"
      },
      "execution_count": 21,
      "outputs": []
    },
    {
      "cell_type": "code",
      "source": [
        "import torch\n",
        "\n",
        "# Assuming `model` is your trained model\n",
        "model_path = \"trained_model.pth\"  # Path where you want to save the model\n",
        "\n",
        "# Save the model's state_dict (recommended way to save in PyTorch)\n",
        "torch.save(model.state_dict(), model_path)\n",
        "\n",
        "print(f\"Model saved to {model_path}\")\n"
      ],
      "metadata": {
        "colab": {
          "base_uri": "https://localhost:8080/"
        },
        "id": "bMwRf3ffepu7",
        "outputId": "71589b66-380f-4298-d81c-61aa860ee6eb"
      },
      "execution_count": 22,
      "outputs": [
        {
          "output_type": "stream",
          "name": "stdout",
          "text": [
            "Model saved to trained_model.pth\n"
          ]
        }
      ]
    }
  ]
}