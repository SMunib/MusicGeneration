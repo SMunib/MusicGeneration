{
  "nbformat": 4,
  "nbformat_minor": 0,
  "metadata": {
    "colab": {
      "provenance": [],
      "gpuType": "T4"
    },
    "kernelspec": {
      "name": "python3",
      "display_name": "Python 3"
    },
    "language_info": {
      "name": "python"
    },
    "widgets": {
      "application/vnd.jupyter.widget-state+json": {
        "19b317e4ece44f73ace3ee9e2027cf80": {
          "model_module": "@jupyter-widgets/controls",
          "model_name": "HBoxModel",
          "model_module_version": "1.5.0",
          "state": {
            "_dom_classes": [],
            "_model_module": "@jupyter-widgets/controls",
            "_model_module_version": "1.5.0",
            "_model_name": "HBoxModel",
            "_view_count": null,
            "_view_module": "@jupyter-widgets/controls",
            "_view_module_version": "1.5.0",
            "_view_name": "HBoxView",
            "box_style": "",
            "children": [
              "IPY_MODEL_aeb0f777cd0d478982dba0956705c89b",
              "IPY_MODEL_bdc6c543e49948fcad79e96f511f5854",
              "IPY_MODEL_e1c8f39566084ba79ad3fc73449db2e2"
            ],
            "layout": "IPY_MODEL_6ed345acd33c41eb9a359b6a7c62b30f"
          }
        },
        "aeb0f777cd0d478982dba0956705c89b": {
          "model_module": "@jupyter-widgets/controls",
          "model_name": "HTMLModel",
          "model_module_version": "1.5.0",
          "state": {
            "_dom_classes": [],
            "_model_module": "@jupyter-widgets/controls",
            "_model_module_version": "1.5.0",
            "_model_name": "HTMLModel",
            "_view_count": null,
            "_view_module": "@jupyter-widgets/controls",
            "_view_module_version": "1.5.0",
            "_view_name": "HTMLView",
            "description": "",
            "description_tooltip": null,
            "layout": "IPY_MODEL_53a5cbd37f5f4fb48c175ec709b047a3",
            "placeholder": "​",
            "style": "IPY_MODEL_f68f7826340142d79df077c4900ff387",
            "value": "Processing Midi Files: 100%"
          }
        },
        "bdc6c543e49948fcad79e96f511f5854": {
          "model_module": "@jupyter-widgets/controls",
          "model_name": "FloatProgressModel",
          "model_module_version": "1.5.0",
          "state": {
            "_dom_classes": [],
            "_model_module": "@jupyter-widgets/controls",
            "_model_module_version": "1.5.0",
            "_model_name": "FloatProgressModel",
            "_view_count": null,
            "_view_module": "@jupyter-widgets/controls",
            "_view_module_version": "1.5.0",
            "_view_name": "ProgressView",
            "bar_style": "success",
            "description": "",
            "description_tooltip": null,
            "layout": "IPY_MODEL_819f94e89ce44ee5843940a0601cb90d",
            "max": 962,
            "min": 0,
            "orientation": "horizontal",
            "style": "IPY_MODEL_416f2ad32e824a4f9f5e8a6c7b91fd78",
            "value": 962
          }
        },
        "e1c8f39566084ba79ad3fc73449db2e2": {
          "model_module": "@jupyter-widgets/controls",
          "model_name": "HTMLModel",
          "model_module_version": "1.5.0",
          "state": {
            "_dom_classes": [],
            "_model_module": "@jupyter-widgets/controls",
            "_model_module_version": "1.5.0",
            "_model_name": "HTMLModel",
            "_view_count": null,
            "_view_module": "@jupyter-widgets/controls",
            "_view_module_version": "1.5.0",
            "_view_name": "HTMLView",
            "description": "",
            "description_tooltip": null,
            "layout": "IPY_MODEL_268642ac735642a48b6ee0f699c01710",
            "placeholder": "​",
            "style": "IPY_MODEL_ed4d4a8afaa346828fe8dc034b9af483",
            "value": " 962/962 [11:17&lt;00:00,  1.50it/s]"
          }
        },
        "6ed345acd33c41eb9a359b6a7c62b30f": {
          "model_module": "@jupyter-widgets/base",
          "model_name": "LayoutModel",
          "model_module_version": "1.2.0",
          "state": {
            "_model_module": "@jupyter-widgets/base",
            "_model_module_version": "1.2.0",
            "_model_name": "LayoutModel",
            "_view_count": null,
            "_view_module": "@jupyter-widgets/base",
            "_view_module_version": "1.2.0",
            "_view_name": "LayoutView",
            "align_content": null,
            "align_items": null,
            "align_self": null,
            "border": null,
            "bottom": null,
            "display": null,
            "flex": null,
            "flex_flow": null,
            "grid_area": null,
            "grid_auto_columns": null,
            "grid_auto_flow": null,
            "grid_auto_rows": null,
            "grid_column": null,
            "grid_gap": null,
            "grid_row": null,
            "grid_template_areas": null,
            "grid_template_columns": null,
            "grid_template_rows": null,
            "height": null,
            "justify_content": null,
            "justify_items": null,
            "left": null,
            "margin": null,
            "max_height": null,
            "max_width": null,
            "min_height": null,
            "min_width": null,
            "object_fit": null,
            "object_position": null,
            "order": null,
            "overflow": null,
            "overflow_x": null,
            "overflow_y": null,
            "padding": null,
            "right": null,
            "top": null,
            "visibility": null,
            "width": null
          }
        },
        "53a5cbd37f5f4fb48c175ec709b047a3": {
          "model_module": "@jupyter-widgets/base",
          "model_name": "LayoutModel",
          "model_module_version": "1.2.0",
          "state": {
            "_model_module": "@jupyter-widgets/base",
            "_model_module_version": "1.2.0",
            "_model_name": "LayoutModel",
            "_view_count": null,
            "_view_module": "@jupyter-widgets/base",
            "_view_module_version": "1.2.0",
            "_view_name": "LayoutView",
            "align_content": null,
            "align_items": null,
            "align_self": null,
            "border": null,
            "bottom": null,
            "display": null,
            "flex": null,
            "flex_flow": null,
            "grid_area": null,
            "grid_auto_columns": null,
            "grid_auto_flow": null,
            "grid_auto_rows": null,
            "grid_column": null,
            "grid_gap": null,
            "grid_row": null,
            "grid_template_areas": null,
            "grid_template_columns": null,
            "grid_template_rows": null,
            "height": null,
            "justify_content": null,
            "justify_items": null,
            "left": null,
            "margin": null,
            "max_height": null,
            "max_width": null,
            "min_height": null,
            "min_width": null,
            "object_fit": null,
            "object_position": null,
            "order": null,
            "overflow": null,
            "overflow_x": null,
            "overflow_y": null,
            "padding": null,
            "right": null,
            "top": null,
            "visibility": null,
            "width": null
          }
        },
        "f68f7826340142d79df077c4900ff387": {
          "model_module": "@jupyter-widgets/controls",
          "model_name": "DescriptionStyleModel",
          "model_module_version": "1.5.0",
          "state": {
            "_model_module": "@jupyter-widgets/controls",
            "_model_module_version": "1.5.0",
            "_model_name": "DescriptionStyleModel",
            "_view_count": null,
            "_view_module": "@jupyter-widgets/base",
            "_view_module_version": "1.2.0",
            "_view_name": "StyleView",
            "description_width": ""
          }
        },
        "819f94e89ce44ee5843940a0601cb90d": {
          "model_module": "@jupyter-widgets/base",
          "model_name": "LayoutModel",
          "model_module_version": "1.2.0",
          "state": {
            "_model_module": "@jupyter-widgets/base",
            "_model_module_version": "1.2.0",
            "_model_name": "LayoutModel",
            "_view_count": null,
            "_view_module": "@jupyter-widgets/base",
            "_view_module_version": "1.2.0",
            "_view_name": "LayoutView",
            "align_content": null,
            "align_items": null,
            "align_self": null,
            "border": null,
            "bottom": null,
            "display": null,
            "flex": null,
            "flex_flow": null,
            "grid_area": null,
            "grid_auto_columns": null,
            "grid_auto_flow": null,
            "grid_auto_rows": null,
            "grid_column": null,
            "grid_gap": null,
            "grid_row": null,
            "grid_template_areas": null,
            "grid_template_columns": null,
            "grid_template_rows": null,
            "height": null,
            "justify_content": null,
            "justify_items": null,
            "left": null,
            "margin": null,
            "max_height": null,
            "max_width": null,
            "min_height": null,
            "min_width": null,
            "object_fit": null,
            "object_position": null,
            "order": null,
            "overflow": null,
            "overflow_x": null,
            "overflow_y": null,
            "padding": null,
            "right": null,
            "top": null,
            "visibility": null,
            "width": null
          }
        },
        "416f2ad32e824a4f9f5e8a6c7b91fd78": {
          "model_module": "@jupyter-widgets/controls",
          "model_name": "ProgressStyleModel",
          "model_module_version": "1.5.0",
          "state": {
            "_model_module": "@jupyter-widgets/controls",
            "_model_module_version": "1.5.0",
            "_model_name": "ProgressStyleModel",
            "_view_count": null,
            "_view_module": "@jupyter-widgets/base",
            "_view_module_version": "1.2.0",
            "_view_name": "StyleView",
            "bar_color": null,
            "description_width": ""
          }
        },
        "268642ac735642a48b6ee0f699c01710": {
          "model_module": "@jupyter-widgets/base",
          "model_name": "LayoutModel",
          "model_module_version": "1.2.0",
          "state": {
            "_model_module": "@jupyter-widgets/base",
            "_model_module_version": "1.2.0",
            "_model_name": "LayoutModel",
            "_view_count": null,
            "_view_module": "@jupyter-widgets/base",
            "_view_module_version": "1.2.0",
            "_view_name": "LayoutView",
            "align_content": null,
            "align_items": null,
            "align_self": null,
            "border": null,
            "bottom": null,
            "display": null,
            "flex": null,
            "flex_flow": null,
            "grid_area": null,
            "grid_auto_columns": null,
            "grid_auto_flow": null,
            "grid_auto_rows": null,
            "grid_column": null,
            "grid_gap": null,
            "grid_row": null,
            "grid_template_areas": null,
            "grid_template_columns": null,
            "grid_template_rows": null,
            "height": null,
            "justify_content": null,
            "justify_items": null,
            "left": null,
            "margin": null,
            "max_height": null,
            "max_width": null,
            "min_height": null,
            "min_width": null,
            "object_fit": null,
            "object_position": null,
            "order": null,
            "overflow": null,
            "overflow_x": null,
            "overflow_y": null,
            "padding": null,
            "right": null,
            "top": null,
            "visibility": null,
            "width": null
          }
        },
        "ed4d4a8afaa346828fe8dc034b9af483": {
          "model_module": "@jupyter-widgets/controls",
          "model_name": "DescriptionStyleModel",
          "model_module_version": "1.5.0",
          "state": {
            "_model_module": "@jupyter-widgets/controls",
            "_model_module_version": "1.5.0",
            "_model_name": "DescriptionStyleModel",
            "_view_count": null,
            "_view_module": "@jupyter-widgets/base",
            "_view_module_version": "1.2.0",
            "_view_name": "StyleView",
            "description_width": ""
          }
        }
      }
    },
    "accelerator": "GPU"
  },
  "cells": [
    {
      "cell_type": "markdown",
      "source": [
        "# Music Generation using GANS"
      ],
      "metadata": {
        "id": "ZF7zXvj8RPNF"
      }
    },
    {
      "cell_type": "markdown",
      "source": [
        "## 0. Setting up libraries, importing the dataset"
      ],
      "metadata": {
        "id": "5mNZ9_5cRUvx"
      }
    },
    {
      "cell_type": "code",
      "execution_count": 1,
      "metadata": {
        "colab": {
          "base_uri": "https://localhost:8080/"
        },
        "id": "yHI2e0jlYxwa",
        "outputId": "6ea83e8a-da40-4163-9642-456f49450465"
      },
      "outputs": [
        {
          "output_type": "stream",
          "name": "stdout",
          "text": [
            "Mounted at /content/drive\n"
          ]
        }
      ],
      "source": [
        "# !wget https://storage.googleapis.com/magentadata/datasets/maestro/v3.0.0/maestro-v3.0.0-midi.zip\n",
        "from google.colab import drive\n",
        "drive.mount('/content/drive')"
      ]
    },
    {
      "cell_type": "code",
      "source": [
        "# !unzip /content/drive/MyDrive/maestro-v3.0.0-midi.zip -d /content/drive/MyDrive/"
      ],
      "metadata": {
        "id": "eu6AbhGdaVEe"
      },
      "execution_count": null,
      "outputs": []
    },
    {
      "cell_type": "code",
      "source": [
        "!pip install pretty_midi"
      ],
      "metadata": {
        "id": "tFaVkTK6RhL5",
        "colab": {
          "base_uri": "https://localhost:8080/"
        },
        "outputId": "1110b991-427e-445f-861d-bb0dd43fc3d8"
      },
      "execution_count": 2,
      "outputs": [
        {
          "output_type": "stream",
          "name": "stdout",
          "text": [
            "Collecting pretty_midi\n",
            "  Downloading pretty_midi-0.2.10.tar.gz (5.6 MB)\n",
            "\u001b[?25l     \u001b[90m━━━━━━━━━━━━━━━━━━━━━━━━━━━━━━━━━━━━━━━━\u001b[0m \u001b[32m0.0/5.6 MB\u001b[0m \u001b[31m?\u001b[0m eta \u001b[36m-:--:--\u001b[0m\r\u001b[2K     \u001b[91m━━━━━━━━━━━━━━━━━━━━━━━━━━\u001b[0m\u001b[90m╺\u001b[0m\u001b[90m━━━━━━━━━━━━━\u001b[0m \u001b[32m3.7/5.6 MB\u001b[0m \u001b[31m107.1 MB/s\u001b[0m eta \u001b[36m0:00:01\u001b[0m\r\u001b[2K     \u001b[91m━━━━━━━━━━━━━━━━━━━━━━━━━━━━━━━━━━━━━━━\u001b[0m\u001b[91m╸\u001b[0m \u001b[32m5.6/5.6 MB\u001b[0m \u001b[31m108.9 MB/s\u001b[0m eta \u001b[36m0:00:01\u001b[0m\r\u001b[2K     \u001b[90m━━━━━━━━━━━━━━━━━━━━━━━━━━━━━━━━━━━━━━━━\u001b[0m \u001b[32m5.6/5.6 MB\u001b[0m \u001b[31m71.1 MB/s\u001b[0m eta \u001b[36m0:00:00\u001b[0m\n",
            "\u001b[?25h  Preparing metadata (setup.py) ... \u001b[?25l\u001b[?25hdone\n",
            "Requirement already satisfied: numpy>=1.7.0 in /usr/local/lib/python3.11/dist-packages (from pretty_midi) (2.0.2)\n",
            "Collecting mido>=1.1.16 (from pretty_midi)\n",
            "  Downloading mido-1.3.3-py3-none-any.whl.metadata (6.4 kB)\n",
            "Requirement already satisfied: six in /usr/local/lib/python3.11/dist-packages (from pretty_midi) (1.17.0)\n",
            "Requirement already satisfied: packaging in /usr/local/lib/python3.11/dist-packages (from mido>=1.1.16->pretty_midi) (24.2)\n",
            "Downloading mido-1.3.3-py3-none-any.whl (54 kB)\n",
            "\u001b[2K   \u001b[90m━━━━━━━━━━━━━━━━━━━━━━━━━━━━━━━━━━━━━━━━\u001b[0m \u001b[32m54.6/54.6 kB\u001b[0m \u001b[31m4.2 MB/s\u001b[0m eta \u001b[36m0:00:00\u001b[0m\n",
            "\u001b[?25hBuilding wheels for collected packages: pretty_midi\n",
            "  Building wheel for pretty_midi (setup.py) ... \u001b[?25l\u001b[?25hdone\n",
            "  Created wheel for pretty_midi: filename=pretty_midi-0.2.10-py3-none-any.whl size=5592286 sha256=e1a450f1069d5da38c46de758d8b5ce80b610821a4d316dc51ee1db99f44b118\n",
            "  Stored in directory: /root/.cache/pip/wheels/e6/95/ac/15ceaeb2823b04d8e638fd1495357adb8d26c00ccac9d7782e\n",
            "Successfully built pretty_midi\n",
            "Installing collected packages: mido, pretty_midi\n",
            "Successfully installed mido-1.3.3 pretty_midi-0.2.10\n"
          ]
        }
      ]
    },
    {
      "cell_type": "code",
      "source": [
        "!pip install music21"
      ],
      "metadata": {
        "id": "pEXJu_ETYtsL",
        "colab": {
          "base_uri": "https://localhost:8080/"
        },
        "outputId": "1d19a4f4-f57b-4da3-a0d4-22eed3cb90bd"
      },
      "execution_count": null,
      "outputs": [
        {
          "output_type": "stream",
          "name": "stdout",
          "text": [
            "Collecting music21\n",
            "  Downloading music21-9.5.0-py3-none-any.whl.metadata (5.1 kB)\n",
            "Collecting chardet (from music21)\n",
            "  Downloading chardet-5.2.0-py3-none-any.whl.metadata (3.4 kB)\n",
            "Requirement already satisfied: joblib in /usr/local/lib/python3.11/dist-packages (from music21) (1.4.2)\n",
            "Collecting jsonpickle (from music21)\n",
            "  Downloading jsonpickle-4.0.5-py3-none-any.whl.metadata (8.2 kB)\n",
            "Requirement already satisfied: matplotlib in /usr/local/lib/python3.11/dist-packages (from music21) (3.10.0)\n",
            "Requirement already satisfied: more-itertools in /usr/lib/python3/dist-packages (from music21) (8.10.0)\n",
            "Collecting numpy<2.0.0 (from music21)\n",
            "  Downloading numpy-1.26.4-cp311-cp311-manylinux_2_17_x86_64.manylinux2014_x86_64.whl.metadata (61 kB)\n",
            "\u001b[2K     \u001b[90m━━━━━━━━━━━━━━━━━━━━━━━━━━━━━━━━━━━━━━━━\u001b[0m \u001b[32m61.0/61.0 kB\u001b[0m \u001b[31m2.1 MB/s\u001b[0m eta \u001b[36m0:00:00\u001b[0m\n",
            "\u001b[?25hRequirement already satisfied: requests in /usr/local/lib/python3.11/dist-packages (from music21) (2.32.3)\n",
            "Collecting webcolors>=1.5 (from music21)\n",
            "  Downloading webcolors-24.11.1-py3-none-any.whl.metadata (2.2 kB)\n",
            "Requirement already satisfied: contourpy>=1.0.1 in /usr/local/lib/python3.11/dist-packages (from matplotlib->music21) (1.3.2)\n",
            "Requirement already satisfied: cycler>=0.10 in /usr/local/lib/python3.11/dist-packages (from matplotlib->music21) (0.12.1)\n",
            "Requirement already satisfied: fonttools>=4.22.0 in /usr/local/lib/python3.11/dist-packages (from matplotlib->music21) (4.57.0)\n",
            "Requirement already satisfied: kiwisolver>=1.3.1 in /usr/local/lib/python3.11/dist-packages (from matplotlib->music21) (1.4.8)\n",
            "Requirement already satisfied: packaging>=20.0 in /usr/local/lib/python3.11/dist-packages (from matplotlib->music21) (25.0)\n",
            "Requirement already satisfied: pillow>=8 in /usr/local/lib/python3.11/dist-packages (from matplotlib->music21) (11.2.1)\n",
            "Requirement already satisfied: pyparsing>=2.3.1 in /usr/local/lib/python3.11/dist-packages (from matplotlib->music21) (3.2.3)\n",
            "Requirement already satisfied: python-dateutil>=2.7 in /usr/local/lib/python3.11/dist-packages (from matplotlib->music21) (2.9.0.post0)\n",
            "Requirement already satisfied: charset-normalizer<4,>=2 in /usr/local/lib/python3.11/dist-packages (from requests->music21) (3.4.1)\n",
            "Requirement already satisfied: idna<4,>=2.5 in /usr/local/lib/python3.11/dist-packages (from requests->music21) (3.10)\n",
            "Requirement already satisfied: urllib3<3,>=1.21.1 in /usr/local/lib/python3.11/dist-packages (from requests->music21) (2.4.0)\n",
            "Requirement already satisfied: certifi>=2017.4.17 in /usr/local/lib/python3.11/dist-packages (from requests->music21) (2025.4.26)\n",
            "Requirement already satisfied: six>=1.5 in /usr/local/lib/python3.11/dist-packages (from python-dateutil>=2.7->matplotlib->music21) (1.17.0)\n",
            "Downloading music21-9.5.0-py3-none-any.whl (20.1 MB)\n",
            "\u001b[2K   \u001b[90m━━━━━━━━━━━━━━━━━━━━━━━━━━━━━━━━━━━━━━━━\u001b[0m \u001b[32m20.1/20.1 MB\u001b[0m \u001b[31m102.6 MB/s\u001b[0m eta \u001b[36m0:00:00\u001b[0m\n",
            "\u001b[?25hDownloading numpy-1.26.4-cp311-cp311-manylinux_2_17_x86_64.manylinux2014_x86_64.whl (18.3 MB)\n",
            "\u001b[2K   \u001b[90m━━━━━━━━━━━━━━━━━━━━━━━━━━━━━━━━━━━━━━━━\u001b[0m \u001b[32m18.3/18.3 MB\u001b[0m \u001b[31m110.2 MB/s\u001b[0m eta \u001b[36m0:00:00\u001b[0m\n",
            "\u001b[?25hDownloading webcolors-24.11.1-py3-none-any.whl (14 kB)\n",
            "Downloading chardet-5.2.0-py3-none-any.whl (199 kB)\n",
            "\u001b[2K   \u001b[90m━━━━━━━━━━━━━━━━━━━━━━━━━━━━━━━━━━━━━━━━\u001b[0m \u001b[32m199.4/199.4 kB\u001b[0m \u001b[31m12.4 MB/s\u001b[0m eta \u001b[36m0:00:00\u001b[0m\n",
            "\u001b[?25hDownloading jsonpickle-4.0.5-py3-none-any.whl (46 kB)\n",
            "\u001b[2K   \u001b[90m━━━━━━━━━━━━━━━━━━━━━━━━━━━━━━━━━━━━━━━━\u001b[0m \u001b[32m46.4/46.4 kB\u001b[0m \u001b[31m2.8 MB/s\u001b[0m eta \u001b[36m0:00:00\u001b[0m\n",
            "\u001b[?25hInstalling collected packages: webcolors, numpy, jsonpickle, chardet, music21\n",
            "  Attempting uninstall: numpy\n",
            "    Found existing installation: numpy 2.0.2\n",
            "    Uninstalling numpy-2.0.2:\n",
            "      Successfully uninstalled numpy-2.0.2\n",
            "\u001b[31mERROR: pip's dependency resolver does not currently take into account all the packages that are installed. This behaviour is the source of the following dependency conflicts.\n",
            "thinc 8.3.6 requires numpy<3.0.0,>=2.0.0, but you have numpy 1.26.4 which is incompatible.\u001b[0m\u001b[31m\n",
            "\u001b[0mSuccessfully installed chardet-5.2.0 jsonpickle-4.0.5 music21-9.5.0 numpy-1.26.4 webcolors-24.11.1\n"
          ]
        }
      ]
    },
    {
      "cell_type": "code",
      "source": [
        "path = '/content/drive/MyDrive/maestro-v3.0.0/'"
      ],
      "metadata": {
        "id": "Tqg1iGMOdkiP"
      },
      "execution_count": 3,
      "outputs": []
    },
    {
      "cell_type": "code",
      "source": [
        "import pretty_midi\n",
        "import torch\n",
        "import numpy as np\n",
        "import matplotlib.pyplot as plt\n",
        "import pandas as pd\n",
        "import os\n",
        "from tqdm.auto import tqdm\n",
        "# import music21"
      ],
      "metadata": {
        "id": "-ANVVXq5dw_v"
      },
      "execution_count": 4,
      "outputs": []
    },
    {
      "cell_type": "markdown",
      "source": [
        "## 1. Visualizing and handling the data"
      ],
      "metadata": {
        "id": "pCvs1oEGSBeR"
      }
    },
    {
      "cell_type": "markdown",
      "source": [
        "### 1.1 Read some sample file names from the maestro metadata"
      ],
      "metadata": {
        "id": "viyl3wJgbPil"
      }
    },
    {
      "cell_type": "code",
      "source": [
        "metadata = pd.read_csv(path + \"maestro-v3.0.0.csv\")\n",
        "\n",
        "subset = metadata[metadata['split'] == 'train'].sample(n=50,random_state=42)\n",
        "midi_files = subset['midi_filename'].tolist()\n",
        "midi_files"
      ],
      "metadata": {
        "id": "pLP25ZVVSIdi",
        "colab": {
          "base_uri": "https://localhost:8080/"
        },
        "outputId": "6e3d8cb5-ca63-4aeb-86dc-5f1880b4bb80"
      },
      "execution_count": null,
      "outputs": [
        {
          "output_type": "execute_result",
          "data": {
            "text/plain": [
              "['2004/MIDI-Unprocessed_XP_15_R2_2004_01_ORIG_MID--AUDIO_15_R2_2004_02_Track02_wav.midi',\n",
              " '2009/MIDI-Unprocessed_13_R1_2009_01-03_ORIG_MID--AUDIO_13_R1_2009_13_R1_2009_03_WAV.midi',\n",
              " '2004/MIDI-Unprocessed_XP_17_R2_2004_01_ORIG_MID--AUDIO_17_R2_2004_01_Track01_wav.midi',\n",
              " '2013/ORIG-MIDI_01_7_6_13_Group__MID--AUDIO_01_R1_2013_wav--2.midi',\n",
              " '2014/MIDI-UNPROCESSED_04-07-08-10-12-15-17_R2_2014_MID--AUDIO_17_R2_2014_wav.midi',\n",
              " '2014/MIDI-UNPROCESSED_04-05_R1_2014_MID--AUDIO_05_R1_2014_wav--2.midi',\n",
              " '2013/ORIG-MIDI_02_7_8_13_Group__MID--AUDIO_08_R2_2013_wav--1.midi',\n",
              " '2017/MIDI-Unprocessed_051_PIANO051_MID--AUDIO-split_07-06-17_Piano-e_3-02_wav--3.midi',\n",
              " '2014/MIDI-UNPROCESSED_21-22_R1_2014_MID--AUDIO_21_R1_2014_wav--3.midi',\n",
              " '2006/MIDI-Unprocessed_23_R2_2006_01_ORIG_MID--AUDIO_23_R2_2006_03_Track03_wav.midi',\n",
              " '2018/MIDI-Unprocessed_Recital17-19_MID--AUDIO_19_R1_2018_wav--2.midi',\n",
              " '2008/MIDI-Unprocessed_09_R3_2008_01-07_ORIG_MID--AUDIO_09_R3_2008_wav--3.midi',\n",
              " '2015/MIDI-Unprocessed_R2_D2-19-21-22_mid--AUDIO-from_mp3_21_R2_2015_wav--1.midi',\n",
              " '2006/MIDI-Unprocessed_06_R1_2006_01-04_ORIG_MID--AUDIO_06_R1_2006_01_Track01_wav.midi',\n",
              " '2013/ORIG-MIDI_03_7_6_13_Group__MID--AUDIO_10_R1_2013_wav--1.midi',\n",
              " '2004/MIDI-Unprocessed_XP_14_R2_2004_01_ORIG_MID--AUDIO_14_R2_2004_02_Track02_wav.midi',\n",
              " '2008/MIDI-Unprocessed_07_R3_2008_01-05_ORIG_MID--AUDIO_07_R3_2008_wav--3.midi',\n",
              " '2017/MIDI-Unprocessed_059_PIANO059_MID--AUDIO-split_07-07-17_Piano-e_2-03_wav--3.midi',\n",
              " '2011/MIDI-Unprocessed_06_R1_2011_MID--AUDIO_R1-D2_15_Track15_wav.midi',\n",
              " '2008/MIDI-Unprocessed_06_R1_2008_01-04_ORIG_MID--AUDIO_06_R1_2008_wav--4.midi',\n",
              " '2004/MIDI-Unprocessed_XP_15_R1_2004_01-02_ORIG_MID--AUDIO_15_R1_2004_02_Track02_wav.midi',\n",
              " '2014/MIDI-UNPROCESSED_04-08-12_R3_2014_MID--AUDIO_04_R3_2014_wav--1.midi',\n",
              " '2011/MIDI-Unprocessed_12_R3_2011_MID--AUDIO_R3-D4_03_Track03_wav.midi',\n",
              " '2008/MIDI-Unprocessed_15_R2_2008_01-04_ORIG_MID--AUDIO_15_R2_2008_wav--3.midi',\n",
              " '2015/MIDI-Unprocessed_R2_D2-12-13-15_mid--AUDIO-from_mp3_15_R2_2015_wav--3.midi',\n",
              " '2014/MIDI-UNPROCESSED_21-22_R1_2014_MID--AUDIO_21_R1_2014_wav--6.midi',\n",
              " '2008/MIDI-Unprocessed_03_R2_2008_01-03_ORIG_MID--AUDIO_03_R2_2008_wav--1.midi',\n",
              " '2013/ORIG-MIDI_03_7_8_13_Group__MID--AUDIO_19_R2_2013_wav--1.midi',\n",
              " '2015/MIDI-Unprocessed_R1_D2-13-20_mid--AUDIO-from_mp3_14_R1_2015_wav--4.midi',\n",
              " '2018/MIDI-Unprocessed_Recital5-7_MID--AUDIO_07_R1_2018_wav--3.midi',\n",
              " '2009/MIDI-Unprocessed_06_R1_2009_03-07_ORIG_MID--AUDIO_06_R1_2009_06_R1_2009_04_WAV.midi',\n",
              " '2011/MIDI-Unprocessed_16_R3_2011_MID--AUDIO_R3-D5_02_Track02_wav.midi',\n",
              " '2011/MIDI-Unprocessed_22_R1_2011_MID--AUDIO_R1-D8_12_Track12_wav.midi',\n",
              " '2015/MIDI-Unprocessed_R1_D1-1-8_mid--AUDIO-from_mp3_08_R1_2015_wav--4.midi',\n",
              " '2008/MIDI-Unprocessed_08_R2_2008_01-04_ORIG_MID--AUDIO_08_R2_2008_wav--1.midi',\n",
              " '2004/MIDI-Unprocessed_XP_14_R1_2004_04_ORIG_MID--AUDIO_14_R1_2004_06_Track06_wav.midi',\n",
              " '2015/MIDI-Unprocessed_R1_D1-1-8_mid--AUDIO-from_mp3_07_R1_2015_wav--2.midi',\n",
              " '2013/ORIG-MIDI_01_7_8_13_Group__MID--AUDIO_02_R2_2013_wav--2.midi',\n",
              " '2014/MIDI-UNPROCESSED_16-18_R1_2014_MID--AUDIO_17_R1_2014_wav--2.midi',\n",
              " '2011/MIDI-Unprocessed_05_R1_2011_MID--AUDIO_R1-D2_08_Track08_wav.midi',\n",
              " '2006/MIDI-Unprocessed_15_R1_2006_01-05_ORIG_MID--AUDIO_15_R1_2006_04_Track04_wav.midi',\n",
              " '2006/MIDI-Unprocessed_14_R1_2006_01-05_ORIG_MID--AUDIO_14_R1_2006_03_Track03_wav.midi',\n",
              " '2017/MIDI-Unprocessed_066_PIANO066_MID--AUDIO-split_07-07-17_Piano-e_3-02_wav--1.midi',\n",
              " '2013/ORIG-MIDI_01_7_6_13_Group__MID--AUDIO_04_R1_2013_wav--2.midi',\n",
              " '2013/ORIG-MIDI_03_7_6_13_Group__MID--AUDIO_09_R1_2013_wav--2.midi',\n",
              " '2018/MIDI-Unprocessed_Recital12_MID--AUDIO_12_R1_2018_wav--1.midi',\n",
              " '2011/MIDI-Unprocessed_04_R1_2011_MID--AUDIO_R1-D2_04_Track04_wav.midi',\n",
              " '2009/MIDI-Unprocessed_05_R1_2009_01-02_ORIG_MID--AUDIO_05_R1_2009_05_R1_2009_02_WAV.midi',\n",
              " '2004/MIDI-Unprocessed_SMF_05_R1_2004_01_ORIG_MID--AUDIO_05_R1_2004_03_Track03_wav.midi',\n",
              " '2017/MIDI-Unprocessed_042_PIANO042_MID--AUDIO-split_07-06-17_Piano-e_1-02_wav--2.midi']"
            ]
          },
          "metadata": {},
          "execution_count": 5
        }
      ]
    },
    {
      "cell_type": "markdown",
      "source": [
        "### 1.2 Play with a single midi file"
      ],
      "metadata": {
        "id": "SufOFRgucHV6"
      }
    },
    {
      "cell_type": "code",
      "source": [
        "def load_midi(file_path):\n",
        "  try:\n",
        "    midi = pretty_midi.PrettyMIDI(file_path)\n",
        "    return midi\n",
        "  except Exception as e:\n",
        "    print(f\"Error Loading {file_path}: {e}\")\n",
        "    return None"
      ],
      "metadata": {
        "id": "4jsAyPFJY-WW"
      },
      "execution_count": null,
      "outputs": []
    },
    {
      "cell_type": "code",
      "source": [
        "file_path = os.path.join(path,midi_files[0])\n",
        "midi = load_midi(file_path)"
      ],
      "metadata": {
        "id": "vQPP33urb_DY"
      },
      "execution_count": null,
      "outputs": []
    },
    {
      "cell_type": "code",
      "source": [
        "# save_path = os.path.join(save_path_midifiles, \"sample_maestro_midi.mid\")\n",
        "# midi.write(save_path)"
      ],
      "metadata": {
        "id": "XNBlpNGYEqZf"
      },
      "execution_count": null,
      "outputs": []
    },
    {
      "cell_type": "code",
      "source": [
        "def explore_midi(midi):\n",
        "\n",
        "  print(f\"Duration: {midi.get_end_time():.2f} seconds\")\n",
        "  print(f\"Instruments: {len(midi.instruments)}\")\n",
        "\n",
        "  notes = [note for instr in midi.instruments for note in instr.notes]\n",
        "  pitches = [note.pitch for note in notes]\n",
        "  velocities = [note.velocity for note in notes]\n",
        "  durations = [note.end - note.start for note in notes]\n",
        "\n",
        "  print(f\"Total Notes: {len(notes)}\")\n",
        "  print(f\"Pitch Range: {min(pitches)}-{max(pitches)}\")\n",
        "  print(f\"Velocity Range: {min(velocities)} - {max(velocities)}\")\n",
        "  print(f\"Duration Range: {min(durations)} - {max(durations)}\")"
      ],
      "metadata": {
        "id": "nJjVWorAcy_u"
      },
      "execution_count": 5,
      "outputs": []
    },
    {
      "cell_type": "code",
      "source": [
        "explore_midi(midi)"
      ],
      "metadata": {
        "id": "ckBJV5hiiXe5",
        "colab": {
          "base_uri": "https://localhost:8080/"
        },
        "outputId": "85b4b4ec-313b-45f1-b28d-e7bcbd7c1858"
      },
      "execution_count": null,
      "outputs": [
        {
          "output_type": "stream",
          "name": "stdout",
          "text": [
            "Duration: 682.38 seconds\n",
            "Instruments: 1\n",
            "Total Notes: 5153\n",
            "Pitch Range: 29-97\n",
            "Velocity Range: 6 - 107\n",
            "Duration Range: 0.0010416666666515084 - 3.890625\n"
          ]
        }
      ]
    },
    {
      "cell_type": "code",
      "source": [
        "def plot_pitch_histogram(notes):\n",
        "  pitches = [note.pitch for note in notes]\n",
        "  plt.hist(pitches,bins=range(128),edgecolor='black')\n",
        "  plt.xlabel('MIDI Pitch')\n",
        "  plt.ylabel('Frequency')\n",
        "  plt.title('Note Pitch Detection')\n",
        "  plt.show()"
      ],
      "metadata": {
        "id": "1iPyqSATifng"
      },
      "execution_count": null,
      "outputs": []
    },
    {
      "cell_type": "code",
      "source": [
        "notes = midi.instruments[0].notes\n",
        "plot_pitch_histogram(notes)"
      ],
      "metadata": {
        "id": "4hj4dkysjJrT",
        "colab": {
          "base_uri": "https://localhost:8080/",
          "height": 472
        },
        "outputId": "d214c84f-9ce5-422e-9339-78768f4bf649"
      },
      "execution_count": null,
      "outputs": [
        {
          "output_type": "display_data",
          "data": {
            "text/plain": [
              "<Figure size 640x480 with 1 Axes>"
            ],
            "image/png": "[encoded data removed]"
          },
          "metadata": {}
        }
      ]
    },
    {
      "cell_type": "code",
      "source": [
        "def plot_piano_roll(midi,start_time=0,end_time=10):\n",
        "  piano_roll = midi.get_piano_roll(fs=10)\n",
        "  plt.imshow(piano_roll[:,int(start_time * 10): int(end_time * 10)],\n",
        "             aspect='auto',origin='lower',cmap='viridis')\n",
        "  plt.xlabel('Time (0.1s steps)')\n",
        "  plt.ylabel('MIDI Pitch')\n",
        "  plt.colorbar(label='Velocity')\n",
        "  plt.title('Piano Roll Snippet')\n",
        "  plt.show()"
      ],
      "metadata": {
        "id": "PfUiHd4ljQ8t"
      },
      "execution_count": null,
      "outputs": []
    },
    {
      "cell_type": "code",
      "source": [
        "plot_piano_roll(midi)"
      ],
      "metadata": {
        "id": "Apm1jokLksls",
        "colab": {
          "base_uri": "https://localhost:8080/",
          "height": 472
        },
        "outputId": "2e2c7852-4dc2-46c5-cb18-8dccb3f7c3e7"
      },
      "execution_count": null,
      "outputs": [
        {
          "output_type": "display_data",
          "data": {
            "text/plain": [
              "<Figure size 640x480 with 2 Axes>"
            ],
            "image/png": "[encoded data removed]"
          },
          "metadata": {}
        }
      ]
    },
    {
      "cell_type": "markdown",
      "source": [
        "## Preprocess the sample files"
      ],
      "metadata": {
        "id": "TNmKmjVUkv5k"
      }
    },
    {
      "cell_type": "code",
      "source": [
        "def convert_midi_to_piano_roll(midi,fs=30):\n",
        "  # Returns a piano roll with shape (time_steps, 131) where:\n",
        "    # - 0-127: Note velocities (0-1 normalized)\n",
        "    # - 128: Sustain pedal (0-1)\n",
        "    # - 129: Sostenuto pedal (0-1)\n",
        "    # - 130: Una Corda pedal (0-1)\n",
        "\n",
        "  piano_roll = midi.get_piano_roll(fs=fs) # (128, time_steps)\n",
        "  piano_roll /= 127.0\n",
        "\n",
        "  time_steps = piano_roll.shape[1]\n",
        "  pedals = np.zeros((3,time_steps))\n",
        "\n",
        "  clamp_count = 0\n",
        "  for instrument in midi.instruments:\n",
        "    for control in instrument.control_changes:\n",
        "      if control.number == 64:\n",
        "        idx = min(int(control.time * fs),time_steps-1)\n",
        "        pedals[0,idx] = control.value / 127.0\n",
        "      elif control.number == 66:\n",
        "        idx = min(int(control.time * fs),time_steps-1)\n",
        "        pedals[1,idx] = control.value / 127.0\n",
        "      elif control.number == 67:\n",
        "        idx = min(int(control.time * fs),time_steps-1)\n",
        "        pedals[2,idx] = control.value / 127.0\n",
        "\n",
        "  #     if int(control.time * fs) >= time_steps:\n",
        "  #       clamp_count += 1\n",
        "  # print(f\"Clamped {clamp_count} pedal events out of {len(midi.instruments[0].control_changes)}\")\n",
        "  full_roll = np.vstack([piano_roll,pedals]).T\n",
        "  return full_roll"
      ],
      "metadata": {
        "id": "t-jcfR-ElOpH"
      },
      "execution_count": null,
      "outputs": []
    },
    {
      "cell_type": "code",
      "source": [
        "sample_roll = convert_midi_to_piano_roll(midi)\n",
        "sample_roll.shape"
      ],
      "metadata": {
        "id": "JxKFoxpvl4UB",
        "colab": {
          "base_uri": "https://localhost:8080/"
        },
        "outputId": "49f3f445-17fe-4256-8a9f-d3e1cfedb188"
      },
      "execution_count": null,
      "outputs": [
        {
          "output_type": "execute_result",
          "data": {
            "text/plain": [
              "(68237, 131)"
            ]
          },
          "metadata": {},
          "execution_count": 65
        }
      ]
    },
    {
      "cell_type": "code",
      "source": [
        "def slice_by_measure(midi_file_path, measures_per_slice=4, fs=30):\n",
        "    from music21 import converter\n",
        "\n",
        "    score = converter.parse(midi_file_path)\n",
        "    measures = list(score.recurse().getElementsByClass('Measure'))\n",
        "\n",
        "    midi = load_midi(midi_file_path)\n",
        "    if midi is None:\n",
        "        return []\n",
        "\n",
        "    piano_roll = convert_midi_to_piano_roll(midi, fs=fs)\n",
        "    sequences = []\n",
        "\n",
        "    for i in range(0, len(measures), measures_per_slice):\n",
        "        start_measure = measures[i]\n",
        "        end_measure = measures[min(i + measures_per_slice - 1, len(measures) - 1)]\n",
        "\n",
        "        start_time = start_measure.offset\n",
        "        end_time = end_measure.offset + end_measure.duration.quarterLength\n",
        "\n",
        "        start_idx = int(start_time * fs)\n",
        "        end_idx = int(end_time * fs)\n",
        "\n",
        "        if end_idx <= piano_roll.shape[0]:\n",
        "            segment = piano_roll[start_idx:end_idx]\n",
        "            if segment.shape[0] > 0:\n",
        "                sequences.append(segment)\n",
        "\n",
        "    return sequences\n"
      ],
      "metadata": {
        "id": "H7WN-CbYmAE-"
      },
      "execution_count": null,
      "outputs": []
    },
    {
      "cell_type": "code",
      "source": [
        "def process(midi_files, root_dir, fs=30, measures_per_slice=4):\n",
        "    all_sequences = []\n",
        "    for filename in tqdm(midi_files, desc='Processing MIDI Files'):\n",
        "        file_path = os.path.join(root_dir, filename)\n",
        "        try:\n",
        "            sequences = slice_by_measure(file_path, measures_per_slice=measures_per_slice, fs=fs)\n",
        "            all_sequences.extend(sequences)\n",
        "        except Exception as e:\n",
        "            print(f\"Error processing {file_path}: {e}\")\n",
        "\n",
        "    # Pad/truncate sequences to consistent length if needed for batching\n",
        "    max_len = max(seq.shape[0] for seq in all_sequences)\n",
        "    target_len = min(max_len, fs * measures_per_slice * 4)  # e.g., 4 measures ≈ 8 seconds @ fs=50\n",
        "\n",
        "    # Make all sequences the same length (for batching later)\n",
        "    processed = []\n",
        "    for seq in all_sequences:\n",
        "        if seq.shape[0] >= target_len:\n",
        "            processed.append(seq[:target_len])\n",
        "        else:\n",
        "            pad_width = target_len - seq.shape[0]\n",
        "            padded = np.pad(seq, ((0, pad_width), (0, 0)))\n",
        "            processed.append(padded)\n",
        "\n",
        "    return np.stack(processed)\n"
      ],
      "metadata": {
        "id": "ADI1wNWOmuC6"
      },
      "execution_count": null,
      "outputs": []
    },
    {
      "cell_type": "code",
      "source": [
        "train_files = metadata[metadata['split'] == 'train'].sample(n=200,random_state=42)['midi_filename'].tolist()\n",
        "len(train_files)"
      ],
      "metadata": {
        "id": "QkhHtDWjgYDn"
      },
      "execution_count": null,
      "outputs": []
    },
    {
      "cell_type": "code",
      "source": [
        "sequences = process(train_files,path)\n",
        "print(f\"{sequences.shape}\\n Total Sequences: {sequences.shape[0]}, Shape per Sequence: {sequences.shape[1:]}\")"
      ],
      "metadata": {
        "colab": {
          "base_uri": "https://localhost:8080/",
          "height": 84,
          "referenced_widgets": [
            "19b317e4ece44f73ace3ee9e2027cf80",
            "aeb0f777cd0d478982dba0956705c89b",
            "bdc6c543e49948fcad79e96f511f5854",
            "e1c8f39566084ba79ad3fc73449db2e2",
            "6ed345acd33c41eb9a359b6a7c62b30f",
            "53a5cbd37f5f4fb48c175ec709b047a3",
            "f68f7826340142d79df077c4900ff387",
            "819f94e89ce44ee5843940a0601cb90d",
            "416f2ad32e824a4f9f5e8a6c7b91fd78",
            "268642ac735642a48b6ee0f699c01710",
            "ed4d4a8afaa346828fe8dc034b9af483"
          ]
        },
        "id": "LD_LJc6dpj8u",
        "outputId": "9dedbeaa-b46f-4cdd-9ddd-7d02fe8c6b26"
      },
      "execution_count": null,
      "outputs": [
        {
          "output_type": "display_data",
          "data": {
            "text/plain": [
              "Processing Midi Files:   0%|          | 0/962 [00:00<?, ?it/s]"
            ],
            "application/vnd.jupyter.widget-view+json": {
              "version_major": 2,
              "version_minor": 0,
              "model_id": "19b317e4ece44f73ace3ee9e2027cf80"
            }
          },
          "metadata": {}
        },
        {
          "output_type": "stream",
          "name": "stdout",
          "text": [
            "(286567, 200, 131)\n",
            " Total Sequences: 286567, Shape per Sequence: (200, 131)\n"
          ]
        }
      ]
    },
    {
      "cell_type": "code",
      "source": [
        "print(type(sequences))  # Should be numpy.ndarray\n",
        "print(sequences.dtype)  # Should be a numeric type (e.g., float32, float64)\n",
        "print(sequences.shape)  # Verify the shape"
      ],
      "metadata": {
        "id": "cwQHeo_X51zM",
        "colab": {
          "base_uri": "https://localhost:8080/"
        },
        "outputId": "49836ce4-dc2f-449a-c057-cb47933b02c3"
      },
      "execution_count": null,
      "outputs": [
        {
          "output_type": "stream",
          "name": "stdout",
          "text": [
            "<class 'numpy.ndarray'>\n",
            "float64\n",
            "(286567, 200, 131)\n"
          ]
        }
      ]
    },
    {
      "cell_type": "code",
      "source": [
        "# print(type(tensor_data))  # Should be torch.Tensor\n",
        "# print(tensor_data.dtype)  # Should be torch.float32\n",
        "# print(tensor_data.shape)  # Verify the shape"
      ],
      "metadata": {
        "id": "39NrP2Vu5_6F"
      },
      "execution_count": null,
      "outputs": []
    },
    {
      "cell_type": "code",
      "source": [
        "# !pip install h5py"
      ],
      "metadata": {
        "id": "1_BgQdo_B60w"
      },
      "execution_count": null,
      "outputs": []
    },
    {
      "cell_type": "code",
      "source": [
        "import pandas as pd\n",
        "import numpy as np\n",
        "\n",
        "# Convert your NumPy array to a Pandas DataFrame\n",
        "df = pd.DataFrame(sequences.reshape(sequences.shape[0], -1))  # Flatten if needed\n",
        "N = 60000\n",
        "df_sample = df.sample(n=N, random_state=42)\n",
        "\n",
        "# Save as Parquet\n",
        "df_sample.to_parquet(path + 'train_200', compression='gzip')"
      ],
      "metadata": {
        "id": "tk2fZmqECJSa"
      },
      "execution_count": null,
      "outputs": []
    },
    {
      "cell_type": "code",
      "source": [
        "# tensor_data = torch.from_numpy(sequences).float()\n",
        "# save_path = path + 'train_maestro_piano_rolls.pt'\n",
        "# torch.save(tensor_data,save_path,pickle_protocol=4)"
      ],
      "metadata": {
        "id": "DMiCf6vWqC_M"
      },
      "execution_count": null,
      "outputs": []
    },
    {
      "cell_type": "markdown",
      "source": [
        "## Note\n",
        "\n",
        "**For ease of use, the train data - and, in the future,validation and test data - has already been saved as tensors. Therefore, we can simply load them and start from building the dataloaders step instead of from the beginning**"
      ],
      "metadata": {
        "id": "XHNjA_4hw-UU"
      }
    },
    {
      "cell_type": "code",
      "source": [
        "!fallocate -l 4G /swapfile\n",
        "!chmod 600 /swapfile\n",
        "!mkswap /swapfile\n",
        "!swapon /swapfile\n",
        "!free -h"
      ],
      "metadata": {
        "colab": {
          "base_uri": "https://localhost:8080/"
        },
        "id": "899pu7N8Sy31",
        "outputId": "66b0899a-0059-43bb-a59c-65e5429d390c"
      },
      "execution_count": null,
      "outputs": [
        {
          "output_type": "stream",
          "name": "stdout",
          "text": [
            "mkswap: /swapfile: warning: wiping old swap signature.\n",
            "Setting up swapspace version 1, size = 4 GiB (4294963200 bytes)\n",
            "no label, UUID=35bdd039-f1b2-4ebe-9f2e-496287b3d602\n",
            "swapon: /swapfile: swapon failed: Invalid argument\n",
            "               total        used        free      shared  buff/cache   available\n",
            "Mem:            12Gi       1.5Gi       9.6Gi       1.0Mi       1.6Gi        10Gi\n",
            "Swap:             0B          0B          0B\n"
          ]
        }
      ]
    },
    {
      "cell_type": "markdown",
      "source": [
        "##Create Dataloaders"
      ],
      "metadata": {
        "id": "lYcySBQzwVIE"
      }
    },
    {
      "cell_type": "code",
      "source": [
        "df = pd.read_parquet(path + 'train_200.parquet')\n",
        "data = df.to_numpy().reshape(-1, 131, 480)  # Reshape back if needed\n",
        "\n",
        "data.shape"
      ],
      "metadata": {
        "id": "AHdVZdi8Cyvt",
        "colab": {
          "base_uri": "https://localhost:8080/"
        },
        "outputId": "ce85cf82-32d6-4e06-836f-f607ba8267ff"
      },
      "execution_count": null,
      "outputs": [
        {
          "output_type": "execute_result",
          "data": {
            "text/plain": [
              "(3209, 131, 480)"
            ]
          },
          "metadata": {},
          "execution_count": 7
        }
      ]
    },
    {
      "cell_type": "code",
      "source": [
        "# sample_data = df_sample.to_numpy().reshape(-1, 131, 200)  # Reshape back if needed\n",
        "# sample_data.shape"
      ],
      "metadata": {
        "colab": {
          "base_uri": "https://localhost:8080/"
        },
        "id": "p7LGWhP0W17O",
        "outputId": "394f2592-239e-4cc4-f2d0-42a38a51ec76"
      },
      "execution_count": null,
      "outputs": [
        {
          "output_type": "execute_result",
          "data": {
            "text/plain": [
              "(60000, 131, 200)"
            ]
          },
          "metadata": {},
          "execution_count": 24
        }
      ]
    },
    {
      "cell_type": "code",
      "source": [
        "from torch.utils.data import DataLoader\n",
        "\n",
        "tensor_data = torch.from_numpy(data).float()\n",
        "tensor_data.shape"
      ],
      "metadata": {
        "id": "0a-ObebRwZvb",
        "colab": {
          "base_uri": "https://localhost:8080/"
        },
        "outputId": "1aa47ccd-6d46-4fc3-a01b-197d7caba81d"
      },
      "execution_count": null,
      "outputs": [
        {
          "output_type": "execute_result",
          "data": {
            "text/plain": [
              "torch.Size([3209, 131, 480])"
            ]
          },
          "metadata": {},
          "execution_count": 8
        }
      ]
    },
    {
      "cell_type": "code",
      "source": [
        "batch_size = 64\n",
        "train_dataloader = DataLoader(tensor_data,batch_size=batch_size,shuffle=True)\n",
        "batch = next(iter(train_dataloader))\n",
        "batch.shape"
      ],
      "metadata": {
        "id": "xIS7b6Sg6WKZ",
        "colab": {
          "base_uri": "https://localhost:8080/"
        },
        "outputId": "5a4e77f3-5b51-4861-c015-82c1ac46dff4"
      },
      "execution_count": null,
      "outputs": [
        {
          "output_type": "execute_result",
          "data": {
            "text/plain": [
              "torch.Size([64, 131, 480])"
            ]
          },
          "metadata": {},
          "execution_count": 9
        }
      ]
    },
    {
      "cell_type": "code",
      "source": [
        "batch[5:]"
      ],
      "metadata": {
        "id": "XeAsaHpT3wog",
        "colab": {
          "base_uri": "https://localhost:8080/"
        },
        "outputId": "afd3905b-4065-4435-fec0-d400d4ebe0f6"
      },
      "execution_count": null,
      "outputs": [
        {
          "output_type": "execute_result",
          "data": {
            "text/plain": [
              "tensor([[[0.0000, 0.0000, 0.0000,  ..., 0.0000, 0.0000, 0.0000],\n",
              "         [0.0000, 0.0000, 0.0000,  ..., 0.0000, 0.0000, 0.0000],\n",
              "         [0.0000, 0.0000, 0.0000,  ..., 0.0000, 0.0000, 0.0000],\n",
              "         ...,\n",
              "         [0.0000, 0.0000, 0.0000,  ..., 0.0000, 0.0000, 0.0000],\n",
              "         [0.0000, 0.0000, 0.0000,  ..., 0.2677, 0.0000, 0.0000],\n",
              "         [0.0000, 0.0000, 0.1260,  ..., 0.0000, 0.0000, 0.0000]],\n",
              "\n",
              "        [[0.0000, 0.0000, 0.0000,  ..., 0.0000, 0.0000, 0.0000],\n",
              "         [0.0000, 0.0000, 0.0000,  ..., 0.0000, 0.0000, 0.0000],\n",
              "         [0.0000, 0.0000, 0.0000,  ..., 0.0000, 0.0000, 0.0000],\n",
              "         ...,\n",
              "         [0.0000, 0.0000, 0.0000,  ..., 0.0000, 0.0000, 0.0000],\n",
              "         [0.0000, 0.0000, 0.0000,  ..., 0.2520, 0.0000, 0.0000],\n",
              "         [0.0000, 0.0000, 0.0000,  ..., 0.6378, 0.0000, 0.0000]],\n",
              "\n",
              "        [[0.0000, 0.0000, 0.0000,  ..., 0.4016, 0.0000, 0.0000],\n",
              "         [0.0000, 0.0000, 0.0000,  ..., 0.0000, 0.0000, 0.0000],\n",
              "         [0.0000, 0.0000, 0.0000,  ..., 0.0000, 0.0000, 0.0000],\n",
              "         ...,\n",
              "         [0.0000, 0.0000, 0.0000,  ..., 0.0000, 0.0000, 0.0000],\n",
              "         [0.0000, 0.0000, 0.0000,  ..., 0.0000, 0.0000, 0.0000],\n",
              "         [0.0000, 0.0000, 0.0000,  ..., 0.0000, 0.0000, 0.0000]],\n",
              "\n",
              "        ...,\n",
              "\n",
              "        [[0.0000, 0.0000, 0.0000,  ..., 0.0000, 0.0000, 0.0000],\n",
              "         [0.0000, 0.0000, 0.0000,  ..., 0.0000, 0.0000, 0.0000],\n",
              "         [0.0000, 0.0000, 0.0000,  ..., 0.0000, 0.0000, 0.0000],\n",
              "         ...,\n",
              "         [0.0000, 0.0000, 0.0000,  ..., 0.0000, 0.0000, 0.0000],\n",
              "         [0.0000, 0.0000, 0.0000,  ..., 0.0000, 0.0000, 0.0000],\n",
              "         [0.0000, 0.0000, 0.0000,  ..., 0.0000, 0.0000, 0.3858]],\n",
              "\n",
              "        [[0.0000, 0.0000, 0.0000,  ..., 0.0000, 0.0000, 0.4803],\n",
              "         [0.0000, 0.0000, 0.5827,  ..., 0.0000, 0.0000, 0.0000],\n",
              "         [0.0000, 0.0000, 0.0000,  ..., 0.0000, 0.0000, 0.0000],\n",
              "         ...,\n",
              "         [0.0000, 0.0000, 0.0000,  ..., 0.0000, 0.5827, 0.0000],\n",
              "         [0.0000, 0.5906, 0.0000,  ..., 0.0000, 0.0000, 0.0000],\n",
              "         [0.0000, 0.0000, 0.0000,  ..., 0.0000, 0.0000, 0.0000]],\n",
              "\n",
              "        [[0.0000, 0.0000, 0.0000,  ..., 0.0000, 0.0000, 0.0000],\n",
              "         [0.0000, 0.0000, 0.0000,  ..., 0.0000, 0.0000, 0.0000],\n",
              "         [0.0000, 0.0000, 0.0000,  ..., 0.0000, 0.0000, 0.0000],\n",
              "         ...,\n",
              "         [0.0000, 0.0000, 0.0000,  ..., 0.0000, 0.0000, 0.0000],\n",
              "         [0.0000, 0.0000, 0.0000,  ..., 0.0000, 0.0000, 0.0000],\n",
              "         [0.0000, 0.0000, 0.0000,  ..., 0.0000, 0.0000, 0.0000]]])"
            ]
          },
          "metadata": {},
          "execution_count": 10
        }
      ]
    },
    {
      "cell_type": "markdown",
      "source": [
        "## 4. Create Generator and Discriminator"
      ],
      "metadata": {
        "id": "4Gy75VGd8mve"
      }
    },
    {
      "cell_type": "code",
      "source": [
        "import torch\n",
        "import torch.nn as nn\n",
        "\n",
        "class Generator(nn.Module):\n",
        "  def __init__(self, latent_dim,seq_len,num_features):\n",
        "    super().__init__()\n",
        "\n",
        "    self.seq_len = seq_len\n",
        "    self.num_features = num_features\n",
        "\n",
        "    self.linear_block = nn.Sequential(\n",
        "        nn.Linear(latent_dim,256 * seq_len // 4),\n",
        "        nn.ReLU(),\n",
        "        nn.Unflatten(1,(256,seq_len // 4))\n",
        "    )\n",
        "    self.conv_block = nn.Sequential(\n",
        "        nn.ConvTranspose1d(256,128,kernel_size=4,stride=2,padding=2),\n",
        "        nn.ReLU(),\n",
        "        nn.ConvTranspose1d(128,64,kernel_size=4,stride=2,padding=2),\n",
        "        nn.ReLU(),\n",
        "        nn.ConvTranspose1d(64,num_features,kernel_size=4,stride=1,padding=1),\n",
        "        nn.Sigmoid()\n",
        "    )\n",
        "\n",
        "  def forward(self,x):\n",
        "    x = self.linear_block(x)\n",
        "    x = self.conv_block(x)\n",
        "    return x"
      ],
      "metadata": {
        "id": "-uvegXi1rGup"
      },
      "execution_count": 6,
      "outputs": []
    },
    {
      "cell_type": "code",
      "source": [
        "from torch.nn.utils.spectral_norm import spectral_norm\n",
        "\n",
        "class Discriminator(nn.Module):\n",
        "  def __init__(self, num_features,seq_len):\n",
        "    super().__init__()\n",
        "    self.conv_block = nn.Sequential(\n",
        "        spectral_norm(nn.Conv1d(num_features, 32, kernel_size=4, stride=2, padding=2)),\n",
        "        nn.LeakyReLU(0.2),\n",
        "        nn.Dropout(0.3),\n",
        "\n",
        "        spectral_norm(nn.Conv1d(32, 64, kernel_size=4, stride=2, padding=1)),\n",
        "        nn.LeakyReLU(0.2),\n",
        "        nn.Dropout(0.3),\n",
        "\n",
        "        spectral_norm(nn.Conv1d(64, 128, kernel_size=4, stride=2, padding=1)),\n",
        "        nn.LeakyReLU(0.2),\n",
        "        nn.Dropout(0.3),\n",
        "    )\n",
        "\n",
        "    # reduced_seq_len = seq_len // (2**3)  # Since 3 Conv layers reduce length by 2^3 = 8\n",
        "    self.fc = nn.Sequential(\n",
        "          nn.Flatten(),\n",
        "          spectral_norm(nn.Linear(128, 1)),  # Dynamically adjust for different seq_len\n",
        "          nn.Sigmoid()\n",
        "    )\n",
        "\n",
        "  def forward(self,x):\n",
        "    x = self.conv_block(x)\n",
        "    # print(x.shape)\n",
        "    x = torch.mean(x,dim=2)\n",
        "    # print(x.shape)\n",
        "    return self.fc(x)"
      ],
      "metadata": {
        "id": "tHtBONkmy4ul"
      },
      "execution_count": 8,
      "outputs": []
    },
    {
      "cell_type": "code",
      "source": [
        "import torch\n",
        "\n",
        "device = torch.device(\"cuda\") if torch.cuda.is_available() else torch.device(\"cpu\")\n",
        "device"
      ],
      "metadata": {
        "id": "A_9e9Tpo5kjr",
        "colab": {
          "base_uri": "https://localhost:8080/"
        },
        "outputId": "dd346340-f189-4569-80f9-5903e2e0356b"
      },
      "execution_count": 9,
      "outputs": [
        {
          "output_type": "execute_result",
          "data": {
            "text/plain": [
              "device(type='cpu')"
            ]
          },
          "metadata": {},
          "execution_count": 9
        }
      ]
    },
    {
      "cell_type": "code",
      "source": [
        "latent_dim = 256\n",
        "generator = Generator(latent_dim=latent_dim,seq_len=480,num_features=131).to(device).float()\n",
        "discriminator = Discriminator(num_features=131,seq_len=480).to(device).float()"
      ],
      "metadata": {
        "id": "2Z8hQN7rz0OJ"
      },
      "execution_count": 10,
      "outputs": []
    },
    {
      "cell_type": "code",
      "source": [
        "test_input = torch.randn(batch_size,131,480)\n",
        "test_input.shape"
      ],
      "metadata": {
        "id": "Y6kOtSJfDITW",
        "colab": {
          "base_uri": "https://localhost:8080/"
        },
        "outputId": "6bb58f57-3e78-4fac-f084-f1b60568267d"
      },
      "execution_count": null,
      "outputs": [
        {
          "output_type": "execute_result",
          "data": {
            "text/plain": [
              "torch.Size([64, 131, 200])"
            ]
          },
          "metadata": {},
          "execution_count": 155
        }
      ]
    },
    {
      "cell_type": "code",
      "source": [
        "output = discriminator(test_input.to(device))\n",
        "output.shape"
      ],
      "metadata": {
        "id": "EtNk4c1hDbJp",
        "colab": {
          "base_uri": "https://localhost:8080/"
        },
        "outputId": "c76dd60f-5d18-4d13-9abb-033dd4af2771"
      },
      "execution_count": null,
      "outputs": [
        {
          "output_type": "execute_result",
          "data": {
            "text/plain": [
              "torch.Size([64, 1])"
            ]
          },
          "metadata": {},
          "execution_count": 156
        }
      ]
    },
    {
      "cell_type": "markdown",
      "source": [
        "## 5. Train the models"
      ],
      "metadata": {
        "id": "7b2bnEN75NU2"
      }
    },
    {
      "cell_type": "code",
      "source": [
        "from torch.optim import Adam\n",
        "\n",
        "optimizer_G = Adam(generator.parameters(),lr=0.0001,betas=(0.5, 0.999))\n",
        "optimizer_D = Adam(discriminator.parameters(),lr=0.0002,betas=(0.5, 0.999))\n",
        "\n",
        "loss_fn = nn.BCELoss()"
      ],
      "metadata": {
        "id": "CE_aKSJv4GGv"
      },
      "execution_count": null,
      "outputs": []
    },
    {
      "cell_type": "code",
      "source": [
        "import torch.nn as nn\n",
        "import torch\n",
        "from tqdm import tqdm\n",
        "\n",
        "def train_step(generator: nn.Module,\n",
        "               discriminator: nn.Module,\n",
        "               optimizer_D: torch.optim.Optimizer,\n",
        "               optimizer_G: torch.optim.Optimizer,\n",
        "               loss_fn: nn.Module,\n",
        "               device: torch.device,\n",
        "               dataloader: torch.utils.data.DataLoader,\n",
        "               latent_dim: int):\n",
        "\n",
        "    generator.train()\n",
        "    discriminator.train()\n",
        "\n",
        "    d_running_loss = 0.0\n",
        "    g_running_loss = 0.0\n",
        "\n",
        "    progress_bar = tqdm(dataloader, total=len(dataloader), desc='Training', leave=True)\n",
        "\n",
        "    for batch in progress_bar:\n",
        "        real_data = batch.to(device).float()\n",
        "\n",
        "        batch_size = real_data.size(0)\n",
        "\n",
        "        # -------------------\n",
        "        # 1️⃣ Train Discriminator\n",
        "        # -------------------\n",
        "        optimizer_D.zero_grad()\n",
        "\n",
        "        # Use soft labels\n",
        "        real_labels = torch.full((batch_size, 1), 0.9, device=device)\n",
        "        fake_labels = torch.full((batch_size, 1), 0.1, device=device)\n",
        "\n",
        "        # Real\n",
        "        d_real_pred = discriminator(real_data)\n",
        "        d_real_loss = loss_fn(d_real_pred, real_labels)\n",
        "\n",
        "        # Fake\n",
        "        z = torch.randn((batch_size, latent_dim), device=device)\n",
        "        fake_data = generator(z)\n",
        "        d_fake_pred = discriminator(fake_data.detach())\n",
        "        d_fake_loss = loss_fn(d_fake_pred, fake_labels)\n",
        "\n",
        "        d_loss = d_real_loss + d_fake_loss\n",
        "        d_loss.backward()\n",
        "        optimizer_D.step()\n",
        "\n",
        "        # -------------------\n",
        "        # 2️⃣ Train Generator (Twice per batch)\n",
        "        # -------------------\n",
        "        for _ in range(1):\n",
        "            optimizer_G.zero_grad()\n",
        "            z = torch.randn((batch_size, latent_dim), device=device)\n",
        "            fake_data = generator(z)\n",
        "            g_pred = discriminator(fake_data)\n",
        "            g_loss = loss_fn(g_pred, real_labels)  # Trick the discriminator\n",
        "            g_loss.backward()\n",
        "            optimizer_G.step()\n",
        "\n",
        "        # Log average losses\n",
        "        d_running_loss += d_loss.item()\n",
        "        g_running_loss += g_loss.item()\n",
        "\n",
        "    avg_d_loss = d_running_loss / len(dataloader)\n",
        "    avg_g_loss = g_running_loss / (len(dataloader) * 2)  # generator trained twice per batch\n",
        "\n",
        "    return avg_d_loss, avg_g_loss\n"
      ],
      "metadata": {
        "id": "1dpwT8YB4rsY"
      },
      "execution_count": null,
      "outputs": []
    },
    {
      "cell_type": "code",
      "source": [
        "d_losses,g_losses = [],[]"
      ],
      "metadata": {
        "id": "5h6GnlIHq0eq"
      },
      "execution_count": null,
      "outputs": []
    },
    {
      "cell_type": "code",
      "source": [
        "\n",
        "num_epochs = 50\n",
        "\n",
        "for epoch in range(num_epochs):\n",
        "  print(f\"Epoch: {epoch+1}\\n-------------------\")\n",
        "  d_loss,g_loss = train_step(generator,\n",
        "             discriminator,\n",
        "             optimizer_D,\n",
        "             optimizer_G,\n",
        "             loss_fn,\n",
        "             device,\n",
        "             train_dataloader,\n",
        "             latent_dim)\n",
        "\n",
        "  d_losses.append(d_loss)\n",
        "  g_losses.append(g_loss)\n",
        "  print(f\"Epoch {epoch+1}/{num_epochs} - D Loss: {d_loss:.4f} | G Loss: {g_loss:.4f}\")"
      ],
      "metadata": {
        "colab": {
          "base_uri": "https://localhost:8080/"
        },
        "id": "eOGxSx1d9IKE",
        "outputId": "59e414de-bfa9-447d-f308-736aab5685a7"
      },
      "execution_count": null,
      "outputs": [
        {
          "output_type": "stream",
          "name": "stdout",
          "text": [
            "Epoch: 1\n",
            "-------------------\n"
          ]
        },
        {
          "output_type": "stream",
          "name": "stderr",
          "text": [
            "Training: 100%|██████████| 51/51 [00:14<00:00,  3.43it/s]\n"
          ]
        },
        {
          "output_type": "stream",
          "name": "stdout",
          "text": [
            "Epoch 1/50 - D Loss: 1.0156 | G Loss: 0.8471\n",
            "Epoch: 2\n",
            "-------------------\n"
          ]
        },
        {
          "output_type": "stream",
          "name": "stderr",
          "text": [
            "Training: 100%|██████████| 51/51 [00:14<00:00,  3.46it/s]\n"
          ]
        },
        {
          "output_type": "stream",
          "name": "stdout",
          "text": [
            "Epoch 2/50 - D Loss: 1.1386 | G Loss: 0.4503\n",
            "Epoch: 3\n",
            "-------------------\n"
          ]
        },
        {
          "output_type": "stream",
          "name": "stderr",
          "text": [
            "Training: 100%|██████████| 51/51 [00:14<00:00,  3.44it/s]\n"
          ]
        },
        {
          "output_type": "stream",
          "name": "stdout",
          "text": [
            "Epoch 3/50 - D Loss: 1.1677 | G Loss: 0.3702\n",
            "Epoch: 4\n",
            "-------------------\n"
          ]
        },
        {
          "output_type": "stream",
          "name": "stderr",
          "text": [
            "Training: 100%|██████████| 51/51 [00:14<00:00,  3.50it/s]\n"
          ]
        },
        {
          "output_type": "stream",
          "name": "stdout",
          "text": [
            "Epoch 4/50 - D Loss: 1.2202 | G Loss: 0.4515\n",
            "Epoch: 5\n",
            "-------------------\n"
          ]
        },
        {
          "output_type": "stream",
          "name": "stderr",
          "text": [
            "Training: 100%|██████████| 51/51 [00:14<00:00,  3.51it/s]\n"
          ]
        },
        {
          "output_type": "stream",
          "name": "stdout",
          "text": [
            "Epoch 5/50 - D Loss: 1.2386 | G Loss: 0.4331\n",
            "Epoch: 6\n",
            "-------------------\n"
          ]
        },
        {
          "output_type": "stream",
          "name": "stderr",
          "text": [
            "Training: 100%|██████████| 51/51 [00:14<00:00,  3.52it/s]\n"
          ]
        },
        {
          "output_type": "stream",
          "name": "stdout",
          "text": [
            "Epoch 6/50 - D Loss: 1.2152 | G Loss: 0.4404\n",
            "Epoch: 7\n",
            "-------------------\n"
          ]
        },
        {
          "output_type": "stream",
          "name": "stderr",
          "text": [
            "Training: 100%|██████████| 51/51 [00:14<00:00,  3.51it/s]\n"
          ]
        },
        {
          "output_type": "stream",
          "name": "stdout",
          "text": [
            "Epoch 7/50 - D Loss: 1.2094 | G Loss: 0.4423\n",
            "Epoch: 8\n",
            "-------------------\n"
          ]
        },
        {
          "output_type": "stream",
          "name": "stderr",
          "text": [
            "Training: 100%|██████████| 51/51 [00:14<00:00,  3.50it/s]\n"
          ]
        },
        {
          "output_type": "stream",
          "name": "stdout",
          "text": [
            "Epoch 8/50 - D Loss: 1.2086 | G Loss: 0.4526\n",
            "Epoch: 9\n",
            "-------------------\n"
          ]
        },
        {
          "output_type": "stream",
          "name": "stderr",
          "text": [
            "Training: 100%|██████████| 51/51 [00:14<00:00,  3.51it/s]\n"
          ]
        },
        {
          "output_type": "stream",
          "name": "stdout",
          "text": [
            "Epoch 9/50 - D Loss: 1.1865 | G Loss: 0.4149\n",
            "Epoch: 10\n",
            "-------------------\n"
          ]
        },
        {
          "output_type": "stream",
          "name": "stderr",
          "text": [
            "Training: 100%|██████████| 51/51 [00:14<00:00,  3.40it/s]\n"
          ]
        },
        {
          "output_type": "stream",
          "name": "stdout",
          "text": [
            "Epoch 10/50 - D Loss: 1.2846 | G Loss: 0.4351\n",
            "Epoch: 11\n",
            "-------------------\n"
          ]
        },
        {
          "output_type": "stream",
          "name": "stderr",
          "text": [
            "Training: 100%|██████████| 51/51 [00:14<00:00,  3.47it/s]\n"
          ]
        },
        {
          "output_type": "stream",
          "name": "stdout",
          "text": [
            "Epoch 11/50 - D Loss: 1.3002 | G Loss: 0.4098\n",
            "Epoch: 12\n",
            "-------------------\n"
          ]
        },
        {
          "output_type": "stream",
          "name": "stderr",
          "text": [
            "Training: 100%|██████████| 51/51 [00:14<00:00,  3.50it/s]\n"
          ]
        },
        {
          "output_type": "stream",
          "name": "stdout",
          "text": [
            "Epoch 12/50 - D Loss: 1.2439 | G Loss: 0.4678\n",
            "Epoch: 13\n",
            "-------------------\n"
          ]
        },
        {
          "output_type": "stream",
          "name": "stderr",
          "text": [
            "Training: 100%|██████████| 51/51 [00:14<00:00,  3.48it/s]\n"
          ]
        },
        {
          "output_type": "stream",
          "name": "stdout",
          "text": [
            "Epoch 13/50 - D Loss: 1.3051 | G Loss: 0.4199\n",
            "Epoch: 14\n",
            "-------------------\n"
          ]
        },
        {
          "output_type": "stream",
          "name": "stderr",
          "text": [
            "Training: 100%|██████████| 51/51 [00:14<00:00,  3.45it/s]\n"
          ]
        },
        {
          "output_type": "stream",
          "name": "stdout",
          "text": [
            "Epoch 14/50 - D Loss: 1.2827 | G Loss: 0.4204\n",
            "Epoch: 15\n",
            "-------------------\n"
          ]
        },
        {
          "output_type": "stream",
          "name": "stderr",
          "text": [
            "Training: 100%|██████████| 51/51 [00:14<00:00,  3.47it/s]\n"
          ]
        },
        {
          "output_type": "stream",
          "name": "stdout",
          "text": [
            "Epoch 15/50 - D Loss: 1.2800 | G Loss: 0.4214\n",
            "Epoch: 16\n",
            "-------------------\n"
          ]
        },
        {
          "output_type": "stream",
          "name": "stderr",
          "text": [
            "Training: 100%|██████████| 51/51 [00:14<00:00,  3.50it/s]\n"
          ]
        },
        {
          "output_type": "stream",
          "name": "stdout",
          "text": [
            "Epoch 16/50 - D Loss: 1.1245 | G Loss: 0.4518\n",
            "Epoch: 17\n",
            "-------------------\n"
          ]
        },
        {
          "output_type": "stream",
          "name": "stderr",
          "text": [
            "Training: 100%|██████████| 51/51 [00:14<00:00,  3.44it/s]\n"
          ]
        },
        {
          "output_type": "stream",
          "name": "stdout",
          "text": [
            "Epoch 17/50 - D Loss: 1.1651 | G Loss: 0.5660\n",
            "Epoch: 18\n",
            "-------------------\n"
          ]
        },
        {
          "output_type": "stream",
          "name": "stderr",
          "text": [
            "Training: 100%|██████████| 51/51 [00:14<00:00,  3.50it/s]\n"
          ]
        },
        {
          "output_type": "stream",
          "name": "stdout",
          "text": [
            "Epoch 18/50 - D Loss: 1.3109 | G Loss: 0.3793\n",
            "Epoch: 19\n",
            "-------------------\n"
          ]
        },
        {
          "output_type": "stream",
          "name": "stderr",
          "text": [
            "Training: 100%|██████████| 51/51 [00:14<00:00,  3.50it/s]\n"
          ]
        },
        {
          "output_type": "stream",
          "name": "stdout",
          "text": [
            "Epoch 19/50 - D Loss: 1.3624 | G Loss: 0.4280\n",
            "Epoch: 20\n",
            "-------------------\n"
          ]
        },
        {
          "output_type": "stream",
          "name": "stderr",
          "text": [
            "Training: 100%|██████████| 51/51 [00:14<00:00,  3.51it/s]\n"
          ]
        },
        {
          "output_type": "stream",
          "name": "stdout",
          "text": [
            "Epoch 20/50 - D Loss: 1.2745 | G Loss: 0.3793\n",
            "Epoch: 21\n",
            "-------------------\n"
          ]
        },
        {
          "output_type": "stream",
          "name": "stderr",
          "text": [
            "Training: 100%|██████████| 51/51 [00:14<00:00,  3.51it/s]\n"
          ]
        },
        {
          "output_type": "stream",
          "name": "stdout",
          "text": [
            "Epoch 21/50 - D Loss: 1.3249 | G Loss: 0.4011\n",
            "Epoch: 22\n",
            "-------------------\n"
          ]
        },
        {
          "output_type": "stream",
          "name": "stderr",
          "text": [
            "Training: 100%|██████████| 51/51 [00:14<00:00,  3.50it/s]\n"
          ]
        },
        {
          "output_type": "stream",
          "name": "stdout",
          "text": [
            "Epoch 22/50 - D Loss: 1.2759 | G Loss: 0.4306\n",
            "Epoch: 23\n",
            "-------------------\n"
          ]
        },
        {
          "output_type": "stream",
          "name": "stderr",
          "text": [
            "Training: 100%|██████████| 51/51 [00:14<00:00,  3.51it/s]\n"
          ]
        },
        {
          "output_type": "stream",
          "name": "stdout",
          "text": [
            "Epoch 23/50 - D Loss: 1.2977 | G Loss: 0.4595\n",
            "Epoch: 24\n",
            "-------------------\n"
          ]
        },
        {
          "output_type": "stream",
          "name": "stderr",
          "text": [
            "Training: 100%|██████████| 51/51 [00:14<00:00,  3.51it/s]\n"
          ]
        },
        {
          "output_type": "stream",
          "name": "stdout",
          "text": [
            "Epoch 24/50 - D Loss: 1.3156 | G Loss: 0.3880\n",
            "Epoch: 25\n",
            "-------------------\n"
          ]
        },
        {
          "output_type": "stream",
          "name": "stderr",
          "text": [
            "Training: 100%|██████████| 51/51 [00:14<00:00,  3.52it/s]\n"
          ]
        },
        {
          "output_type": "stream",
          "name": "stdout",
          "text": [
            "Epoch 25/50 - D Loss: 1.2861 | G Loss: 0.4005\n",
            "Epoch: 26\n",
            "-------------------\n"
          ]
        },
        {
          "output_type": "stream",
          "name": "stderr",
          "text": [
            "Training: 100%|██████████| 51/51 [00:14<00:00,  3.51it/s]\n"
          ]
        },
        {
          "output_type": "stream",
          "name": "stdout",
          "text": [
            "Epoch 26/50 - D Loss: 1.2707 | G Loss: 0.4428\n",
            "Epoch: 27\n",
            "-------------------\n"
          ]
        },
        {
          "output_type": "stream",
          "name": "stderr",
          "text": [
            "Training: 100%|██████████| 51/51 [00:14<00:00,  3.51it/s]\n"
          ]
        },
        {
          "output_type": "stream",
          "name": "stdout",
          "text": [
            "Epoch 27/50 - D Loss: 1.2407 | G Loss: 0.4525\n",
            "Epoch: 28\n",
            "-------------------\n"
          ]
        },
        {
          "output_type": "stream",
          "name": "stderr",
          "text": [
            "Training: 100%|██████████| 51/51 [00:14<00:00,  3.52it/s]\n"
          ]
        },
        {
          "output_type": "stream",
          "name": "stdout",
          "text": [
            "Epoch 28/50 - D Loss: 1.3306 | G Loss: 0.4226\n",
            "Epoch: 29\n",
            "-------------------\n"
          ]
        },
        {
          "output_type": "stream",
          "name": "stderr",
          "text": [
            "Training: 100%|██████████| 51/51 [00:14<00:00,  3.52it/s]\n"
          ]
        },
        {
          "output_type": "stream",
          "name": "stdout",
          "text": [
            "Epoch 29/50 - D Loss: 1.3037 | G Loss: 0.3952\n",
            "Epoch: 30\n",
            "-------------------\n"
          ]
        },
        {
          "output_type": "stream",
          "name": "stderr",
          "text": [
            "Training: 100%|██████████| 51/51 [00:14<00:00,  3.53it/s]\n"
          ]
        },
        {
          "output_type": "stream",
          "name": "stdout",
          "text": [
            "Epoch 30/50 - D Loss: 1.2437 | G Loss: 0.4516\n",
            "Epoch: 31\n",
            "-------------------\n"
          ]
        },
        {
          "output_type": "stream",
          "name": "stderr",
          "text": [
            "Training: 100%|██████████| 51/51 [00:14<00:00,  3.50it/s]\n"
          ]
        },
        {
          "output_type": "stream",
          "name": "stdout",
          "text": [
            "Epoch 31/50 - D Loss: 1.2964 | G Loss: 0.4539\n",
            "Epoch: 32\n",
            "-------------------\n"
          ]
        },
        {
          "output_type": "stream",
          "name": "stderr",
          "text": [
            "Training: 100%|██████████| 51/51 [00:14<00:00,  3.50it/s]\n"
          ]
        },
        {
          "output_type": "stream",
          "name": "stdout",
          "text": [
            "Epoch 32/50 - D Loss: 1.3326 | G Loss: 0.3852\n",
            "Epoch: 33\n",
            "-------------------\n"
          ]
        },
        {
          "output_type": "stream",
          "name": "stderr",
          "text": [
            "Training: 100%|██████████| 51/51 [00:14<00:00,  3.49it/s]\n"
          ]
        },
        {
          "output_type": "stream",
          "name": "stdout",
          "text": [
            "Epoch 33/50 - D Loss: 1.2747 | G Loss: 0.3847\n",
            "Epoch: 34\n",
            "-------------------\n"
          ]
        },
        {
          "output_type": "stream",
          "name": "stderr",
          "text": [
            "Training: 100%|██████████| 51/51 [00:14<00:00,  3.52it/s]\n"
          ]
        },
        {
          "output_type": "stream",
          "name": "stdout",
          "text": [
            "Epoch 34/50 - D Loss: 1.2453 | G Loss: 0.4620\n",
            "Epoch: 35\n",
            "-------------------\n"
          ]
        },
        {
          "output_type": "stream",
          "name": "stderr",
          "text": [
            "Training: 100%|██████████| 51/51 [00:14<00:00,  3.52it/s]\n"
          ]
        },
        {
          "output_type": "stream",
          "name": "stdout",
          "text": [
            "Epoch 35/50 - D Loss: 1.3871 | G Loss: 0.3950\n",
            "Epoch: 36\n",
            "-------------------\n"
          ]
        },
        {
          "output_type": "stream",
          "name": "stderr",
          "text": [
            "Training: 100%|██████████| 51/51 [00:14<00:00,  3.52it/s]\n"
          ]
        },
        {
          "output_type": "stream",
          "name": "stdout",
          "text": [
            "Epoch 36/50 - D Loss: 1.2924 | G Loss: 0.3845\n",
            "Epoch: 37\n",
            "-------------------\n"
          ]
        },
        {
          "output_type": "stream",
          "name": "stderr",
          "text": [
            "Training: 100%|██████████| 51/51 [00:14<00:00,  3.52it/s]\n"
          ]
        },
        {
          "output_type": "stream",
          "name": "stdout",
          "text": [
            "Epoch 37/50 - D Loss: 1.2598 | G Loss: 0.4487\n",
            "Epoch: 38\n",
            "-------------------\n"
          ]
        },
        {
          "output_type": "stream",
          "name": "stderr",
          "text": [
            "Training: 100%|██████████| 51/51 [00:14<00:00,  3.52it/s]\n"
          ]
        },
        {
          "output_type": "stream",
          "name": "stdout",
          "text": [
            "Epoch 38/50 - D Loss: 1.3156 | G Loss: 0.3860\n",
            "Epoch: 39\n",
            "-------------------\n"
          ]
        },
        {
          "output_type": "stream",
          "name": "stderr",
          "text": [
            "Training: 100%|██████████| 51/51 [00:14<00:00,  3.51it/s]\n"
          ]
        },
        {
          "output_type": "stream",
          "name": "stdout",
          "text": [
            "Epoch 39/50 - D Loss: 1.2662 | G Loss: 0.3961\n",
            "Epoch: 40\n",
            "-------------------\n"
          ]
        },
        {
          "output_type": "stream",
          "name": "stderr",
          "text": [
            "Training: 100%|██████████| 51/51 [00:14<00:00,  3.51it/s]\n"
          ]
        },
        {
          "output_type": "stream",
          "name": "stdout",
          "text": [
            "Epoch 40/50 - D Loss: 1.2974 | G Loss: 0.4266\n",
            "Epoch: 41\n",
            "-------------------\n"
          ]
        },
        {
          "output_type": "stream",
          "name": "stderr",
          "text": [
            "Training: 100%|██████████| 51/51 [00:14<00:00,  3.50it/s]\n"
          ]
        },
        {
          "output_type": "stream",
          "name": "stdout",
          "text": [
            "Epoch 41/50 - D Loss: 1.3010 | G Loss: 0.4002\n",
            "Epoch: 42\n",
            "-------------------\n"
          ]
        },
        {
          "output_type": "stream",
          "name": "stderr",
          "text": [
            "Training: 100%|██████████| 51/51 [00:14<00:00,  3.51it/s]\n"
          ]
        },
        {
          "output_type": "stream",
          "name": "stdout",
          "text": [
            "Epoch 42/50 - D Loss: 1.2957 | G Loss: 0.4074\n",
            "Epoch: 43\n",
            "-------------------\n"
          ]
        },
        {
          "output_type": "stream",
          "name": "stderr",
          "text": [
            "Training: 100%|██████████| 51/51 [00:14<00:00,  3.51it/s]\n"
          ]
        },
        {
          "output_type": "stream",
          "name": "stdout",
          "text": [
            "Epoch 43/50 - D Loss: 1.2914 | G Loss: 0.4169\n",
            "Epoch: 44\n",
            "-------------------\n"
          ]
        },
        {
          "output_type": "stream",
          "name": "stderr",
          "text": [
            "Training: 100%|██████████| 51/51 [00:14<00:00,  3.51it/s]\n"
          ]
        },
        {
          "output_type": "stream",
          "name": "stdout",
          "text": [
            "Epoch 44/50 - D Loss: 1.2034 | G Loss: 0.4561\n",
            "Epoch: 45\n",
            "-------------------\n"
          ]
        },
        {
          "output_type": "stream",
          "name": "stderr",
          "text": [
            "Training: 100%|██████████| 51/51 [00:14<00:00,  3.51it/s]\n"
          ]
        },
        {
          "output_type": "stream",
          "name": "stdout",
          "text": [
            "Epoch 45/50 - D Loss: 1.3088 | G Loss: 0.4096\n",
            "Epoch: 46\n",
            "-------------------\n"
          ]
        },
        {
          "output_type": "stream",
          "name": "stderr",
          "text": [
            "Training: 100%|██████████| 51/51 [00:14<00:00,  3.51it/s]\n"
          ]
        },
        {
          "output_type": "stream",
          "name": "stdout",
          "text": [
            "Epoch 46/50 - D Loss: 1.2572 | G Loss: 0.4206\n",
            "Epoch: 47\n",
            "-------------------\n"
          ]
        },
        {
          "output_type": "stream",
          "name": "stderr",
          "text": [
            "Training: 100%|██████████| 51/51 [00:14<00:00,  3.51it/s]\n"
          ]
        },
        {
          "output_type": "stream",
          "name": "stdout",
          "text": [
            "Epoch 47/50 - D Loss: 1.2462 | G Loss: 0.4973\n",
            "Epoch: 48\n",
            "-------------------\n"
          ]
        },
        {
          "output_type": "stream",
          "name": "stderr",
          "text": [
            "Training: 100%|██████████| 51/51 [00:14<00:00,  3.52it/s]\n"
          ]
        },
        {
          "output_type": "stream",
          "name": "stdout",
          "text": [
            "Epoch 48/50 - D Loss: 1.3854 | G Loss: 0.4055\n",
            "Epoch: 49\n",
            "-------------------\n"
          ]
        },
        {
          "output_type": "stream",
          "name": "stderr",
          "text": [
            "Training: 100%|██████████| 51/51 [00:14<00:00,  3.52it/s]\n"
          ]
        },
        {
          "output_type": "stream",
          "name": "stdout",
          "text": [
            "Epoch 49/50 - D Loss: 1.3388 | G Loss: 0.3539\n",
            "Epoch: 50\n",
            "-------------------\n"
          ]
        },
        {
          "output_type": "stream",
          "name": "stderr",
          "text": [
            "Training: 100%|██████████| 51/51 [00:14<00:00,  3.50it/s]"
          ]
        },
        {
          "output_type": "stream",
          "name": "stdout",
          "text": [
            "Epoch 50/50 - D Loss: 1.2935 | G Loss: 0.4134\n"
          ]
        },
        {
          "output_type": "stream",
          "name": "stderr",
          "text": [
            "\n"
          ]
        }
      ]
    },
    {
      "cell_type": "markdown",
      "source": [
        "### IMPROVEMENTS\n",
        "\n",
        "* Added `Dropout` Layers\n",
        "\n",
        "* Added `Spectral Norm`\n",
        "\n",
        "* Changed `Learning Rate` (discriminator = 0.0001, generator = 0.0003)\n",
        "\n",
        "* Changed `labels` (Real = 0.9, Fake = 0.1)\n",
        "\n",
        "* Trained Generator Twice per Epoch\n",
        "\n",
        "* Reverted `Learning Rate for Generator`\n",
        "\n",
        "* Changed `Learning Rate` (discriminator = 0.00005)\n",
        "\n",
        "* Added Betas (0.5,0.999) to both optimizers\n",
        "\n",
        "* Train Generator once per Epoch\n",
        "\n",
        "* Lr = 0.0001 G, 0.0002 D\n",
        "\n",
        "* Increased Disc LR to 0.0004\n",
        "\n",
        "* Changed Beta to (0.5,0.9) for Disc\n",
        "\n",
        "* Reverted changed lr and beta"
      ],
      "metadata": {
        "id": "aoQVCQWQKudL"
      }
    },
    {
      "cell_type": "markdown",
      "source": [
        "## 6. Check Outputs/ Save Model"
      ],
      "metadata": {
        "id": "qM5jca_Cyaow"
      }
    },
    {
      "cell_type": "code",
      "source": [
        "import matplotlib.pyplot as plt\n",
        "\n",
        "def plot_loss_diagram(d_losses,g_losses):\n",
        "  plt.plot(d_losses, label=\"Discriminator Loss\")\n",
        "  plt.plot(g_losses, label=\"Generator Loss\")\n",
        "  plt.xlabel(\"Epochs\")\n",
        "  plt.ylabel(\"Loss\")\n",
        "  plt.legend()\n",
        "  plt.show()"
      ],
      "metadata": {
        "id": "vHLjWnigAb9h"
      },
      "execution_count": null,
      "outputs": []
    },
    {
      "cell_type": "code",
      "source": [
        "plot_loss_diagram(d_losses,g_losses)"
      ],
      "metadata": {
        "id": "VrlrRNuIAdFY",
        "colab": {
          "base_uri": "https://localhost:8080/",
          "height": 449
        },
        "outputId": "ccd9c4a4-2dea-4713-9df9-4408184b88b0"
      },
      "execution_count": null,
      "outputs": [
        {
          "output_type": "display_data",
          "data": {
            "text/plain": [
              "<Figure size 640x480 with 1 Axes>"
            ],
            "image/png": "[encoded data removed]"
          },
          "metadata": {}
        }
      ]
    },
    {
      "cell_type": "code",
      "source": [
        "save_path_checkpoints = path + 'ModelCheckpoints/'\n",
        "save_path_midifiles = path + 'MidiFiles/'"
      ],
      "metadata": {
        "id": "kWHwuk3mmvSn"
      },
      "execution_count": 12,
      "outputs": []
    },
    {
      "cell_type": "code",
      "source": [
        "torch.save(generator.state_dict(),save_path_checkpoints + \"generator_train_sameoptim.pth\")\n",
        "torch.save(discriminator.state_dict(),save_path_checkpoints + \"discriminator_train_sameoptim.pth\")"
      ],
      "metadata": {
        "id": "TZ4ksGsSoXb6"
      },
      "execution_count": null,
      "outputs": []
    },
    {
      "cell_type": "markdown",
      "source": [
        "## 7. Check Generated Midi File"
      ],
      "metadata": {
        "id": "5BbZl-VnyfpT"
      }
    },
    {
      "cell_type": "code",
      "source": [
        "generator.load_state_dict(torch.load(save_path_checkpoints + \"generator_train_sameoptim.pth\",map_location=torch.device('cpu')))\n",
        "# generator.to(device)\n",
        "generator.eval()  # Set to evaluation mode"
      ],
      "metadata": {
        "colab": {
          "base_uri": "https://localhost:8080/"
        },
        "id": "S6GC_eKhqFH4",
        "outputId": "9ae51db6-4e3f-4f9a-b435-b26e70e5fe33"
      },
      "execution_count": 13,
      "outputs": [
        {
          "output_type": "execute_result",
          "data": {
            "text/plain": [
              "Generator(\n",
              "  (linear_block): Sequential(\n",
              "    (0): Linear(in_features=256, out_features=30720, bias=True)\n",
              "    (1): ReLU()\n",
              "    (2): Unflatten(dim=1, unflattened_size=(256, 120))\n",
              "  )\n",
              "  (conv_block): Sequential(\n",
              "    (0): ConvTranspose1d(256, 128, kernel_size=(4,), stride=(2,), padding=(2,))\n",
              "    (1): ReLU()\n",
              "    (2): ConvTranspose1d(128, 64, kernel_size=(4,), stride=(2,), padding=(2,))\n",
              "    (3): ReLU()\n",
              "    (4): ConvTranspose1d(64, 131, kernel_size=(4,), stride=(1,), padding=(1,))\n",
              "    (5): Sigmoid()\n",
              "  )\n",
              ")"
            ]
          },
          "metadata": {},
          "execution_count": 13
        }
      ]
    },
    {
      "cell_type": "code",
      "source": [
        "discriminator.load_state_dict(torch.load(save_path_checkpoints + \"discriminator_train_sameoptim.pth\"))\n",
        "discriminator.eval()  # Set to evaluation mode"
      ],
      "metadata": {
        "colab": {
          "base_uri": "https://localhost:8080/"
        },
        "id": "sbST3VAFqbtw",
        "outputId": "b5acd3e2-c18a-45fe-9fe1-7aeb728255c2"
      },
      "execution_count": null,
      "outputs": [
        {
          "output_type": "execute_result",
          "data": {
            "text/plain": [
              "Discriminator(\n",
              "  (conv_block): Sequential(\n",
              "    (0): Conv1d(131, 32, kernel_size=(4,), stride=(2,), padding=(2,))\n",
              "    (1): LeakyReLU(negative_slope=0.2)\n",
              "    (2): Dropout(p=0.3, inplace=False)\n",
              "    (3): Conv1d(32, 64, kernel_size=(4,), stride=(2,), padding=(1,))\n",
              "    (4): LeakyReLU(negative_slope=0.2)\n",
              "    (5): Dropout(p=0.3, inplace=False)\n",
              "    (6): Conv1d(64, 128, kernel_size=(4,), stride=(2,), padding=(1,))\n",
              "    (7): LeakyReLU(negative_slope=0.2)\n",
              "    (8): Dropout(p=0.3, inplace=False)\n",
              "  )\n",
              "  (fc): Sequential(\n",
              "    (0): Flatten(start_dim=1, end_dim=-1)\n",
              "    (1): Linear(in_features=128, out_features=1, bias=True)\n",
              "    (2): Sigmoid()\n",
              "  )\n",
              ")"
            ]
          },
          "metadata": {},
          "execution_count": 202
        }
      ]
    },
    {
      "cell_type": "code",
      "source": [
        "latent_dim = 256           # Your generator's latent dim\n",
        "num_features = 131         # Typically 128 notes + 3 pedals\n",
        "total_time = 90            # Seconds of music to generate\n",
        "fs = 30"
      ],
      "metadata": {
        "id": "Tt7ACrhztwsd"
      },
      "execution_count": 143,
      "outputs": []
    },
    {
      "cell_type": "code",
      "source": [
        "from scipy.ndimage import median_filter, uniform_filter1d\n",
        "import numpy as np\n",
        "import torch\n",
        "import pretty_midi\n",
        "\n",
        "@torch.inference_mode()\n",
        "def generate_music(generator, latent_dim, num_features, total_time, fs=30,\n",
        "                   device='cuda', context_len=32, overlap=16):\n",
        "    \"\"\"\n",
        "    Improved music generation with:\n",
        "    - Time-based generation (in seconds)\n",
        "    - Overlap blending for continuity\n",
        "    - Latent vector conditioning using previous context\n",
        "    \"\"\"\n",
        "    generator.eval()\n",
        "\n",
        "    seq_len = 480  # Match your training sequence length\n",
        "    total_steps = int(total_time * fs)\n",
        "    num_segments = int(np.ceil(total_steps / (seq_len - overlap)))\n",
        "\n",
        "    generated = []\n",
        "    prev_context = None\n",
        "\n",
        "    for _ in range(num_segments):\n",
        "        z = torch.randn(1, latent_dim, device=device)\n",
        "\n",
        "        # Condition on previous context\n",
        "        if prev_context is not None:\n",
        "            context_flat = prev_context.mean(dim=0)  # Average over time\n",
        "            context_flat = context_flat[:latent_dim // 4]  # Only use first quarter\n",
        "            if len(context_flat) < latent_dim // 4:\n",
        "                padding = torch.zeros(latent_dim // 4 - len(context_flat), device=device)\n",
        "                context_flat = torch.cat([context_flat, padding])\n",
        "            z[:, :latent_dim//4] = 0.5 * z[:, :latent_dim//4] + 0.5 * context_flat\n",
        "\n",
        "        segment = generator(z).squeeze(0)  # [seq_len, num_features]\n",
        "\n",
        "        if generated:\n",
        "            overlap_weights = torch.hann_window(2 * overlap, device=device)[overlap:].unsqueeze(1)\n",
        "            generated[-1][-overlap:] = (\n",
        "                (1 - overlap_weights) * generated[-1][-overlap:]\n",
        "                + overlap_weights * segment[:overlap]\n",
        "            )\n",
        "            generated.append(segment[overlap:])\n",
        "        else:\n",
        "            generated.append(segment)\n",
        "\n",
        "        prev_context = segment[-context_len:]\n",
        "\n",
        "    piano_roll = torch.cat(generated)[:total_steps]\n",
        "\n",
        "    # Apply post-processing\n",
        "    piano_roll = piano_roll.cpu().numpy()\n",
        "    piano_roll = uniform_filter1d(piano_roll, size=3, axis=0)\n",
        "\n",
        "    return piano_roll"
      ],
      "metadata": {
        "id": "GeoSKPh_tV_9"
      },
      "execution_count": 177,
      "outputs": []
    },
    {
      "cell_type": "code",
      "source": [
        "def piano_roll_to_midi(piano_roll, fs=30, note_threshold=0.02, pedal_threshold=0.6,\n",
        "                       program=4, pitch_offset=48):\n",
        "    \"\"\"\n",
        "    Convert piano roll to MIDI with safe value ranges\n",
        "    \"\"\"\n",
        "    midi = pretty_midi.PrettyMIDI()\n",
        "    instrument = pretty_midi.Instrument(program=np.clip(program, 0, 127))\n",
        "    time_step = 1.0 / fs\n",
        "\n",
        "    # Pre-process piano roll\n",
        "    piano_roll[:, :128] = np.clip(piano_roll[:, :128], 0, 1)  # Normalize note velocities\n",
        "    piano_roll[:, 128:] = np.clip(piano_roll[:, 128:], 0, 1)  # Normalize pedals\n",
        "\n",
        "    # Process pedals\n",
        "    sustain = _clean_pedal_signal(piano_roll[:, 128], pedal_threshold, hysteresis=0.2)\n",
        "    sostenuto = _clean_pedal_signal(piano_roll[:, 129], pedal_threshold, hysteresis=0.2)\n",
        "    una_corda = _clean_pedal_signal(piano_roll[:, 130], pedal_threshold, hysteresis=0.2)\n",
        "\n",
        "    pedals = {\n",
        "        64: _find_pedal_changes(sustain, fs),\n",
        "        66: _find_pedal_changes(sostenuto, fs),\n",
        "        67: _find_pedal_changes(una_corda, fs)\n",
        "    }\n",
        "\n",
        "    # Add clipped control changes\n",
        "    for cc_number, events in pedals.items():\n",
        "        for time, value in events:\n",
        "            instrument.control_changes.append(\n",
        "                pretty_midi.ControlChange(\n",
        "                    number=np.clip(cc_number, 0, 127),\n",
        "                    value=np.clip(127 if value else 0, 0, 127),\n",
        "                    time=time\n",
        "                )\n",
        "            )\n",
        "\n",
        "    sustain_timeline = _create_timeline(sustain, fs)\n",
        "    min_note_duration = 0.1  # 100ms minimum duration\n",
        "\n",
        "    for pitch in range(21, 109):  # Piano range\n",
        "        velocity_signal = piano_roll[:, pitch]\n",
        "        activations = velocity_signal > note_threshold\n",
        "        starts, ends = _find_contiguous_regions(activations, fs)\n",
        "\n",
        "        for start_idx, end_idx in zip(starts, ends):\n",
        "            start_time = start_idx * time_step\n",
        "            original_end = end_idx * time_step\n",
        "\n",
        "            sustain_extension = _find_sustain_extension(end_idx, sustain_timeline, max_extension=2.0)\n",
        "            end_time = max(original_end, sustain_extension)\n",
        "\n",
        "            if (end_time - start_time) < min_note_duration:\n",
        "                end_time = start_time + min_note_duration\n",
        "\n",
        "            velocity = np.clip(int(127 * np.mean(velocity_signal[start_idx:end_idx])), 1, 127)\n",
        "            actual_pitch = np.clip(pitch + pitch_offset, 0, 127)\n",
        "\n",
        "            instrument.notes.append(\n",
        "                pretty_midi.Note(\n",
        "                    velocity=velocity,\n",
        "                    pitch=actual_pitch,\n",
        "                    start=start_time,\n",
        "                    end=end_time\n",
        "                )\n",
        "            )\n",
        "\n",
        "    midi.instruments.append(instrument)\n",
        "    return midi\n",
        "\n",
        "# ------------------ Improved Helpers ------------------\n",
        "\n",
        "def _clean_pedal_signal(signal, threshold, hysteresis=0.2):\n",
        "    cleaned = np.zeros_like(signal, dtype=bool)\n",
        "    state = False\n",
        "    for i in range(len(signal)):\n",
        "        if state:\n",
        "            if signal[i] < threshold - hysteresis:\n",
        "                state = False\n",
        "        else:\n",
        "            if signal[i] > threshold + hysteresis:\n",
        "                state = True\n",
        "        cleaned[i] = state\n",
        "    return cleaned\n",
        "\n",
        "def _find_pedal_changes(cleaned_signal, fs=30):\n",
        "    changes = np.where(np.diff(cleaned_signal.astype(int)))[0] + 1\n",
        "    return [(idx / fs, cleaned_signal[idx]) for idx in changes]\n",
        "\n",
        "def _create_timeline(signal, fs=30):\n",
        "    starts = np.where(np.diff(signal.astype(int)) == 1)[0] / fs\n",
        "    ends = np.where(np.diff(signal.astype(int)) == -1)[0] / fs\n",
        "    if signal[0]: starts = np.insert(starts, 0, 0.0)\n",
        "    if signal[-1]: ends = np.append(ends, len(signal) / fs)\n",
        "    return list(zip(starts, ends))\n",
        "\n",
        "def _find_sustain_extension(end_idx, timeline, max_extension):\n",
        "    end_time = end_idx / fs\n",
        "    for sustain_start, sustain_end in timeline:\n",
        "        if sustain_start <= end_time <= sustain_end:\n",
        "            return min(sustain_end, end_time + max_extension)\n",
        "    return end_time\n",
        "\n",
        "def _find_contiguous_regions(activations, fs):\n",
        "    diff = np.diff(activations.astype(int))\n",
        "    starts = np.where(diff == 1)[0] + 1\n",
        "    ends = np.where(diff == -1)[0] + 1\n",
        "    if activations[0]: starts = np.insert(starts, 0, 0)\n",
        "    if activations[-1]: ends = np.append(ends, len(activations))\n",
        "    min_frames = int(0.05 * fs)  # Minimum 50ms duration\n",
        "    valid = (ends - starts) >= min_frames\n",
        "    return starts[valid], ends[valid]"
      ],
      "metadata": {
        "id": "-KvYfx4jtgTw"
      },
      "execution_count": 178,
      "outputs": []
    },
    {
      "cell_type": "code",
      "source": [
        "piano_roll = generate_music(\n",
        "    generator=generator,\n",
        "    latent_dim=latent_dim,\n",
        "    num_features=num_features,\n",
        "    total_time=total_time,\n",
        "    fs=30,\n",
        "    device=device\n",
        ")"
      ],
      "metadata": {
        "id": "rQEaAZ7BvKvS"
      },
      "execution_count": 179,
      "outputs": []
    },
    {
      "cell_type": "code",
      "source": [
        "print(\"Piano roll range:\", piano_roll.min(), piano_roll.max())"
      ],
      "metadata": {
        "colab": {
          "base_uri": "https://localhost:8080/"
        },
        "id": "qChOZ6kLGiJ_",
        "outputId": "9c35df63-cb21-4587-b062-73fb08d747e2"
      },
      "execution_count": 180,
      "outputs": [
        {
          "output_type": "stream",
          "name": "stdout",
          "text": [
            "Piano roll range: 4.8510306e-06 0.30843413\n"
          ]
        }
      ]
    },
    {
      "cell_type": "code",
      "source": [
        "import matplotlib.pyplot as plt\n",
        "\n",
        "plt.hist(piano_roll[:, :128].flatten(), bins=100)\n",
        "plt.title(\"Note Activation Distribution\")\n",
        "plt.xlabel(\"Activation Value\")\n",
        "plt.ylabel(\"Frequency\")\n",
        "plt.grid(True)\n",
        "plt.show()"
      ],
      "metadata": {
        "colab": {
          "base_uri": "https://localhost:8080/",
          "height": 472
        },
        "id": "2p_nSosoHBb5",
        "outputId": "f91db5de-df37-4f16-dc22-00ce616440c4"
      },
      "execution_count": 181,
      "outputs": [
        {
          "output_type": "display_data",
          "data": {
            "text/plain": [
              "<Figure size 640x480 with 1 Axes>"
            ],
            "image/png": "[encoded data removed]"
          },
          "metadata": {}
        }
      ]
    },
    {
      "cell_type": "code",
      "source": [
        "import matplotlib.pyplot as plt\n",
        "\n",
        "def plot_piano_roll(piano_roll):\n",
        "    plt.figure(figsize=(10, 5))\n",
        "    plt.imshow(piano_roll.T, aspect='auto', cmap='gray_r', origin='lower')\n",
        "    plt.xlabel(\"Time Steps\")\n",
        "    plt.ylabel(\"MIDI Pitch\")\n",
        "    plt.title(\"Generated Piano Roll\")\n",
        "    plt.colorbar(label=\"Activation\")\n",
        "    plt.show()"
      ],
      "metadata": {
        "id": "wZYQV_CDJvKq"
      },
      "execution_count": 182,
      "outputs": []
    },
    {
      "cell_type": "code",
      "source": [
        "plot_piano_roll(piano_roll)  # Convert tensor to numpy"
      ],
      "metadata": {
        "colab": {
          "base_uri": "https://localhost:8080/",
          "height": 487
        },
        "id": "jDYRtleTKIiB",
        "outputId": "86b2ee6b-5dd6-434a-c193-e4bc0385d23e"
      },
      "execution_count": 183,
      "outputs": [
        {
          "output_type": "display_data",
          "data": {
            "text/plain": [
              "<Figure size 1000x500 with 2 Axes>"
            ],
            "image/png": "[encoded data removed]"
          },
          "metadata": {}
        }
      ]
    },
    {
      "cell_type": "code",
      "source": [
        "midi = piano_roll_to_midi(piano_roll, fs=30)"
      ],
      "metadata": {
        "id": "rMHrSrE0r0bD"
      },
      "execution_count": 184,
      "outputs": []
    },
    {
      "cell_type": "code",
      "source": [
        "save_path = os.path.join(save_path_midifiles, \"sample_test9_electro_final.mid\")\n",
        "midi.write(save_path)"
      ],
      "metadata": {
        "id": "RgfE9BiNr2FG"
      },
      "execution_count": 185,
      "outputs": []
    },
    {
      "cell_type": "code",
      "source": [
        "midi_generated = pretty_midi.PrettyMIDI(save_path)"
      ],
      "metadata": {
        "id": "a8vF4CNfFo0I"
      },
      "execution_count": 106,
      "outputs": []
    },
    {
      "cell_type": "code",
      "source": [
        "import matplotlib.pyplot as plt\n",
        "plt.imshow(piano_roll[:, 21:109].T, aspect='auto', origin='lower')  # Only piano key range\n",
        "plt.title(\"Generated Piano Roll\")\n",
        "plt.xlabel(\"Time Frames\")\n",
        "plt.ylabel(\"MIDI Pitch\")\n",
        "plt.colorbar(label=\"Velocity\")\n",
        "plt.show()"
      ],
      "metadata": {
        "colab": {
          "base_uri": "https://localhost:8080/",
          "height": 472
        },
        "id": "K8AGE3DQ7i2v",
        "outputId": "7a2839a6-f62c-49ed-cb5f-d930164e397c"
      },
      "execution_count": 186,
      "outputs": [
        {
          "output_type": "display_data",
          "data": {
            "text/plain": [
              "<Figure size 640x480 with 2 Axes>"
            ],
            "image/png": "[encoded data removed]"
          },
          "metadata": {}
        }
      ]
    },
    {
      "cell_type": "code",
      "source": [
        "explore_midi(midi)"
      ],
      "metadata": {
        "colab": {
          "base_uri": "https://localhost:8080/"
        },
        "id": "KTHABjisG3iL",
        "outputId": "b60d4186-c48f-4e6b-c940-29840da09997"
      },
      "execution_count": 187,
      "outputs": [
        {
          "output_type": "stream",
          "name": "stdout",
          "text": [
            "Duration: 23.47 seconds\n",
            "Instruments: 1\n",
            "Total Notes: 2360\n",
            "Pitch Range: 69-127\n",
            "Velocity Range: 2 - 34\n",
            "Duration Range: 0.09999999999999964 - 0.23333333333333428\n"
          ]
        }
      ]
    },
    {
      "cell_type": "code",
      "source": [
        "print(\"Min:\", piano_roll.min(), \"Max:\", piano_roll.max(), \"Mean:\", piano_roll.mean())"
      ],
      "metadata": {
        "colab": {
          "base_uri": "https://localhost:8080/"
        },
        "id": "1EQH8uuH7qJm",
        "outputId": "16b37edd-554a-4c79-a84a-5dacc1175376"
      },
      "execution_count": 175,
      "outputs": [
        {
          "output_type": "stream",
          "name": "stdout",
          "text": [
            "Min: 5.0633557e-06 Max: 0.30519283 Mean: 0.020241747\n"
          ]
        }
      ]
    },
    {
      "cell_type": "code",
      "source": [
        "for i, instrument in enumerate(midi.instruments):\n",
        "    name = instrument.name if instrument.name else f\"Instrument {i}\"\n",
        "    program = instrument.program\n",
        "    is_drum = instrument.is_drum\n",
        "    instrument_name = pretty_midi.program_to_instrument_name(program)\n",
        "\n",
        "    print(f\"{name}:\")\n",
        "    print(f\"  Program Number: {program}\")\n",
        "    print(f\"  Instrument Name: {instrument_name}\")\n",
        "    print(f\"  Is Drum: {is_drum}\")\n",
        "    print()"
      ],
      "metadata": {
        "colab": {
          "base_uri": "https://localhost:8080/"
        },
        "id": "sUEx14FPosaH",
        "outputId": "63724b5d-76ff-49e8-d2a6-6f0194508c9e"
      },
      "execution_count": 142,
      "outputs": [
        {
          "output_type": "stream",
          "name": "stdout",
          "text": [
            "Instrument 0:\n",
            "  Program Number: 0\n",
            "  Instrument Name: Acoustic Grand Piano\n",
            "  Is Drum: False\n",
            "\n"
          ]
        }
      ]
    },
    {
      "cell_type": "code",
      "source": [
        "for note in midi.instruments[0].notes:\n",
        "    print(f\"Pitch: {note.pitch}, Start: {note.start:.2f}, End: {note.end:.2f}, Velocity: {note.velocity}\")"
      ],
      "metadata": {
        "colab": {
          "base_uri": "https://localhost:8080/"
        },
        "id": "jQ5sQxe5pmgp",
        "outputId": "de77569a-6521-4335-b02f-98b7c1fefca6"
      },
      "execution_count": 120,
      "outputs": [
        {
          "output_type": "stream",
          "name": "stdout",
          "text": [
            "Pitch: 0, Start: 0.17, End: 0.23, Velocity: 22\n",
            "Pitch: 0, Start: 0.30, End: 0.40, Velocity: 28\n",
            "Pitch: 0, Start: 0.77, End: 0.83, Velocity: 10\n",
            "Pitch: 0, Start: 0.87, End: 0.93, Velocity: 22\n",
            "Pitch: 0, Start: 1.17, End: 1.23, Velocity: 20\n",
            "Pitch: 0, Start: 1.73, End: 1.80, Velocity: 33\n",
            "Pitch: 0, Start: 1.97, End: 2.03, Velocity: 19\n",
            "Pitch: 0, Start: 2.37, End: 2.43, Velocity: 12\n",
            "Pitch: 0, Start: 2.67, End: 2.77, Velocity: 15\n",
            "Pitch: 0, Start: 3.20, End: 3.33, Velocity: 10\n",
            "Pitch: 0, Start: 3.63, End: 3.70, Velocity: 53\n",
            "Pitch: 0, Start: 4.00, End: 4.07, Velocity: 83\n",
            "Pitch: 0, Start: 4.13, End: 8.43, Velocity: 72\n",
            "Pitch: 0, Start: 8.47, End: 8.60, Velocity: 33\n",
            "Pitch: 0, Start: 8.63, End: 8.73, Velocity: 10\n",
            "Pitch: 0, Start: 8.77, End: 8.83, Velocity: 22\n",
            "Pitch: 0, Start: 8.97, End: 9.03, Velocity: 17\n",
            "Pitch: 0, Start: 9.07, End: 9.13, Velocity: 29\n",
            "Pitch: 0, Start: 9.23, End: 9.30, Velocity: 9\n",
            "Pitch: 0, Start: 9.37, End: 9.43, Velocity: 26\n",
            "Pitch: 0, Start: 9.57, End: 9.63, Velocity: 15\n",
            "Pitch: 0, Start: 9.93, End: 10.00, Velocity: 36\n",
            "Pitch: 0, Start: 10.17, End: 10.37, Velocity: 25\n",
            "Pitch: 0, Start: 10.43, End: 10.50, Velocity: 14\n",
            "Pitch: 0, Start: 10.57, End: 10.73, Velocity: 18\n",
            "Pitch: 0, Start: 10.87, End: 11.00, Velocity: 23\n",
            "Pitch: 0, Start: 11.03, End: 11.10, Velocity: 34\n",
            "Pitch: 0, Start: 11.20, End: 11.30, Velocity: 26\n",
            "Pitch: 0, Start: 11.40, End: 11.53, Velocity: 15\n",
            "Pitch: 0, Start: 11.63, End: 11.73, Velocity: 9\n",
            "Pitch: 0, Start: 11.83, End: 11.90, Velocity: 55\n",
            "Pitch: 0, Start: 12.03, End: 12.10, Velocity: 10\n",
            "Pitch: 0, Start: 12.13, End: 12.27, Velocity: 78\n",
            "Pitch: 0, Start: 12.43, End: 12.53, Velocity: 20\n",
            "Pitch: 0, Start: 12.60, End: 12.70, Velocity: 29\n",
            "Pitch: 0, Start: 13.07, End: 13.13, Velocity: 11\n",
            "Pitch: 0, Start: 13.17, End: 13.23, Velocity: 23\n",
            "Pitch: 0, Start: 13.47, End: 13.53, Velocity: 21\n",
            "Pitch: 0, Start: 14.03, End: 14.10, Velocity: 31\n",
            "Pitch: 0, Start: 14.27, End: 14.33, Velocity: 19\n",
            "Pitch: 0, Start: 14.67, End: 14.73, Velocity: 12\n",
            "Pitch: 0, Start: 14.97, End: 15.07, Velocity: 17\n",
            "Pitch: 0, Start: 15.50, End: 15.63, Velocity: 10\n",
            "Pitch: 0, Start: 15.93, End: 16.00, Velocity: 53\n",
            "Pitch: 0, Start: 16.30, End: 16.37, Velocity: 83\n",
            "Pitch: 0, Start: 16.50, End: 16.63, Velocity: 31\n",
            "Pitch: 0, Start: 16.67, End: 17.03, Velocity: 40\n",
            "Pitch: 0, Start: 17.07, End: 17.83, Velocity: 38\n",
            "Pitch: 0, Start: 17.87, End: 19.53, Velocity: 62\n",
            "Pitch: 0, Start: 19.57, End: 20.73, Velocity: 74\n",
            "Pitch: 0, Start: 20.77, End: 20.90, Velocity: 34\n",
            "Pitch: 0, Start: 20.93, End: 21.03, Velocity: 11\n",
            "Pitch: 0, Start: 21.07, End: 21.13, Velocity: 23\n",
            "Pitch: 0, Start: 21.27, End: 21.33, Velocity: 18\n",
            "Pitch: 0, Start: 21.37, End: 21.43, Velocity: 30\n",
            "Pitch: 0, Start: 21.53, End: 21.60, Velocity: 10\n",
            "Pitch: 0, Start: 21.63, End: 21.73, Velocity: 28\n",
            "Pitch: 0, Start: 21.87, End: 21.93, Velocity: 16\n",
            "Pitch: 0, Start: 22.17, End: 22.30, Velocity: 37\n",
            "Pitch: 0, Start: 22.47, End: 22.67, Velocity: 27\n",
            "Pitch: 0, Start: 22.70, End: 23.03, Velocity: 18\n",
            "Pitch: 0, Start: 23.17, End: 23.30, Velocity: 23\n",
            "Pitch: 0, Start: 23.33, End: 23.40, Velocity: 34\n",
            "Pitch: 0, Start: 23.50, End: 23.60, Velocity: 27\n",
            "Pitch: 0, Start: 23.67, End: 23.83, Velocity: 17\n",
            "Pitch: 0, Start: 23.87, End: 24.03, Velocity: 10\n",
            "Pitch: 0, Start: 24.13, End: 24.20, Velocity: 56\n",
            "Pitch: 0, Start: 24.33, End: 24.40, Velocity: 10\n",
            "Pitch: 0, Start: 24.43, End: 24.57, Velocity: 79\n",
            "Pitch: 0, Start: 24.60, End: 24.67, Velocity: 17\n",
            "Pitch: 0, Start: 24.73, End: 24.80, Velocity: 24\n",
            "Pitch: 1, Start: 4.20, End: 4.33, Velocity: 15\n",
            "Pitch: 1, Start: 4.37, End: 5.63, Velocity: 42\n",
            "Pitch: 1, Start: 5.70, End: 6.03, Velocity: 75\n",
            "Pitch: 1, Start: 6.07, End: 6.40, Velocity: 40\n",
            "Pitch: 1, Start: 6.43, End: 6.73, Velocity: 34\n",
            "Pitch: 1, Start: 6.77, End: 6.90, Velocity: 21\n",
            "Pitch: 1, Start: 6.93, End: 7.67, Velocity: 30\n",
            "Pitch: 1, Start: 7.70, End: 8.17, Velocity: 74\n",
            "Pitch: 1, Start: 8.20, End: 8.40, Velocity: 36\n",
            "Pitch: 1, Start: 16.57, End: 16.63, Velocity: 8\n",
            "Pitch: 1, Start: 16.73, End: 16.80, Velocity: 18\n",
            "Pitch: 1, Start: 16.97, End: 17.03, Velocity: 10\n",
            "Pitch: 1, Start: 17.17, End: 17.23, Velocity: 14\n",
            "Pitch: 1, Start: 17.27, End: 17.37, Velocity: 34\n",
            "Pitch: 1, Start: 17.57, End: 17.63, Velocity: 14\n",
            "Pitch: 1, Start: 18.13, End: 18.20, Velocity: 79\n",
            "Pitch: 1, Start: 18.87, End: 18.93, Velocity: 25\n",
            "Pitch: 1, Start: 19.07, End: 19.17, Velocity: 13\n",
            "Pitch: 1, Start: 19.40, End: 19.47, Velocity: 20\n",
            "Pitch: 1, Start: 19.57, End: 19.63, Velocity: 11\n",
            "Pitch: 1, Start: 19.67, End: 19.73, Velocity: 15\n",
            "Pitch: 1, Start: 20.33, End: 20.43, Velocity: 12\n",
            "Pitch: 1, Start: 21.27, End: 21.33, Velocity: 8\n",
            "Pitch: 2, Start: 4.37, End: 4.50, Velocity: 28\n",
            "Pitch: 2, Start: 4.53, End: 4.73, Velocity: 16\n",
            "Pitch: 2, Start: 4.87, End: 4.93, Velocity: 14\n",
            "Pitch: 2, Start: 4.97, End: 5.03, Velocity: 16\n",
            "Pitch: 2, Start: 5.27, End: 5.33, Velocity: 14\n",
            "Pitch: 2, Start: 5.67, End: 5.73, Velocity: 11\n",
            "Pitch: 2, Start: 5.83, End: 5.90, Velocity: 67\n",
            "Pitch: 2, Start: 6.23, End: 6.33, Velocity: 13\n",
            "Pitch: 2, Start: 6.57, End: 6.63, Velocity: 14\n",
            "Pitch: 2, Start: 6.77, End: 6.83, Velocity: 9\n",
            "Pitch: 2, Start: 6.93, End: 7.00, Velocity: 49\n",
            "Pitch: 2, Start: 7.10, End: 7.20, Velocity: 22\n",
            "Pitch: 2, Start: 7.37, End: 7.43, Velocity: 17\n",
            "Pitch: 2, Start: 7.57, End: 7.63, Velocity: 10\n",
            "Pitch: 2, Start: 7.97, End: 8.13, Velocity: 9\n",
            "Pitch: 2, Start: 8.13, End: 8.20, Velocity: 72\n",
            "Pitch: 2, Start: 16.97, End: 17.03, Velocity: 8\n",
            "Pitch: 3, Start: 4.30, End: 4.43, Velocity: 11\n",
            "Pitch: 3, Start: 4.63, End: 4.80, Velocity: 23\n",
            "Pitch: 3, Start: 4.83, End: 4.93, Velocity: 19\n",
            "Pitch: 3, Start: 4.97, End: 5.07, Velocity: 30\n",
            "Pitch: 3, Start: 5.27, End: 5.33, Velocity: 14\n",
            "Pitch: 3, Start: 5.37, End: 5.43, Velocity: 7\n",
            "Pitch: 3, Start: 5.67, End: 5.77, Velocity: 8\n",
            "Pitch: 3, Start: 5.83, End: 5.90, Velocity: 73\n",
            "Pitch: 3, Start: 6.13, End: 6.20, Velocity: 9\n",
            "Pitch: 3, Start: 6.23, End: 6.40, Velocity: 22\n",
            "Pitch: 3, Start: 6.47, End: 6.70, Velocity: 30\n",
            "Pitch: 3, Start: 6.83, End: 6.90, Velocity: 13\n",
            "Pitch: 3, Start: 6.93, End: 7.07, Velocity: 26\n",
            "Pitch: 3, Start: 7.10, End: 7.23, Velocity: 22\n",
            "Pitch: 3, Start: 7.27, End: 7.33, Velocity: 9\n",
            "Pitch: 3, Start: 7.37, End: 7.43, Velocity: 16\n",
            "Pitch: 3, Start: 7.57, End: 7.67, Velocity: 11\n",
            "Pitch: 3, Start: 8.00, End: 8.13, Velocity: 9\n",
            "Pitch: 3, Start: 17.27, End: 17.33, Velocity: 21\n",
            "Pitch: 4, Start: 4.27, End: 4.33, Velocity: 17\n",
            "Pitch: 4, Start: 4.37, End: 4.50, Velocity: 30\n",
            "Pitch: 4, Start: 4.53, End: 4.73, Velocity: 17\n",
            "Pitch: 4, Start: 4.77, End: 4.93, Velocity: 16\n",
            "Pitch: 4, Start: 4.97, End: 5.07, Velocity: 20\n",
            "Pitch: 4, Start: 5.27, End: 5.33, Velocity: 17\n",
            "Pitch: 4, Start: 5.37, End: 5.43, Velocity: 7\n",
            "Pitch: 4, Start: 5.57, End: 5.63, Velocity: 15\n",
            "Pitch: 4, Start: 5.67, End: 5.73, Velocity: 15\n",
            "Pitch: 4, Start: 5.83, End: 5.97, Velocity: 63\n",
            "Pitch: 4, Start: 6.10, End: 6.20, Velocity: 8\n",
            "Pitch: 4, Start: 6.23, End: 6.40, Velocity: 14\n",
            "Pitch: 4, Start: 6.47, End: 6.70, Velocity: 16\n",
            "Pitch: 4, Start: 6.77, End: 6.90, Velocity: 11\n",
            "Pitch: 4, Start: 6.93, End: 7.07, Velocity: 47\n",
            "Pitch: 4, Start: 7.10, End: 7.43, Velocity: 22\n",
            "Pitch: 4, Start: 7.57, End: 7.67, Velocity: 12\n",
            "Pitch: 4, Start: 7.70, End: 7.80, Velocity: 15\n",
            "Pitch: 4, Start: 7.83, End: 7.93, Velocity: 15\n",
            "Pitch: 4, Start: 7.97, End: 8.13, Velocity: 10\n",
            "Pitch: 4, Start: 8.13, End: 8.20, Velocity: 71\n",
            "Pitch: 4, Start: 16.97, End: 17.03, Velocity: 8\n",
            "Pitch: 4, Start: 17.17, End: 17.23, Velocity: 7\n",
            "Pitch: 4, Start: 17.27, End: 17.33, Velocity: 9\n",
            "Pitch: 5, Start: 4.30, End: 4.57, Velocity: 36\n",
            "Pitch: 5, Start: 4.63, End: 5.07, Velocity: 32\n",
            "Pitch: 5, Start: 5.17, End: 5.23, Velocity: 11\n",
            "Pitch: 5, Start: 5.27, End: 5.33, Velocity: 16\n",
            "Pitch: 5, Start: 5.37, End: 5.43, Velocity: 8\n",
            "Pitch: 5, Start: 5.67, End: 5.77, Velocity: 10\n",
            "Pitch: 5, Start: 5.80, End: 6.03, Velocity: 71\n",
            "Pitch: 5, Start: 6.13, End: 6.20, Velocity: 11\n",
            "Pitch: 5, Start: 6.23, End: 6.40, Velocity: 27\n",
            "Pitch: 5, Start: 6.47, End: 6.70, Velocity: 29\n",
            "Pitch: 5, Start: 6.77, End: 6.90, Velocity: 14\n",
            "Pitch: 5, Start: 6.93, End: 7.07, Velocity: 26\n",
            "Pitch: 5, Start: 7.10, End: 7.23, Velocity: 23\n",
            "Pitch: 5, Start: 7.27, End: 7.33, Velocity: 8\n",
            "Pitch: 5, Start: 7.37, End: 7.43, Velocity: 16\n",
            "Pitch: 5, Start: 7.57, End: 7.67, Velocity: 13\n",
            "Pitch: 5, Start: 7.73, End: 7.80, Velocity: 15\n",
            "Pitch: 5, Start: 7.83, End: 7.97, Velocity: 18\n",
            "Pitch: 5, Start: 8.00, End: 8.13, Velocity: 12\n",
            "Pitch: 5, Start: 17.27, End: 17.33, Velocity: 22\n",
            "Pitch: 5, Start: 19.67, End: 19.73, Velocity: 7\n",
            "Pitch: 6, Start: 4.27, End: 4.33, Velocity: 18\n",
            "Pitch: 6, Start: 4.37, End: 4.50, Velocity: 29\n",
            "Pitch: 6, Start: 4.53, End: 4.73, Velocity: 17\n",
            "Pitch: 6, Start: 4.83, End: 4.93, Velocity: 16\n",
            "Pitch: 6, Start: 4.97, End: 5.07, Velocity: 19\n",
            "Pitch: 6, Start: 5.20, End: 5.33, Velocity: 17\n",
            "Pitch: 6, Start: 5.37, End: 5.43, Velocity: 7\n",
            "Pitch: 6, Start: 5.57, End: 5.73, Velocity: 15\n",
            "Pitch: 6, Start: 5.83, End: 5.97, Velocity: 64\n",
            "Pitch: 6, Start: 6.10, End: 6.20, Velocity: 8\n",
            "Pitch: 6, Start: 6.23, End: 6.40, Velocity: 15\n",
            "Pitch: 6, Start: 6.43, End: 6.70, Velocity: 16\n",
            "Pitch: 6, Start: 6.77, End: 6.90, Velocity: 12\n",
            "Pitch: 6, Start: 6.93, End: 7.07, Velocity: 50\n",
            "Pitch: 6, Start: 7.10, End: 7.23, Velocity: 24\n",
            "Pitch: 6, Start: 7.33, End: 7.43, Velocity: 19\n",
            "Pitch: 6, Start: 7.53, End: 7.70, Velocity: 12\n",
            "Pitch: 6, Start: 7.73, End: 7.80, Velocity: 15\n",
            "Pitch: 6, Start: 7.83, End: 7.93, Velocity: 15\n",
            "Pitch: 6, Start: 7.97, End: 8.13, Velocity: 12\n",
            "Pitch: 6, Start: 8.13, End: 8.20, Velocity: 73\n",
            "Pitch: 6, Start: 16.97, End: 17.03, Velocity: 9\n",
            "Pitch: 6, Start: 17.17, End: 17.23, Velocity: 7\n",
            "Pitch: 6, Start: 17.27, End: 17.33, Velocity: 10\n",
            "Pitch: 6, Start: 19.67, End: 19.73, Velocity: 10\n",
            "Pitch: 7, Start: 4.37, End: 4.57, Velocity: 31\n",
            "Pitch: 7, Start: 4.63, End: 4.80, Velocity: 22\n",
            "Pitch: 7, Start: 4.83, End: 4.93, Velocity: 19\n",
            "Pitch: 7, Start: 4.97, End: 5.07, Velocity: 33\n",
            "Pitch: 7, Start: 5.17, End: 5.23, Velocity: 10\n",
            "Pitch: 7, Start: 5.27, End: 5.33, Velocity: 16\n",
            "Pitch: 7, Start: 5.37, End: 5.43, Velocity: 8\n",
            "Pitch: 7, Start: 5.70, End: 5.77, Velocity: 9\n",
            "Pitch: 7, Start: 5.80, End: 5.90, Velocity: 74\n",
            "Pitch: 7, Start: 6.13, End: 6.20, Velocity: 11\n",
            "Pitch: 7, Start: 6.23, End: 6.40, Velocity: 25\n",
            "Pitch: 7, Start: 6.47, End: 6.70, Velocity: 31\n",
            "Pitch: 7, Start: 6.83, End: 6.90, Velocity: 13\n",
            "Pitch: 7, Start: 6.93, End: 7.07, Velocity: 26\n",
            "Pitch: 7, Start: 7.10, End: 7.23, Velocity: 22\n",
            "Pitch: 7, Start: 7.27, End: 7.33, Velocity: 8\n",
            "Pitch: 7, Start: 7.37, End: 7.43, Velocity: 16\n",
            "Pitch: 7, Start: 7.53, End: 7.67, Velocity: 11\n",
            "Pitch: 7, Start: 7.73, End: 7.80, Velocity: 14\n",
            "Pitch: 7, Start: 8.00, End: 8.13, Velocity: 10\n",
            "Pitch: 7, Start: 17.27, End: 17.33, Velocity: 23\n",
            "Pitch: 8, Start: 4.37, End: 4.50, Velocity: 28\n",
            "Pitch: 8, Start: 4.53, End: 4.73, Velocity: 15\n",
            "Pitch: 8, Start: 4.87, End: 4.93, Velocity: 14\n",
            "Pitch: 8, Start: 4.97, End: 5.07, Velocity: 17\n",
            "Pitch: 8, Start: 5.27, End: 5.33, Velocity: 17\n",
            "Pitch: 8, Start: 5.67, End: 5.73, Velocity: 13\n",
            "Pitch: 8, Start: 5.83, End: 5.97, Velocity: 60\n",
            "Pitch: 8, Start: 6.23, End: 6.40, Velocity: 12\n",
            "Pitch: 8, Start: 6.47, End: 6.53, Velocity: 7\n",
            "Pitch: 8, Start: 6.57, End: 6.63, Velocity: 14\n",
            "Pitch: 8, Start: 6.77, End: 6.90, Velocity: 10\n",
            "Pitch: 8, Start: 6.93, End: 7.00, Velocity: 44\n",
            "Pitch: 8, Start: 7.10, End: 7.20, Velocity: 20\n",
            "Pitch: 8, Start: 7.33, End: 7.43, Velocity: 16\n",
            "Pitch: 8, Start: 7.57, End: 7.63, Velocity: 10\n",
            "Pitch: 8, Start: 7.97, End: 8.07, Velocity: 9\n",
            "Pitch: 8, Start: 8.13, End: 8.20, Velocity: 73\n",
            "Pitch: 8, Start: 16.97, End: 17.03, Velocity: 8\n",
            "Pitch: 8, Start: 17.17, End: 17.23, Velocity: 7\n",
            "Pitch: 8, Start: 17.27, End: 17.33, Velocity: 10\n",
            "Pitch: 9, Start: 4.37, End: 4.43, Velocity: 9\n",
            "Pitch: 9, Start: 4.67, End: 4.73, Velocity: 16\n",
            "Pitch: 9, Start: 4.87, End: 4.93, Velocity: 17\n",
            "Pitch: 9, Start: 4.97, End: 5.07, Velocity: 30\n",
            "Pitch: 9, Start: 5.27, End: 5.33, Velocity: 16\n",
            "Pitch: 9, Start: 5.83, End: 5.90, Velocity: 72\n",
            "Pitch: 9, Start: 6.23, End: 6.37, Velocity: 26\n",
            "Pitch: 9, Start: 6.93, End: 7.00, Velocity: 22\n",
            "Pitch: 9, Start: 7.10, End: 7.23, Velocity: 19\n",
            "Pitch: 9, Start: 7.37, End: 7.43, Velocity: 13\n",
            "Pitch: 9, Start: 8.03, End: 8.13, Velocity: 10\n",
            "Pitch: 9, Start: 17.27, End: 17.33, Velocity: 21\n",
            "Pitch: 10, Start: 4.37, End: 4.50, Velocity: 22\n",
            "Pitch: 10, Start: 4.67, End: 4.73, Velocity: 12\n",
            "Pitch: 10, Start: 4.87, End: 4.93, Velocity: 10\n",
            "Pitch: 10, Start: 4.97, End: 5.03, Velocity: 14\n",
            "Pitch: 10, Start: 5.27, End: 5.33, Velocity: 13\n",
            "Pitch: 10, Start: 5.67, End: 5.73, Velocity: 7\n",
            "Pitch: 10, Start: 5.83, End: 5.90, Velocity: 61\n",
            "Pitch: 10, Start: 6.57, End: 6.63, Velocity: 10\n",
            "Pitch: 10, Start: 7.10, End: 7.20, Velocity: 18\n",
            "Pitch: 10, Start: 7.37, End: 7.43, Velocity: 13\n",
            "Pitch: 10, Start: 16.97, End: 17.03, Velocity: 8\n",
            "Pitch: 10, Start: 17.17, End: 17.23, Velocity: 7\n",
            "Pitch: 10, Start: 17.27, End: 17.33, Velocity: 8\n",
            "Pitch: 11, Start: 4.97, End: 5.03, Velocity: 27\n",
            "Pitch: 11, Start: 7.37, End: 7.43, Velocity: 8\n",
            "Pitch: 11, Start: 9.07, End: 9.13, Velocity: 18\n",
            "Pitch: 12, Start: 4.67, End: 4.73, Velocity: 8\n",
            "Pitch: 12, Start: 4.87, End: 4.93, Velocity: 7\n",
            "Pitch: 12, Start: 4.97, End: 5.03, Velocity: 9\n",
            "Pitch: 12, Start: 8.77, End: 8.83, Velocity: 8\n",
            "Pitch: 12, Start: 8.97, End: 9.03, Velocity: 7\n",
            "Pitch: 12, Start: 9.07, End: 9.13, Velocity: 9\n",
            "Pitch: 13, Start: 9.07, End: 9.13, Velocity: 22\n",
            "Pitch: 14, Start: 8.77, End: 8.83, Velocity: 10\n",
            "Pitch: 14, Start: 8.97, End: 9.03, Velocity: 8\n",
            "Pitch: 14, Start: 9.07, End: 9.13, Velocity: 11\n",
            "Pitch: 14, Start: 11.47, End: 11.53, Velocity: 10\n",
            "Pitch: 15, Start: 9.07, End: 9.13, Velocity: 24\n",
            "Pitch: 16, Start: 8.77, End: 8.83, Velocity: 8\n",
            "Pitch: 16, Start: 8.97, End: 9.03, Velocity: 8\n",
            "Pitch: 16, Start: 9.07, End: 9.13, Velocity: 10\n",
            "Pitch: 17, Start: 9.07, End: 9.13, Velocity: 21\n",
            "Pitch: 17, Start: 11.47, End: 11.53, Velocity: 7\n",
            "Pitch: 18, Start: 8.77, End: 8.83, Velocity: 9\n",
            "Pitch: 18, Start: 8.97, End: 9.03, Velocity: 7\n",
            "Pitch: 18, Start: 9.07, End: 9.13, Velocity: 9\n",
            "Pitch: 19, Start: 9.07, End: 9.13, Velocity: 21\n",
            "Pitch: 20, Start: 8.77, End: 8.83, Velocity: 9\n",
            "Pitch: 20, Start: 8.97, End: 9.03, Velocity: 8\n",
            "Pitch: 20, Start: 9.07, End: 9.13, Velocity: 10\n",
            "Pitch: 20, Start: 11.47, End: 11.53, Velocity: 11\n",
            "Pitch: 21, Start: 9.07, End: 9.13, Velocity: 23\n",
            "Pitch: 21, Start: 11.47, End: 11.53, Velocity: 9\n",
            "Pitch: 22, Start: 8.77, End: 8.83, Velocity: 11\n",
            "Pitch: 22, Start: 8.97, End: 9.03, Velocity: 9\n",
            "Pitch: 22, Start: 9.07, End: 9.13, Velocity: 11\n",
            "Pitch: 22, Start: 11.47, End: 11.53, Velocity: 12\n",
            "Pitch: 23, Start: 9.07, End: 9.13, Velocity: 25\n",
            "Pitch: 23, Start: 9.37, End: 9.43, Velocity: 9\n",
            "Pitch: 23, Start: 11.47, End: 11.53, Velocity: 10\n",
            "Pitch: 24, Start: 8.77, End: 8.83, Velocity: 11\n",
            "Pitch: 24, Start: 8.97, End: 9.03, Velocity: 9\n",
            "Pitch: 24, Start: 9.07, End: 9.13, Velocity: 13\n",
            "Pitch: 24, Start: 9.37, End: 9.43, Velocity: 11\n",
            "Pitch: 24, Start: 11.47, End: 11.53, Velocity: 12\n",
            "Pitch: 25, Start: 9.07, End: 9.13, Velocity: 24\n",
            "Pitch: 25, Start: 9.37, End: 9.43, Velocity: 10\n",
            "Pitch: 25, Start: 11.47, End: 11.53, Velocity: 8\n",
            "Pitch: 26, Start: 8.77, End: 8.83, Velocity: 9\n",
            "Pitch: 26, Start: 8.97, End: 9.03, Velocity: 8\n",
            "Pitch: 26, Start: 9.07, End: 9.13, Velocity: 11\n",
            "Pitch: 26, Start: 11.47, End: 11.53, Velocity: 10\n",
            "Pitch: 28, Start: 21.07, End: 21.13, Velocity: 6\n",
            "Pitch: 29, Start: 21.37, End: 21.43, Velocity: 18\n",
            "Pitch: 30, Start: 21.07, End: 21.13, Velocity: 7\n",
            "Pitch: 32, Start: 21.07, End: 21.13, Velocity: 6\n",
            "Pitch: 36, Start: 16.97, End: 17.03, Velocity: 7\n",
            "Pitch: 37, Start: 17.27, End: 17.33, Velocity: 18\n",
            "Pitch: 38, Start: 16.97, End: 17.03, Velocity: 8\n",
            "Pitch: 38, Start: 17.17, End: 17.23, Velocity: 7\n",
            "Pitch: 38, Start: 17.27, End: 17.33, Velocity: 8\n",
            "Pitch: 39, Start: 17.27, End: 17.33, Velocity: 20\n",
            "Pitch: 40, Start: 16.97, End: 17.03, Velocity: 8\n",
            "Pitch: 40, Start: 17.17, End: 17.23, Velocity: 7\n",
            "Pitch: 40, Start: 17.27, End: 17.33, Velocity: 9\n",
            "Pitch: 41, Start: 17.27, End: 17.33, Velocity: 21\n",
            "Pitch: 41, Start: 19.67, End: 19.73, Velocity: 7\n",
            "Pitch: 42, Start: 16.97, End: 17.03, Velocity: 9\n",
            "Pitch: 42, Start: 17.17, End: 17.23, Velocity: 8\n",
            "Pitch: 42, Start: 17.27, End: 17.33, Velocity: 9\n",
            "Pitch: 43, Start: 17.27, End: 17.33, Velocity: 21\n",
            "Pitch: 44, Start: 16.97, End: 17.03, Velocity: 9\n",
            "Pitch: 44, Start: 17.17, End: 17.23, Velocity: 8\n",
            "Pitch: 44, Start: 17.27, End: 17.33, Velocity: 11\n",
            "Pitch: 44, Start: 19.67, End: 19.73, Velocity: 11\n",
            "Pitch: 45, Start: 17.27, End: 17.33, Velocity: 24\n",
            "Pitch: 45, Start: 19.67, End: 19.73, Velocity: 9\n",
            "Pitch: 46, Start: 16.97, End: 17.03, Velocity: 10\n",
            "Pitch: 46, Start: 17.17, End: 17.23, Velocity: 9\n",
            "Pitch: 46, Start: 17.27, End: 17.33, Velocity: 11\n",
            "Pitch: 46, Start: 19.67, End: 19.73, Velocity: 11\n",
            "Pitch: 47, Start: 17.27, End: 17.33, Velocity: 24\n",
            "Pitch: 48, Start: 16.97, End: 17.03, Velocity: 7\n",
            "Pitch: 48, Start: 17.17, End: 17.23, Velocity: 6\n",
            "Pitch: 48, Start: 17.27, End: 17.33, Velocity: 8\n",
            "Pitch: 58, Start: 8.77, End: 8.83, Velocity: 7\n",
            "Pitch: 60, Start: 8.77, End: 8.83, Velocity: 6\n",
            "Pitch: 62, Start: 8.77, End: 8.83, Velocity: 7\n",
            "Pitch: 72, Start: 21.07, End: 21.13, Velocity: 6\n",
            "Pitch: 74, Start: 21.07, End: 21.13, Velocity: 8\n",
            "Pitch: 76, Start: 21.07, End: 21.13, Velocity: 7\n",
            "Pitch: 77, Start: 21.37, End: 21.43, Velocity: 19\n",
            "Pitch: 78, Start: 21.07, End: 21.13, Velocity: 7\n",
            "Pitch: 80, Start: 12.87, End: 12.93, Velocity: 6\n",
            "Pitch: 81, Start: 13.17, End: 13.23, Velocity: 20\n",
            "Pitch: 82, Start: 12.87, End: 12.93, Velocity: 8\n",
            "Pitch: 83, Start: 17.27, End: 17.33, Velocity: 19\n",
            "Pitch: 84, Start: 16.97, End: 17.03, Velocity: 7\n",
            "Pitch: 85, Start: 17.27, End: 17.33, Velocity: 21\n",
            "Pitch: 86, Start: 16.97, End: 17.03, Velocity: 8\n",
            "Pitch: 86, Start: 17.17, End: 17.23, Velocity: 7\n",
            "Pitch: 86, Start: 17.27, End: 17.33, Velocity: 9\n",
            "Pitch: 87, Start: 17.27, End: 17.33, Velocity: 21\n",
            "Pitch: 88, Start: 16.97, End: 17.03, Velocity: 7\n",
            "Pitch: 88, Start: 17.27, End: 17.33, Velocity: 8\n",
            "Pitch: 90, Start: 4.67, End: 4.73, Velocity: 8\n",
            "Pitch: 90, Start: 16.97, End: 17.03, Velocity: 6\n",
            "Pitch: 91, Start: 4.97, End: 5.03, Velocity: 20\n",
            "Pitch: 92, Start: 4.67, End: 4.73, Velocity: 9\n",
            "Pitch: 92, Start: 4.87, End: 4.93, Velocity: 7\n",
            "Pitch: 92, Start: 4.97, End: 5.03, Velocity: 9\n",
            "Pitch: 93, Start: 4.97, End: 5.03, Velocity: 21\n",
            "Pitch: 94, Start: 4.67, End: 4.73, Velocity: 8\n",
            "Pitch: 94, Start: 4.87, End: 4.93, Velocity: 7\n",
            "Pitch: 94, Start: 4.97, End: 5.03, Velocity: 10\n",
            "Pitch: 95, Start: 4.97, End: 5.03, Velocity: 23\n",
            "Pitch: 96, Start: 4.67, End: 4.73, Velocity: 7\n",
            "Pitch: 96, Start: 4.97, End: 5.03, Velocity: 8\n",
            "Pitch: 97, Start: 4.97, End: 5.03, Velocity: 19\n",
            "Pitch: 112, Start: 12.87, End: 12.93, Velocity: 7\n",
            "Pitch: 112, Start: 13.17, End: 13.23, Velocity: 8\n",
            "Pitch: 112, Start: 16.97, End: 17.03, Velocity: 6\n",
            "Pitch: 113, Start: 13.17, End: 13.23, Velocity: 21\n",
            "Pitch: 113, Start: 17.27, End: 17.33, Velocity: 19\n",
            "Pitch: 114, Start: 12.87, End: 12.93, Velocity: 9\n",
            "Pitch: 114, Start: 13.07, End: 13.13, Velocity: 7\n",
            "Pitch: 114, Start: 13.17, End: 13.23, Velocity: 10\n",
            "Pitch: 114, Start: 16.97, End: 17.03, Velocity: 8\n",
            "Pitch: 115, Start: 13.17, End: 13.23, Velocity: 22\n",
            "Pitch: 116, Start: 12.87, End: 12.93, Velocity: 8\n",
            "Pitch: 116, Start: 13.07, End: 13.13, Velocity: 8\n",
            "Pitch: 116, Start: 13.17, End: 13.23, Velocity: 10\n",
            "Pitch: 116, Start: 16.97, End: 17.03, Velocity: 8\n",
            "Pitch: 116, Start: 17.17, End: 17.23, Velocity: 6\n",
            "Pitch: 116, Start: 17.27, End: 17.33, Velocity: 9\n",
            "Pitch: 117, Start: 13.17, End: 13.23, Velocity: 22\n",
            "Pitch: 117, Start: 17.27, End: 17.33, Velocity: 21\n",
            "Pitch: 118, Start: 12.87, End: 12.93, Velocity: 7\n",
            "Pitch: 118, Start: 16.97, End: 17.03, Velocity: 9\n",
            "Pitch: 118, Start: 17.17, End: 17.23, Velocity: 7\n",
            "Pitch: 118, Start: 17.27, End: 17.33, Velocity: 10\n",
            "Pitch: 119, Start: 17.27, End: 17.33, Velocity: 23\n",
            "Pitch: 120, Start: 16.97, End: 17.03, Velocity: 9\n",
            "Pitch: 120, Start: 17.17, End: 17.23, Velocity: 8\n",
            "Pitch: 120, Start: 17.27, End: 17.33, Velocity: 11\n",
            "Pitch: 120, Start: 19.67, End: 19.73, Velocity: 10\n",
            "Pitch: 121, Start: 17.27, End: 17.33, Velocity: 23\n",
            "Pitch: 121, Start: 19.67, End: 19.73, Velocity: 9\n",
            "Pitch: 122, Start: 16.97, End: 17.03, Velocity: 10\n",
            "Pitch: 122, Start: 17.17, End: 17.23, Velocity: 9\n",
            "Pitch: 122, Start: 17.27, End: 17.33, Velocity: 11\n",
            "Pitch: 122, Start: 19.67, End: 19.73, Velocity: 11\n",
            "Pitch: 123, Start: 17.27, End: 17.33, Velocity: 23\n",
            "Pitch: 124, Start: 16.97, End: 17.03, Velocity: 8\n",
            "Pitch: 124, Start: 17.17, End: 17.23, Velocity: 7\n",
            "Pitch: 124, Start: 17.27, End: 17.33, Velocity: 10\n",
            "Pitch: 125, Start: 17.27, End: 17.33, Velocity: 22\n",
            "Pitch: 126, Start: 16.97, End: 17.03, Velocity: 8\n",
            "Pitch: 126, Start: 17.17, End: 17.23, Velocity: 6\n",
            "Pitch: 126, Start: 17.27, End: 17.33, Velocity: 8\n"
          ]
        }
      ]
    },
    {
      "cell_type": "code",
      "source": [
        "import torch\n",
        "import torch.nn as nn\n",
        "\n",
        "class GeneratorLSTM(nn.Module):\n",
        "    def __init__(self, latent_dim, seq_len, num_features):\n",
        "        super().__init__()\n",
        "        self.seq_len = seq_len\n",
        "        self.num_features = num_features\n",
        "\n",
        "        # Fully connected layers to transform latent vector\n",
        "        self.linear = nn.Sequential(\n",
        "            nn.Linear(latent_dim, 256),\n",
        "            nn.ReLU(),\n",
        "            nn.Linear(256, 512),\n",
        "            nn.ReLU(),\n",
        "            nn.Linear(512, seq_len * 128),  # Project to match LSTM input\n",
        "            nn.Tanh()\n",
        "        )\n",
        "\n",
        "        # LSTM to capture time dependencies\n",
        "        self.lstm = nn.LSTM(input_size=128, hidden_size=128, num_layers=2, batch_first=True)\n",
        "\n",
        "        # Convolutional layers to refine output (no permute needed)\n",
        "        self.conv_block = nn.Sequential(\n",
        "            nn.ConvTranspose1d(128, 64, kernel_size=4, stride=2, padding=1),\n",
        "            nn.ReLU(),\n",
        "            nn.BatchNorm1d(64),\n",
        "            nn.ConvTranspose1d(64, num_features, kernel_size=4, stride=1, padding=1),\n",
        "            nn.Tanh()\n",
        "        )\n",
        "\n",
        "    def forward(self, z):\n",
        "        batch_size = z.size(0)\n",
        "\n",
        "        # Pass through linear layers\n",
        "        x = self.linear(z)  # Shape: (batch, seq_len * 128)\n",
        "        x = x.view(batch_size, self.seq_len, 128)  # Reshape to LSTM format\n",
        "\n",
        "        # LSTM forward pass\n",
        "        x, _ = self.lstm(x)  # Output: (batch, seq_len, 128)\n",
        "\n",
        "        # Reshape directly for Conv1D (batch, 128, seq_len)\n",
        "        x = x.transpose(1, 2)  # Swap seq_len and features to match Conv1D format\n",
        "\n",
        "        # Pass through convolutional layers\n",
        "        x = self.conv_block(x)  # Output: (batch, num_features, seq_len)\n",
        "\n",
        "        return x\n"
      ],
      "metadata": {
        "id": "2BsiIKkfL90L"
      },
      "execution_count": null,
      "outputs": []
    },
    {
      "cell_type": "code",
      "source": [
        "latent_dim = 256\n",
        "generatorlstm = GeneratorLSTM(latent_dim=latent_dim,seq_len=1000,num_features=131).to(device).float()\n",
        "discriminator = Discriminator(num_features=131,seq_len=1000).to(device).float()"
      ],
      "metadata": {
        "id": "Wo0l5eq8MBit"
      },
      "execution_count": null,
      "outputs": []
    },
    {
      "cell_type": "code",
      "source": [
        "from torch.optim import Adam\n",
        "\n",
        "optimizer_G = Adam(generatorlstm.parameters(),lr=0.0002)\n",
        "optimizer_D = Adam(discriminator.parameters(),lr=0.00005)\n",
        "\n",
        "loss_fn = nn.BCELoss()"
      ],
      "metadata": {
        "id": "pUWTwBGqMcxE"
      },
      "execution_count": null,
      "outputs": []
    },
    {
      "cell_type": "code",
      "source": [
        "d_losses,g_losses = [],[]\n",
        "num_epochs = 3\n",
        "\n",
        "for epoch in range(num_epochs):\n",
        "  print(f\"Epoch: {epoch+1}\\n-------------------\")\n",
        "  d_loss,g_loss = train_step(generatorlstm,\n",
        "             discriminator,\n",
        "             optimizer_D,\n",
        "             optimizer_G,\n",
        "             loss_fn,\n",
        "             device,\n",
        "             train_dataloader,\n",
        "             latent_dim)\n",
        "\n",
        "  d_losses.append(d_loss)\n",
        "  g_losses.append(g_loss)\n",
        "  print(f\"Epoch {epoch+1}/{num_epochs} - D Loss: {d_loss:.4f} | G Loss: {g_loss:.4f}\")"
      ],
      "metadata": {
        "id": "GdybmbCSMdQE"
      },
      "execution_count": null,
      "outputs": []
    }
  ]
}